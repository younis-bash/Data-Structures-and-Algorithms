{
 "cells": [
  {
   "attachments": {},
   "cell_type": "markdown",
   "metadata": {},
   "source": [
    "## 953. **Verifying an Alien Dictionary**\n"
   ]
  },
  {
   "attachments": {},
   "cell_type": "markdown",
   "metadata": {},
   "source": [
    "In an alien language, surprisingly, they also use English lowercase letters, but possibly in a different `order`. The `order` of the alphabet is some permutation of lowercase letters.\n",
    "\n"
   ]
  },
  {
   "attachments": {},
   "cell_type": "markdown",
   "metadata": {},
   "source": [
    "Given a sequence of `words` written in the alien language, and the `order` of the alphabet, return `true` if and only if the given `words` are sorted lexicographically in this alien language.\n",
    "\n"
   ]
  },
  {
   "attachments": {},
   "cell_type": "markdown",
   "metadata": {},
   "source": [
    "**Example 1:**\n",
    "\n"
   ]
  },
  {
   "attachments": {},
   "cell_type": "markdown",
   "metadata": {},
   "source": [
    "- **Input**: words = [\"hello\",\"leetcode\"], order = \"hlabcdefgijkmnopqrstuvwxyz\"\n",
    "\n",
    "- **Output**: true\n",
    "\n",
    "- **Explanation**: As 'h' comes before 'l' in this language, then the sequence is sorted."
   ]
  },
  {
   "attachments": {},
   "cell_type": "markdown",
   "metadata": {},
   "source": [
    "**Example 2:**\n",
    "\n"
   ]
  },
  {
   "attachments": {},
   "cell_type": "markdown",
   "metadata": {},
   "source": [
    "- **Input**: words = [\"word\",\"world\",\"row\"], order = \"worldabcefghijkmnpqstuvxyz\"\n",
    "\n",
    "- **Output**: false\n",
    "\n",
    "- **Explanation**: As 'd' comes after 'l' in this language, then words[0] > words[1], hence the sequence is unsorted."
   ]
  },
  {
   "attachments": {},
   "cell_type": "markdown",
   "metadata": {},
   "source": [
    "**Example 3:**"
   ]
  },
  {
   "attachments": {},
   "cell_type": "markdown",
   "metadata": {},
   "source": [
    "- **Input**: words = [\"apple\",\"app\"], order = \"abcdefghijklmnopqrstuvwxyz\"\n",
    "\n",
    "- **Output**: false\n",
    "\n",
    "- **Explanation**: The first three characters \"app\" match, and the second string is shorter (in size.) According to lexicographical rules \"apple\" > \"app\", because 'l' > '∅', where '∅' is defined as the blank character which is less than any other character (More info)."
   ]
  },
  {
   "attachments": {},
   "cell_type": "markdown",
   "metadata": {},
   "source": [
    "**Constraints:**\n",
    "\n"
   ]
  },
  {
   "attachments": {},
   "cell_type": "markdown",
   "metadata": {},
   "source": [
    "- `1 <= words.length <= 100`\n",
    "\n",
    "- `1 <= words[i].length <= 20`\n",
    "\n",
    "- `order.length == 26`\n",
    "\n",
    "- All characters in `words[i]` and `order` are English lowercase letters."
   ]
  },
  {
   "cell_type": "code",
   "execution_count": 2,
   "metadata": {},
   "outputs": [],
   "source": [
    "class Solution(object):\n",
    "    def isAlienSorted(self, words, order):\n",
    "        \"\"\"\n",
    "        :type words: List[str]\n",
    "        :type order: str\n",
    "        :rtype: bool\n",
    "        \"\"\"\n",
    "\n",
    "        hash_order = {c: i for i, c in enumerate(order)}\n",
    "\n",
    "        for j in range(len(words) - 1):\n",
    "            word1, word2 = words[j], words[j+1]\n",
    "            for char in range(len(word1)):\n",
    "\n",
    "                if char == len(word2):\n",
    "                    return False\n",
    "                \n",
    "                if word1[char] != word2[char]:\n",
    "                    if hash_order[word1[char]] > hash_order[word2[char]]:\n",
    "                        return False\n",
    "                    break\n",
    "        return True\n"
   ]
  },
  {
   "cell_type": "code",
   "execution_count": 3,
   "metadata": {},
   "outputs": [
    {
     "name": "stdout",
     "output_type": "stream",
     "text": [
      "True\n",
      "False\n",
      "True\n"
     ]
    }
   ],
   "source": [
    "sol = Solution()\n",
    "print(sol.isAlienSorted(\n",
    "    words=[\"hello\", \"leetcode\"], order=\"hlabcdefgijkmnopqrstuvwxyz\"))\n",
    "print(sol.isAlienSorted(words=[\"fxasxpc\", \"dfbdrifhp\", \"nwzgs\", \"cmwqriv\", \"ebulyfyve\", \"miracx\", \"sxckdwzv\", \"dtijzluhts\", \"wwbmnge\", \"qmjwymmyox\"],\n",
    "                        order=\"zkgwaverfimqxbnctdplsjyohu\"\n",
    "                        ))\n",
    "print(sol.isAlienSorted(words=[\"hello\", \"hello\"],\n",
    "      order=\"hlabcdefgijkmnopqrstuvwxyz\"))\n"
   ]
  },
  {
   "cell_type": "code",
   "execution_count": null,
   "metadata": {},
   "outputs": [],
   "source": []
  }
 ],
 "metadata": {
  "kernelspec": {
   "display_name": "Python 3",
   "language": "python",
   "name": "python3"
  },
  "language_info": {
   "codemirror_mode": {
    "name": "ipython",
    "version": 3
   },
   "file_extension": ".py",
   "mimetype": "text/x-python",
   "name": "python",
   "nbconvert_exporter": "python",
   "pygments_lexer": "ipython3",
   "version": "3.10.6"
  },
  "orig_nbformat": 4
 },
 "nbformat": 4,
 "nbformat_minor": 2
}
