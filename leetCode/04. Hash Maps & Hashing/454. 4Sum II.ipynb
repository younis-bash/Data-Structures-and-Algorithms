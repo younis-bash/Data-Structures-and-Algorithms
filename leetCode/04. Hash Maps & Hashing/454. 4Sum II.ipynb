{
 "cells": [
  {
   "attachments": {},
   "cell_type": "markdown",
   "metadata": {},
   "source": [
    "## **454. 4Sum II**\n"
   ]
  },
  {
   "attachments": {},
   "cell_type": "markdown",
   "metadata": {},
   "source": [
    "Given four integer arrays `nums1`, `nums2`, `nums3`, and `nums4` all of length `n`, return the number of tuples `(i, j, k, l)` such that:\n",
    "\n"
   ]
  },
  {
   "attachments": {},
   "cell_type": "markdown",
   "metadata": {},
   "source": [
    "* `0 <= i, j, k, l < n`\n",
    "\n",
    "* `nums1[i] + nums2[j] + nums3[k] + nums4[l] == 0`"
   ]
  },
  {
   "attachments": {},
   "cell_type": "markdown",
   "metadata": {},
   "source": [
    "**Example 1:**"
   ]
  },
  {
   "attachments": {},
   "cell_type": "markdown",
   "metadata": {},
   "source": [
    "* **Input**: nums1 = [1,2], nums2 = [-2,-1], nums3 = [-1,2], nums4 = [0,2]\n",
    "\n",
    "* **Output**: 2\n",
    "\n",
    "* **Explanation**:\n",
    "\n",
    "The two tuples are: <br>\n",
    "\n",
    "1. (0, 0, 0, 1) -> nums1[0] + nums2[0] + nums3[0] + nums4[1] = 1 + (-2) + (-1) + 2 = 0\n",
    "\n",
    "2. (1, 1, 0, 0) -> nums1[1] + nums2[1] + nums3[0] + nums4[0] = 2 + (-1) + (-1) + 0 = 0"
   ]
  },
  {
   "attachments": {},
   "cell_type": "markdown",
   "metadata": {},
   "source": [
    "**Example 2:**\n",
    "\n",
    "\n",
    "* **Input**: nums1 = [0], nums2 = [0], nums3 = [0], nums4 = [0]\n",
    "\n",
    "* **Output**: 1"
   ]
  },
  {
   "attachments": {},
   "cell_type": "markdown",
   "metadata": {},
   "source": [
    "**Constraints**:\n",
    "\n",
    "- `n == nums1.length`\n",
    "\n",
    "- `n == nums2.length`\n",
    "\n",
    "- `n == nums3.length`\n",
    "\n",
    "- `n == nums4.length`\n",
    "\n",
    "- `1 <= n <= 200`\n",
    "\n",
    "- `-228 <= nums1[i], nums2[i], nums3[i], nums4[i] <= 228`"
   ]
  },
  {
   "cell_type": "code",
   "execution_count": 50,
   "metadata": {},
   "outputs": [],
   "source": [
    "class Solution(object):\n",
    "    def fourSumCount(self, nums1, nums2, nums3, nums4):\n",
    "        \"\"\"\n",
    "        :type nums1: List[int]\n",
    "        :type nums2: List[int]\n",
    "        :type nums3: List[int]\n",
    "        :type nums4: List[int]\n",
    "        :rtype: int\n",
    "        \"\"\"\n",
    "        n = len(nums1)\n",
    "        a_map = {}\n",
    "        for i in range(n):\n",
    "            for j in range(n):\n",
    "                t = nums1[i] + nums2[j]\n",
    "                a_map[t] = a_map.get(t, 0) + 1\n",
    "        cnt = 0\n",
    "        for i in range(n):\n",
    "            for j in range(n):\n",
    "                t = nums3[i] + nums4[j]\n",
    "                if -t in a_map:\n",
    "                    cnt += a_map[-t]\n",
    "\n",
    "        return cnt\n"
   ]
  },
  {
   "cell_type": "code",
   "execution_count": 51,
   "metadata": {},
   "outputs": [
    {
     "name": "stdout",
     "output_type": "stream",
     "text": [
      "2\n"
     ]
    }
   ],
   "source": [
    "sol=Solution()\n",
    "print(sol.fourSumCount(nums1 = [1,2], nums2 = [-2,-1], nums3 = [-1,2], nums4 = [0,2]))"
   ]
  },
  {
   "cell_type": "code",
   "execution_count": null,
   "metadata": {},
   "outputs": [],
   "source": []
  }
 ],
 "metadata": {
  "kernelspec": {
   "display_name": "Python 3",
   "language": "python",
   "name": "python3"
  },
  "language_info": {
   "codemirror_mode": {
    "name": "ipython",
    "version": 3
   },
   "file_extension": ".py",
   "mimetype": "text/x-python",
   "name": "python",
   "nbconvert_exporter": "python",
   "pygments_lexer": "ipython3",
   "version": "3.10.6"
  },
  "orig_nbformat": 4
 },
 "nbformat": 4,
 "nbformat_minor": 2
}
