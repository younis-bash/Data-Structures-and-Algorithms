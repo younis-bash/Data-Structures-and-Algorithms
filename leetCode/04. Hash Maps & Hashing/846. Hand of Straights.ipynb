{
 "cells": [
  {
   "attachments": {},
   "cell_type": "markdown",
   "metadata": {},
   "source": [
    "## **846. Hand of Straights**\n"
   ]
  },
  {
   "attachments": {},
   "cell_type": "markdown",
   "metadata": {},
   "source": [
    "## heap"
   ]
  },
  {
   "attachments": {},
   "cell_type": "markdown",
   "metadata": {},
   "source": [
    "Alice has some number of cards and she wants to rearrange the cards into groups so that each group is of size `groupSize`, and consists of `groupSize` consecutive cards.\n",
    "\n"
   ]
  },
  {
   "attachments": {},
   "cell_type": "markdown",
   "metadata": {},
   "source": [
    "Given an integer array hand where `hand[i]` is the value written on the ith card and an integer groupSize, return true if she can rearrange the cards, or false otherwise.\n",
    "\n"
   ]
  },
  {
   "attachments": {},
   "cell_type": "markdown",
   "metadata": {},
   "source": [
    "**Example 1:**\n",
    "\n"
   ]
  },
  {
   "attachments": {},
   "cell_type": "markdown",
   "metadata": {},
   "source": [
    "- **Input**: hand = [1,2,3,6,2,3,4,7,8], groupSize = 3\n",
    "\n",
    "- **Output**: true\n",
    "\n",
    "- **Explanation**: Alice's hand can be rearranged as [1,2,3],[2,3,4],[6,7,8]"
   ]
  },
  {
   "attachments": {},
   "cell_type": "markdown",
   "metadata": {},
   "source": [
    "**Example 2:**\n",
    "\n"
   ]
  },
  {
   "attachments": {},
   "cell_type": "markdown",
   "metadata": {},
   "source": [
    "- **Input**: hand = [1,2,3,4,5], groupSize = 4\n",
    "\n",
    "- **Output**: false\n",
    "\n",
    "- **Explanation**: Alice's hand can not be rearranged into groups of 4."
   ]
  },
  {
   "attachments": {},
   "cell_type": "markdown",
   "metadata": {},
   "source": [
    "**Constraints**:\n",
    "\n",
    "- `1 <= hand.length <= 104`\n",
    "\n",
    "- `0 <= hand[i] <= 109`\n",
    "\n",
    "- `1 <= groupSize <= hand.length`"
   ]
  },
  {
   "cell_type": "code",
   "execution_count": 23,
   "metadata": {},
   "outputs": [],
   "source": [
    "import collections\n",
    "import heapq\n",
    "\n",
    "class Solution(object):\n",
    "    def isNStraightHand(self, hand, groupSize):\n",
    "        \"\"\"\n",
    "        :type hand: List[int]\n",
    "        :type groupSize: int\n",
    "        :rtype: bool\n",
    "        \"\"\"\n",
    "        if len(hand) % groupSize != 0 : \n",
    "            return False\n",
    "\n",
    "        hand_count = collections.Counter(hand)\n",
    "        minH= heapq.heapify(list(hand_count.keys()))\n",
    "        print(minH)"
   ]
  },
  {
   "cell_type": "code",
   "execution_count": 24,
   "metadata": {},
   "outputs": [
    {
     "name": "stdout",
     "output_type": "stream",
     "text": [
      "None\n"
     ]
    }
   ],
   "source": [
    "sol=Solution()\n",
    "sol.isNStraightHand(hand = [1,2,3,6,2,3,4,7,8], groupSize = 3)"
   ]
  },
  {
   "cell_type": "code",
   "execution_count": null,
   "metadata": {},
   "outputs": [],
   "source": []
  }
 ],
 "metadata": {
  "kernelspec": {
   "display_name": "Python 3",
   "language": "python",
   "name": "python3"
  },
  "language_info": {
   "codemirror_mode": {
    "name": "ipython",
    "version": 3
   },
   "file_extension": ".py",
   "mimetype": "text/x-python",
   "name": "python",
   "nbconvert_exporter": "python",
   "pygments_lexer": "ipython3",
   "version": "3.10.6"
  },
  "orig_nbformat": 4
 },
 "nbformat": 4,
 "nbformat_minor": 2
}
