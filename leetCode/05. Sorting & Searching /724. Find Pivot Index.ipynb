{
 "cells": [
  {
   "attachments": {},
   "cell_type": "markdown",
   "metadata": {},
   "source": [
    "## 724. Find Pivot Index\n",
    "\n",
    "Given an array of integers `nums`, calculate the **pivot index** of this array.\n",
    "\n",
    "The **pivot index** is the index where the sum of all the numbers **strictly** to the left of the index is equal to the sum of all the numbers strictly to the index's right.\n",
    "\n",
    "If the index is on the left edge of the array, then the left sum is `0` because there are no elements to the left. This also applies to the right edge of the array.\n",
    "\n",
    "Return the leftmost pivot index. If no such index exists, return `-1`.\n",
    "\n",
    "\n",
    "**Example 1:**\n",
    "\n",
    "- **Input**: nums = [1,7,3,6,5,6]\n",
    "- **Output**: 3\n",
    "- **Explanation**:\n",
    "The pivot index is 3.\n",
    "Left sum = nums[0] + nums[1] + nums[2] = 1 + 7 + 3 = 11\n",
    "Right sum = nums[4] + nums[5] = 5 + 6 = 11\n",
    "\n",
    "**Example 2:**\n",
    "\n",
    "- **Input**: nums = [1,2,3]\n",
    "- **Output**: -1\n",
    "- **Explanation**:\n",
    "There is no index that satisfies the conditions in the problem statement.\n",
    "**Example 3:**\n",
    "\n",
    "- **Input**: nums = [2,1,-1]\n",
    "- **Output**: 0\n",
    "- **Explanation**:\n",
    "The pivot index is 0.\n",
    "Left sum = 0 (no elements to the left of index 0)\n",
    "Right sum = nums[1] + nums[2] = 1 + -1 = 0"
   ]
  },
  {
   "cell_type": "code",
   "execution_count": 1,
   "metadata": {},
   "outputs": [],
   "source": [
    "class Solution(object):\n",
    "    def pivotIndex(self, nums):\n",
    "        \"\"\"\n",
    "        :type nums: List[int]\n",
    "        :rtype: int\n",
    "        \"\"\"\n",
    "        left , right = 0 , sum(nums)\n",
    "\n",
    "        for i in range(len(nums)):\n",
    "            right -=nums[i]\n",
    "            if left == right : \n",
    "                return i\n",
    "            left += nums[i]\n",
    "        return -1"
   ]
  }
 ],
 "metadata": {
  "kernelspec": {
   "display_name": "Python 3",
   "language": "python",
   "name": "python3"
  },
  "language_info": {
   "codemirror_mode": {
    "name": "ipython",
    "version": 3
   },
   "file_extension": ".py",
   "mimetype": "text/x-python",
   "name": "python",
   "nbconvert_exporter": "python",
   "pygments_lexer": "ipython3",
   "version": "3.8.10"
  },
  "orig_nbformat": 4,
  "vscode": {
   "interpreter": {
    "hash": "e7370f93d1d0cde622a1f8e1c04877d8463912d04d973331ad4851f04de6915a"
   }
  }
 },
 "nbformat": 4,
 "nbformat_minor": 2
}
