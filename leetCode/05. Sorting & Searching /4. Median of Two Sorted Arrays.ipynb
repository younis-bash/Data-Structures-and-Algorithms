{
 "cells": [
  {
   "attachments": {},
   "cell_type": "markdown",
   "metadata": {},
   "source": [
    "## **4. Median of Two Sorted Arrays**\n"
   ]
  },
  {
   "attachments": {},
   "cell_type": "markdown",
   "metadata": {},
   "source": [
    "Given two sorted arrays `nums1` and `nums2` of size `m` and `n` respectively, return the median of the two sorted arrays.\n",
    "\n"
   ]
  },
  {
   "attachments": {},
   "cell_type": "markdown",
   "metadata": {},
   "source": [
    "The overall run time complexity should be `O(log (m+n))`.\n",
    "\n"
   ]
  },
  {
   "attachments": {},
   "cell_type": "markdown",
   "metadata": {},
   "source": [
    "**Example 1:**\n",
    "\n"
   ]
  },
  {
   "attachments": {},
   "cell_type": "markdown",
   "metadata": {},
   "source": [
    "- **Input**: nums1 = [1,3], nums2 = [2]\n",
    "\n",
    "- **Output**: 2.00000\n",
    "\n",
    "- **Explanation**: merged array = [1,2,3] and median is 2."
   ]
  },
  {
   "attachments": {},
   "cell_type": "markdown",
   "metadata": {},
   "source": [
    "**Example 2:**\n"
   ]
  },
  {
   "attachments": {},
   "cell_type": "markdown",
   "metadata": {},
   "source": [
    "- **Input**: nums1 = [1,2], nums2 = [3,4]\n",
    "\n",
    "- **Output**: 2.50000\n",
    "\n",
    "- **Explanation**: merged array = [1,2,3,4] and median is (2 + 3) / 2 = 2.5."
   ]
  },
  {
   "attachments": {},
   "cell_type": "markdown",
   "metadata": {},
   "source": [
    "**Constraints**:\n",
    "\n",
    "- `nums1.length == m`\n",
    "\n",
    "- `nums2.length == n`\n",
    "\n",
    "- `0 <= m <= 1000`\n",
    "\n",
    "- `0 <= n <= 1000`\n",
    "\n",
    "- `1 <= m + n <= 2000`\n",
    "\n",
    "- `-106 <= nums1[i], nums2[i] <= 106`"
   ]
  },
  {
   "cell_type": "code",
   "execution_count": 33,
   "metadata": {},
   "outputs": [],
   "source": [
    "class Solution(object):\n",
    "    def findMedianSortedArrays(self, nums1, nums2):\n",
    "        \"\"\"\n",
    "        :type nums1: List[int]\n",
    "        :type nums2: List[int]\n",
    "        :rtype: float\n",
    "        \"\"\"\n",
    "        res = self.merge(nums1, nums2)\n",
    "\n",
    "        return self.median(res)\n",
    "\n",
    "    def median(self, arr):\n",
    "        length = len(arr)\n",
    "\n",
    "        midpoint = length // 2\n",
    "\n",
    "        if length % 2 != 0:\n",
    "            return arr[midpoint]\n",
    "        return (arr[midpoint] + arr[midpoint - 1]) / 2\n",
    "\n",
    "    def merge(self, left, right):\n",
    "        left_index = 0\n",
    "        right_index = 0\n",
    "        merged = []\n",
    "\n",
    "        while left_index < len(left) and right_index < len(right):\n",
    "            if left[left_index] <= right[right_index]:\n",
    "                merged.append(left[left_index])\n",
    "                left_index += 1\n",
    "\n",
    "            else:\n",
    "                merged.append(right[right_index])\n",
    "                right_index += 1\n",
    "\n",
    "        merged += left[left_index:]\n",
    "        merged += right[right_index:]\n",
    "\n",
    "        return merged\n"
   ]
  },
  {
   "cell_type": "code",
   "execution_count": 34,
   "metadata": {},
   "outputs": [
    {
     "name": "stdout",
     "output_type": "stream",
     "text": [
      "2.5\n",
      "2\n",
      "2.5\n",
      "1\n",
      "3\n"
     ]
    }
   ],
   "source": [
    "sol=Solution()\n",
    "print(sol.findMedianSortedArrays(nums1 = [1,2], nums2 = [3,4]))\n",
    "print(sol.findMedianSortedArrays([1,3], nums2 = [2]))\n",
    "print(sol.findMedianSortedArrays([], nums2 = [2,3]))\n",
    "print(sol.findMedianSortedArrays([], nums2 = [1]))\n",
    "print(sol.findMedianSortedArrays([], nums2 = [1,2,3,4,5]))"
   ]
  },
  {
   "cell_type": "code",
   "execution_count": null,
   "metadata": {},
   "outputs": [],
   "source": []
  }
 ],
 "metadata": {
  "kernelspec": {
   "display_name": "Python 3",
   "language": "python",
   "name": "python3"
  },
  "language_info": {
   "codemirror_mode": {
    "name": "ipython",
    "version": 3
   },
   "file_extension": ".py",
   "mimetype": "text/x-python",
   "name": "python",
   "nbconvert_exporter": "python",
   "pygments_lexer": "ipython3",
   "version": "3.10.6"
  },
  "orig_nbformat": 4
 },
 "nbformat": 4,
 "nbformat_minor": 2
}
