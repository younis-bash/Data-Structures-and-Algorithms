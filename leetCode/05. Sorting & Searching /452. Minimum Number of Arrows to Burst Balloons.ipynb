{
 "cells": [
  {
   "attachments": {},
   "cell_type": "markdown",
   "metadata": {},
   "source": [
    "## **452. Minimum Number of Arrows to Burst Balloons**\n"
   ]
  },
  {
   "attachments": {},
   "cell_type": "markdown",
   "metadata": {},
   "source": [
    "There are some spherical balloons taped onto a flat wall that represents the XY-plane. The balloons are represented as a 2D integer array `points` where `points[i] = [xstart, xend]` denotes a balloon whose **horizontal diameter** stretches between `xstart` and `xend`. You do not know the exact y-coordinates of the balloons.\n",
    "\n"
   ]
  },
  {
   "attachments": {},
   "cell_type": "markdown",
   "metadata": {},
   "source": [
    "Arrows can be shot up **directly vertically** (in the positive y-direction) from different points along the x-axis. A balloon with `xstart` and `xend` is **burst** by an arrow shot at `x` if `xstart <= x <= xend`. There is **no limit** to the number of arrows that can be shot. A shot arrow keeps traveling up infinitely, bursting any balloons in its path."
   ]
  },
  {
   "attachments": {},
   "cell_type": "markdown",
   "metadata": {},
   "source": [
    "Given the array `points`, return the **minimum** number of arrows that must be shot to burst all balloons.\n",
    "\n"
   ]
  },
  {
   "attachments": {},
   "cell_type": "markdown",
   "metadata": {},
   "source": [
    "**Example 1:**\n",
    "\n"
   ]
  },
  {
   "attachments": {},
   "cell_type": "markdown",
   "metadata": {},
   "source": [
    "- **Input**: points = [[10,16],[2,8],[1,6],[7,12]]\n",
    "\n",
    "- **Output**: 2\n",
    "\n",
    "- **Explanation**: The balloons can be burst by 2 arrows:\n",
    "    \n",
    "    - Shoot an arrow at x = 6, bursting the balloons [2,8] and [1,6].\n",
    "    \n",
    "    - Shoot an arrow at x = 11, bursting the balloons [10,16] and [7,12]."
   ]
  },
  {
   "attachments": {},
   "cell_type": "markdown",
   "metadata": {},
   "source": [
    "**Example 2:**\n",
    "\n"
   ]
  },
  {
   "attachments": {},
   "cell_type": "markdown",
   "metadata": {},
   "source": [
    "- **Input**: points = [[1,2],[3,4],[5,6],[7,8]]\n",
    "\n",
    "- **Output**: 4\n",
    "\n",
    "- **Explanation**: One arrow needs to be shot for each balloon for a total of 4 arrows."
   ]
  },
  {
   "attachments": {},
   "cell_type": "markdown",
   "metadata": {},
   "source": [
    "**Example 3:**\n",
    "\n"
   ]
  },
  {
   "attachments": {},
   "cell_type": "markdown",
   "metadata": {},
   "source": [
    "- **Input**: points = [[1,2],[2,3],[3,4],[4,5]]\n",
    "\n",
    "- **Output**: 2\n",
    "\n",
    "- **Explanation**: The balloons can be burst by 2 arrows:\n",
    "    \n",
    "    - Shoot an arrow at x = 2, bursting the balloons [1,2] and [2,3].\n",
    "    \n",
    "    - Shoot an arrow at x = 4, bursting the balloons [3,4] and [4,5]."
   ]
  },
  {
   "attachments": {},
   "cell_type": "markdown",
   "metadata": {},
   "source": [
    "**Constraints**:\n"
   ]
  },
  {
   "attachments": {},
   "cell_type": "markdown",
   "metadata": {},
   "source": [
    "\n",
    "- `1 <= points.length <= 105`\n",
    "\n",
    "- `points[i].length == 2`\n",
    "\n",
    "- `-231 <= xstart < xend <= 231 - 1`"
   ]
  },
  {
   "cell_type": "code",
   "execution_count": 30,
   "metadata": {},
   "outputs": [],
   "source": [
    "class Solution:\n",
    "    def findMinArrowShots(self, points) :\n",
    "\n",
    "        points.sort(key = lambda x:x[1])\n",
    "        # shot first balloon\n",
    "        arrow = points[0][1]\n",
    "        count = 1\n",
    "\n",
    "        for start , end in points[1:] : \n",
    "            if start > arrow : \n",
    "                count += 1 \n",
    "                arrow = end \n",
    "        return count"
   ]
  },
  {
   "cell_type": "code",
   "execution_count": 31,
   "metadata": {},
   "outputs": [
    {
     "name": "stdout",
     "output_type": "stream",
     "text": [
      "2\n",
      "4\n",
      "2\n"
     ]
    }
   ],
   "source": [
    "sol=Solution()\n",
    "print(sol.findMinArrowShots(points = [[10,16],[2,8],[1,6],[7,12]]))\n",
    "print(sol.findMinArrowShots(points = [[1,2],[3,4],[5,6],[7,8]]))\n",
    "print(sol.findMinArrowShots(points = [[1,2],[2,3],[3,4],[4,5]]))"
   ]
  },
  {
   "cell_type": "code",
   "execution_count": null,
   "metadata": {},
   "outputs": [],
   "source": []
  }
 ],
 "metadata": {
  "kernelspec": {
   "display_name": "Python 3",
   "language": "python",
   "name": "python3"
  },
  "language_info": {
   "codemirror_mode": {
    "name": "ipython",
    "version": 3
   },
   "file_extension": ".py",
   "mimetype": "text/x-python",
   "name": "python",
   "nbconvert_exporter": "python",
   "pygments_lexer": "ipython3",
   "version": "3.10.6"
  },
  "orig_nbformat": 4
 },
 "nbformat": 4,
 "nbformat_minor": 2
}
