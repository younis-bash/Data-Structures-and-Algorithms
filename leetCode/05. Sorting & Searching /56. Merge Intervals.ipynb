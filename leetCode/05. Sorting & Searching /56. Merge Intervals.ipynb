{
 "cells": [
  {
   "attachments": {},
   "cell_type": "markdown",
   "metadata": {},
   "source": [
    "## **56. Merge Intervals**\n"
   ]
  },
  {
   "attachments": {},
   "cell_type": "markdown",
   "metadata": {},
   "source": [
    "Given an array of `intervals` where `intervals[i] = [starti, endi]`, merge all overlapping intervals, and return an array of the non-overlapping intervals that cover all the intervals in the input.\n",
    "\n"
   ]
  },
  {
   "attachments": {},
   "cell_type": "markdown",
   "metadata": {},
   "source": [
    "**Example 1:**\n",
    "\n"
   ]
  },
  {
   "attachments": {},
   "cell_type": "markdown",
   "metadata": {},
   "source": [
    "- **Input**: intervals = [[1,3],[2,6],[8,10],[15,18]]\n",
    "\n",
    "- **Output**: [[1,6],[8,10],[15,18]]\n",
    "\n",
    "- **Explanation**: Since intervals [1,3] and [2,6] overlap, merge them into [1,6]."
   ]
  },
  {
   "attachments": {},
   "cell_type": "markdown",
   "metadata": {},
   "source": [
    "**Example 2:**"
   ]
  },
  {
   "attachments": {},
   "cell_type": "markdown",
   "metadata": {},
   "source": [
    "\n",
    "\n",
    "- **Input**: intervals = [[1,4],[4,5]]\n",
    "\n",
    "- **Output**: [[1,5]]\n",
    "\n",
    "- **Explanation**: Intervals [1,4] and [4,5] are considered overlapping"
   ]
  },
  {
   "attachments": {},
   "cell_type": "markdown",
   "metadata": {},
   "source": [
    "**Constraints:**\n"
   ]
  },
  {
   "attachments": {},
   "cell_type": "markdown",
   "metadata": {},
   "source": [
    "\n",
    "- `1 <= intervals.length <= 104`\n",
    "\n",
    "- `intervals[i].length == 2`\n",
    "\n",
    "- `0 <= starti <= endi <= 104`"
   ]
  },
  {
   "cell_type": "code",
   "execution_count": 61,
   "metadata": {},
   "outputs": [],
   "source": [
    "class Solution(object):\n",
    "    def merge(self, intervals):\n",
    "        \"\"\"\n",
    "        :type intervals: List[List[int]]\n",
    "        :rtype: List[List[int]]\n",
    "        \"\"\"\n",
    "        sort_intervals=self.quick_sort(intervals)\n",
    "        res=[sort_intervals[0]]\n",
    "\n",
    "        for start , end in sort_intervals[1:]:\n",
    "            last_end = res[-1][1]\n",
    "            if last_end >= start : \n",
    "                res[-1][1] = max([last_end , end])\n",
    "            else : \n",
    "                res.append([start,end])\n",
    "        return res\n",
    "    \n",
    "    def quick_sort(self , arr):\n",
    "        if len(arr) <= 1:\n",
    "            return arr\n",
    "        else:\n",
    "            pivot = arr[0]\n",
    "            left = [x for x in arr[1:] if x[0] <= pivot[0]]\n",
    "            right = [x for x in arr[1:] if x[0] > pivot[0]]\n",
    "            return self.quick_sort(left) + [pivot] + self.quick_sort(right)\n",
    "\n",
    "\n"
   ]
  },
  {
   "cell_type": "code",
   "execution_count": 63,
   "metadata": {},
   "outputs": [],
   "source": [
    "class Solution(object):\n",
    "    def merge(self, intervals):\n",
    "        \"\"\"\n",
    "        :type intervals: List[List[int]]\n",
    "        :rtype: List[List[int]]\n",
    "        \"\"\"\n",
    "        intervals.sort(key=lambda i: i[0])\n",
    "        res = [intervals[0]]\n",
    "        for start, end in intervals[1:]:\n",
    "            last_end = res[-1][1]\n",
    "            if last_end >= start:\n",
    "                res[-1][1] = max([last_end, end])\n",
    "            else:\n",
    "                res.append([start, end])\n",
    "        return res\n"
   ]
  },
  {
   "cell_type": "code",
   "execution_count": 64,
   "metadata": {},
   "outputs": [
    {
     "name": "stdout",
     "output_type": "stream",
     "text": [
      "[[1, 6], [8, 10], [15, 18]]\n",
      "[[1, 5]]\n"
     ]
    }
   ],
   "source": [
    "sol=Solution()\n",
    "print(sol.merge(intervals = [[1,3],[2,6],[8,10],[15,18]]))\n",
    "print(sol.merge(intervals = [[1,4],[4,5]]))"
   ]
  },
  {
   "cell_type": "code",
   "execution_count": null,
   "metadata": {},
   "outputs": [],
   "source": []
  }
 ],
 "metadata": {
  "kernelspec": {
   "display_name": "Python 3",
   "language": "python",
   "name": "python3"
  },
  "language_info": {
   "codemirror_mode": {
    "name": "ipython",
    "version": 3
   },
   "file_extension": ".py",
   "mimetype": "text/x-python",
   "name": "python",
   "nbconvert_exporter": "python",
   "pygments_lexer": "ipython3",
   "version": "3.10.6"
  },
  "orig_nbformat": 4
 },
 "nbformat": 4,
 "nbformat_minor": 2
}
