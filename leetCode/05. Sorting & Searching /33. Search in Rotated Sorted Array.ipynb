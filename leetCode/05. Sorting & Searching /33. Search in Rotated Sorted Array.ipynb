{
 "cells": [
  {
   "attachments": {},
   "cell_type": "markdown",
   "metadata": {},
   "source": [
    "## **33. Search in Rotated Sorted Array**\n"
   ]
  },
  {
   "attachments": {},
   "cell_type": "markdown",
   "metadata": {},
   "source": [
    "There is an integer array `nums` sorted in ascending order (with distinct values).\n",
    "\n"
   ]
  },
  {
   "attachments": {},
   "cell_type": "markdown",
   "metadata": {},
   "source": [
    "Prior to being passed to your function, `nums` is **possibly rotated** at an unknown pivot index `k (1 <= k < nums.length)` such that the resulting array is `[nums[k], nums[k+1], ..., nums[n-1], nums[0], nums[1], ..., nums[k-1]]` **(0-indexed)**. For example, `[0,1,2,4,5,6,7]` might be rotated at pivot index `3` and become `[4,5,6,7,0,1,2]`.\n",
    "\n"
   ]
  },
  {
   "attachments": {},
   "cell_type": "markdown",
   "metadata": {},
   "source": [
    "Given the array `nums` after the possible rotation and an integer `target`, return the index of `target` if it is in `nums`, or `-1` if it is not in nums.\n",
    "\n"
   ]
  },
  {
   "attachments": {},
   "cell_type": "markdown",
   "metadata": {},
   "source": [
    "You must write an algorithm with `O(log n)` runtime complexity.\n",
    "\n"
   ]
  },
  {
   "attachments": {},
   "cell_type": "markdown",
   "metadata": {},
   "source": [
    "**Example 1:**\n"
   ]
  },
  {
   "attachments": {},
   "cell_type": "markdown",
   "metadata": {},
   "source": [
    "- **Input**: nums = [4,5,6,7,0,1,2], target = 0\n",
    "\n",
    "- **Output**: 4"
   ]
  },
  {
   "attachments": {},
   "cell_type": "markdown",
   "metadata": {},
   "source": [
    "**Example 2:**\n",
    "\n",
    "- **Input**: nums = [4,5,6,7,0,1,2], target = 3\n",
    "\n",
    "- **Output**: -1"
   ]
  },
  {
   "attachments": {},
   "cell_type": "markdown",
   "metadata": {},
   "source": [
    "\n",
    "**Example 3:**\n",
    "\n",
    "- **Input**: nums = [1], target = 0\n",
    "\n",
    "- **Output**: -1"
   ]
  },
  {
   "attachments": {},
   "cell_type": "markdown",
   "metadata": {},
   "source": [
    "**Constraints:**"
   ]
  },
  {
   "attachments": {},
   "cell_type": "markdown",
   "metadata": {},
   "source": [
    "\n",
    "\n",
    "- `1 <= nums.length <= 5000`\n",
    "\n",
    "- `-104 <= nums[i] <= 104`\n",
    "\n",
    "- All values of `nums` are **unique**.\n",
    "\n",
    "- `nums` is an ascending array that is possibly rotated.\n",
    "\n",
    "- `-104 <= target <= 104`"
   ]
  },
  {
   "cell_type": "code",
   "execution_count": 18,
   "metadata": {},
   "outputs": [],
   "source": [
    "class Solution(object):\n",
    "    def search(self, nums, target):\n",
    "        \"\"\"\n",
    "        :type nums: List[int]\n",
    "        :type target: int\n",
    "        :rtype: int\n",
    "        \"\"\"\n",
    "        mid = nums.index(min(nums))\n",
    "        right= len(nums)\n",
    "        left = 0 \n",
    "\n",
    "        if nums[-1] >= target : \n",
    "            return  self.find_index(nums ,target , mid  , right)\n",
    "        \n",
    "        else : \n",
    "            return self.find_index(nums , target , left , mid)\n",
    "\n",
    "    \n",
    "    def find_index(self , arr , target , left, right):        \n",
    "        while left <= right :\n",
    "            mid_idx = (left + right) //  2 \n",
    "            if arr[mid_idx] == target : \n",
    "                return mid_idx \n",
    "            \n",
    "            elif arr[mid_idx] > target : \n",
    "                right = mid_idx -1 \n",
    "            \n",
    "            else :\n",
    "                left = mid_idx +1 \n",
    "        return -1 \n",
    "\n",
    "\n"
   ]
  },
  {
   "cell_type": "code",
   "execution_count": 19,
   "metadata": {},
   "outputs": [
    {
     "name": "stdout",
     "output_type": "stream",
     "text": [
      "4\n",
      "-1\n",
      "-1\n"
     ]
    }
   ],
   "source": [
    "sol=Solution()\n",
    "print(sol.search(nums = [4,5,6,7,0,1,2], target = 0))\n",
    "print(sol.search(nums = [4,5,6,7,0,1,2], target = 3))\n",
    "print(sol.search(nums = [1], target = 0))"
   ]
  },
  {
   "cell_type": "code",
   "execution_count": null,
   "metadata": {},
   "outputs": [],
   "source": []
  }
 ],
 "metadata": {
  "kernelspec": {
   "display_name": "Python 3",
   "language": "python",
   "name": "python3"
  },
  "language_info": {
   "codemirror_mode": {
    "name": "ipython",
    "version": 3
   },
   "file_extension": ".py",
   "mimetype": "text/x-python",
   "name": "python",
   "nbconvert_exporter": "python",
   "pygments_lexer": "ipython3",
   "version": "3.10.6"
  },
  "orig_nbformat": 4
 },
 "nbformat": 4,
 "nbformat_minor": 2
}
