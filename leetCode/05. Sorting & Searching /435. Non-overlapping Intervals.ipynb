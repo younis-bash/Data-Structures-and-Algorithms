{
 "cells": [
  {
   "attachments": {},
   "cell_type": "markdown",
   "metadata": {},
   "source": [
    "## **435. Non-overlapping Intervals**\n"
   ]
  },
  {
   "attachments": {},
   "cell_type": "markdown",
   "metadata": {},
   "source": [
    "Given an array of intervals `intervals` where `intervals[i] = [starti, endi]`, return the minimum number of intervals you need to remove to make the rest of the intervals non-overlapping.\n",
    "\n"
   ]
  },
  {
   "cell_type": "markdown",
   "metadata": {},
   "source": [
    "**Example 1:** \n",
    "\n"
   ]
  },
  {
   "attachments": {},
   "cell_type": "markdown",
   "metadata": {},
   "source": [
    "- **Input**: intervals = [[1,2],[2,3],[3,4],[1,3]]\n",
    "\n",
    "- **Output**: 1\n",
    "\n",
    "- **Explanation**: [1,3] can be removed and the rest of the intervals are non-overlapping."
   ]
  },
  {
   "attachments": {},
   "cell_type": "markdown",
   "metadata": {},
   "source": [
    "**Example 2:**\n"
   ]
  },
  {
   "attachments": {},
   "cell_type": "markdown",
   "metadata": {},
   "source": [
    "- **Input**: intervals = [[1,2],[1,2],[1,2]]\n",
    "\n",
    "- **Output**: 2\n",
    "\n",
    "- **Explanation**: You need to remove two [1,2] to make the rest of the intervals non-overlapping."
   ]
  },
  {
   "attachments": {},
   "cell_type": "markdown",
   "metadata": {},
   "source": [
    "**Example 3:**\n"
   ]
  },
  {
   "attachments": {},
   "cell_type": "markdown",
   "metadata": {},
   "source": [
    "- **Input**: intervals = [[1,2],[2,3]]\n",
    "\n",
    "- **Output**: 0\n",
    "\n",
    "- **Explanation**: You don't need to remove any of the intervals since they're already non-overlapping."
   ]
  },
  {
   "attachments": {},
   "cell_type": "markdown",
   "metadata": {},
   "source": [
    "**Constraints:**\n",
    "\n"
   ]
  },
  {
   "attachments": {},
   "cell_type": "markdown",
   "metadata": {},
   "source": [
    "- `1 <= intervals.length <= 105`\n",
    "\n",
    "- `intervals[i].length == 2`\n",
    "\n",
    "- `-5 * 104 <= starti < endi <= 5 * 104`"
   ]
  },
  {
   "cell_type": "code",
   "execution_count": 20,
   "metadata": {},
   "outputs": [],
   "source": [
    "class Solution(object):\n",
    "    def eraseOverlapIntervals(self, intervals):\n",
    "        \"\"\"\n",
    "        :type intervals: List[List[int]]\n",
    "        :rtype: int\n",
    "        \"\"\"\n",
    "        intervals.sort(key = lambda x : x[0])\n",
    "\n",
    "        res = 0 \n",
    "        prev_interval=intervals[0]\n",
    "        for start , end in intervals[1:]:\n",
    "            if prev_interval[1] >  start : \n",
    "                res +=1 \n",
    "                prev_interval[-1] = min(prev_interval[1] , end) \n",
    "            else : \n",
    "                prev_interval[1] = end \n",
    "        return res\n",
    "            "
   ]
  },
  {
   "cell_type": "code",
   "execution_count": 21,
   "metadata": {},
   "outputs": [
    {
     "name": "stdout",
     "output_type": "stream",
     "text": [
      "1\n",
      "2\n",
      "0\n"
     ]
    }
   ],
   "source": [
    "sol = Solution()\n",
    "print(sol.eraseOverlapIntervals(intervals = [[1,2],[2,3],[3,4],[1,3]]))\n",
    "print(sol.eraseOverlapIntervals(intervals=[[1, 2], [1, 2], [1, 2]]))\n",
    "print(sol.eraseOverlapIntervals(intervals = [[1,2],[2,3]]))\n"
   ]
  },
  {
   "cell_type": "code",
   "execution_count": null,
   "metadata": {},
   "outputs": [],
   "source": []
  }
 ],
 "metadata": {
  "kernelspec": {
   "display_name": "Python 3",
   "language": "python",
   "name": "python3"
  },
  "language_info": {
   "codemirror_mode": {
    "name": "ipython",
    "version": 3
   },
   "file_extension": ".py",
   "mimetype": "text/x-python",
   "name": "python",
   "nbconvert_exporter": "python",
   "pygments_lexer": "ipython3",
   "version": "3.10.6"
  },
  "orig_nbformat": 4
 },
 "nbformat": 4,
 "nbformat_minor": 2
}
