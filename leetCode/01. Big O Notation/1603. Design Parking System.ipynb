{
 "cells": [
  {
   "cell_type": "markdown",
   "metadata": {},
   "source": [
    "## 1603. Design Parking System"
   ]
  },
  {
   "attachments": {},
   "cell_type": "markdown",
   "metadata": {},
   "source": [
    "Design a parking system for a parking lot. The parking lot has three kinds of parking spaces: big, medium, and small, with a fixed number of slots for each size.\n",
    "\n",
    "Implement the `ParkingSystem` class:\n",
    "\n",
    "- `ParkingSystem(int big, int medium, int small)` Initializes object of the `ParkingSystem` class. The number of slots for each parking space are given as part of the constructor.\n",
    "\n",
    "- `bool addCar(int carType)` Checks whether there is a parking space of `carType` for the car that wants to get into the parking lot. `carType` can be of three kinds: big, medium, or small, which are represented by `1`, `2`, and `3` respectively. **A car can only park in a parking space of its** `carType`. If there is no space available, return `false`, else park the car in that size space and return `true`."
   ]
  },
  {
   "attachments": {},
   "cell_type": "markdown",
   "metadata": {},
   "source": [
    "**Example 1:**\n",
    "\n",
    "**Input**\n",
    "[\"ParkingSystem\", \"addCar\", \"addCar\", \"addCar\", \"addCar\"]\n",
    "[[1, 1, 0], [1], [2], [3], [1]]\n",
    "\n",
    "**Output**\n",
    "[null, true, true, false, false]\n",
    "\n",
    "**Explanation**\n",
    "- ParkingSystem parkingSystem = new ParkingSystem(1, 1, 0);\n",
    "\n",
    "- parkingSystem.addCar(1); // return true because there is 1 available slot for a big car\n",
    "\n",
    "- parkingSystem.addCar(2); // return true because there is 1 available slot for a medium car\n",
    "\n",
    "- parkingSystem.addCar(3); // return false because there is no available slot for a small car\n",
    "\n",
    "- parkingSystem.addCar(1); // return false because there is no available slot for a big car. It is already occupied."
   ]
  },
  {
   "attachments": {},
   "cell_type": "markdown",
   "metadata": {},
   "source": [
    "**Constraints**:\n",
    "\n",
    "- `0 <= big, medium, small <= 1000`\n",
    "- `carType` is `1`, `2`, or `3`\n",
    "- At most `1000` calls will be made to `addCar`"
   ]
  },
  {
   "cell_type": "code",
   "execution_count": 1,
   "metadata": {},
   "outputs": [],
   "source": [
    "class ParkingSystem(object):\n",
    "\n",
    "    def __init__(self, big, medium, small):\n",
    "        \"\"\"\n",
    "        :type big: int\n",
    "        :type medium: int\n",
    "        :type small: int\n",
    "        \"\"\"\n",
    "        self.slot={1:big , 2:medium , 3:small}\n",
    "\n",
    "    def addCar(self, carType):\n",
    "        \"\"\"\n",
    "        :type carType: int\n",
    "        :rtype: bool\n",
    "        \"\"\"\n",
    "        if self.slot[carType]  == 0 :\n",
    "            return False \n",
    "        self.slot[carType] -=1 \n",
    "        return True\n",
    "        "
   ]
  }
 ],
 "metadata": {
  "kernelspec": {
   "display_name": "Python 3",
   "language": "python",
   "name": "python3"
  },
  "language_info": {
   "codemirror_mode": {
    "name": "ipython",
    "version": 3
   },
   "file_extension": ".py",
   "mimetype": "text/x-python",
   "name": "python",
   "nbconvert_exporter": "python",
   "pygments_lexer": "ipython3",
   "version": "3.8.10"
  },
  "orig_nbformat": 4,
  "vscode": {
   "interpreter": {
    "hash": "e7370f93d1d0cde622a1f8e1c04877d8463912d04d973331ad4851f04de6915a"
   }
  }
 },
 "nbformat": 4,
 "nbformat_minor": 2
}
