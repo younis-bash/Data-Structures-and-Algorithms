{
 "cells": [
  {
   "attachments": {},
   "cell_type": "markdown",
   "metadata": {},
   "source": [
    "## 1108. Defanging an IP Address"
   ]
  },
  {
   "attachments": {},
   "cell_type": "markdown",
   "metadata": {},
   "source": [
    "Given a valid (IPv4) IP `address`, return a defanged version of that IP address.\n",
    "\n",
    "A defanged IP address replaces every period `\".\"` with `\"[.]\"`.\n",
    "\n",
    "**Example 1:**\n",
    "\n",
    "- **Input**: address = \"1.1.1.1\"\n",
    "- **Output**: \"1[.]1[.]1[.]1\"\n",
    "\n",
    "**Example 2:**\n",
    "\n",
    "- **Input**: address = \"255.100.50.0\"\n",
    "- **Output**: \"255[.]100[.]50[.]0\"\n",
    " \n",
    "\n",
    "**Constraints**:\n",
    "\n",
    "- The given `address` is a valid IPv4 address."
   ]
  },
  {
   "cell_type": "code",
   "execution_count": null,
   "metadata": {},
   "outputs": [],
   "source": [
    "class Solution(object):\n",
    "    def defangIPaddr(self, address):\n",
    "        \"\"\"\n",
    "        :type address: str\n",
    "        :rtype: str\n",
    "        \"\"\"\n",
    "        ## another solution \n",
    "        ##return address.replace(\".\" , \"[.]\")\n",
    "        return \"\".join([x if x.isdigit() else \"[.]\" for x in address])"
   ]
  }
 ],
 "metadata": {
  "language_info": {
   "name": "python"
  },
  "orig_nbformat": 4
 },
 "nbformat": 4,
 "nbformat_minor": 2
}
