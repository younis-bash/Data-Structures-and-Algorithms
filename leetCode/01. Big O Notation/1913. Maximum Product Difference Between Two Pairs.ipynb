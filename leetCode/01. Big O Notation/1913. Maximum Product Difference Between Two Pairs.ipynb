{
 "cells": [
  {
   "cell_type": "markdown",
   "metadata": {},
   "source": [
    "## 1913. Maximum Product Difference Between Two Pairs"
   ]
  },
  {
   "attachments": {},
   "cell_type": "markdown",
   "metadata": {},
   "source": [
    "The **product difference** between two pairs `(a, b)` and `(c, d)` is defined as `(a * b) - (c * d)`.\n",
    "\n",
    "- For example, the product difference between `(5, 6)` and `(2, 7)` is `(5 * 6) - (2 * 7) = 16`.\n",
    "\n",
    "Given an integer array `nums`, choose four distinct indices` w, x, y,` and `z` such that the **product difference** between pairs `(nums[w], nums[x])` and `(nums[y], nums[z])` is **maximized**.\n",
    "\n",
    "Return the **maximum** such product difference.\n",
    "\n",
    " \n",
    "\n",
    "**Example 1:**\n",
    "\n",
    "- **Input**: nums = [5,6,2,7,4]\n",
    "- **Output**: 34\n",
    "\n",
    "**Explanation**: \n",
    "We can choose indices `1 and 3 `for the first pair `(6, 7)` and indices` 2 and 4` for the second pair `(2, 4)`.\n",
    "The product difference is `(6 * 7) - (2 * 4) = 34`.\n",
    "\n",
    "**Example 2:**\n",
    "\n",
    "- **Input**: nums = [4,2,5,9,7,4,8]\n",
    "- **Output**: 64\n",
    "\n",
    "**Explanation**: \n",
    "We can choose indices `3 and 6` for the first pair` (9, 8)` and indices `1 and 5` for the second pair `(2, 4)`.\n",
    "The product difference is `(9 * 8) - (2 * 4) = 64`.\n",
    " \n",
    "\n",
    "**Constraints**:\n",
    "\n",
    "- `4 <= nums.length <= 104`\n",
    "- `1 <= nums[i] <= 104`"
   ]
  },
  {
   "cell_type": "code",
   "execution_count": 1,
   "metadata": {},
   "outputs": [],
   "source": [
    "class Solution(object):\n",
    "    def maxProductDifference(self, nums):\n",
    "        \"\"\"\n",
    "        :type nums: List[int]\n",
    "        :rtype: int\n",
    "        \"\"\"\n",
    "        return (sorted(nums)[-1]*sorted(nums)[-2])-(sorted(nums)[0]*sorted(nums)[1])"
   ]
  },
  {
   "cell_type": "code",
   "execution_count": null,
   "metadata": {},
   "outputs": [],
   "source": []
  }
 ],
 "metadata": {
  "kernelspec": {
   "display_name": "Python 3",
   "language": "python",
   "name": "python3"
  },
  "language_info": {
   "codemirror_mode": {
    "name": "ipython",
    "version": 3
   },
   "file_extension": ".py",
   "mimetype": "text/x-python",
   "name": "python",
   "nbconvert_exporter": "python",
   "pygments_lexer": "ipython3",
   "version": "3.8.10"
  },
  "orig_nbformat": 4,
  "vscode": {
   "interpreter": {
    "hash": "e7370f93d1d0cde622a1f8e1c04877d8463912d04d973331ad4851f04de6915a"
   }
  }
 },
 "nbformat": 4,
 "nbformat_minor": 2
}
