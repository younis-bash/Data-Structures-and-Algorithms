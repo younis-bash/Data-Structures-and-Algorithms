{
 "cells": [
  {
   "attachments": {},
   "cell_type": "markdown",
   "metadata": {},
   "source": [
    "## 231. Power of Two\n",
    "\n",
    "Given an integer `n`, return `true` if it is a power of `two`. Otherwise, return `false`.\n",
    "\n",
    "An integer `n` is a power of two, if there exists an integer `x` such that` n == 2x`.\n",
    "\n",
    "**Example 1:**\n",
    "\n",
    "- **Input**: n = 1\n",
    "- **Output**: true\n",
    "- **Explanation**: 20 = 1\n",
    "\n",
    "**Example 2:**\n",
    "\n",
    "- **Input**: n = 16\n",
    "- **Output**: true\n",
    "- **Explanation**: 24 = 16\n",
    "\n",
    "**Example 3:**\n",
    "\n",
    "- **Input**: n = 3\n",
    "- **Output**: false\n",
    " \n",
    "\n",
    "**Constraints**:\n",
    "\n",
    "- `-231 <= n <= 231 - 1`"
   ]
  },
  {
   "cell_type": "code",
   "execution_count": 1,
   "metadata": {},
   "outputs": [],
   "source": [
    "class Solution(object):\n",
    "    def isPowerOfTwo(self, n):\n",
    "        \"\"\"\n",
    "        :type n: int\n",
    "        :rtype: bool\n",
    "        \"\"\"\n",
    "        if n < 1 : \n",
    "            return False \n",
    "        if n== 1 :\n",
    "            return True    \n",
    "        while n : \n",
    "            b=float(n)/float(2)\n",
    "            if b == 1 :\n",
    "                return True\n",
    "            if b < 1 or b%2 !=0 : \n",
    "                return False \n",
    "            n=b\n",
    "        return False"
   ]
  }
 ],
 "metadata": {
  "kernelspec": {
   "display_name": "Python 3",
   "language": "python",
   "name": "python3"
  },
  "language_info": {
   "codemirror_mode": {
    "name": "ipython",
    "version": 3
   },
   "file_extension": ".py",
   "mimetype": "text/x-python",
   "name": "python",
   "nbconvert_exporter": "python",
   "pygments_lexer": "ipython3",
   "version": "3.8.10"
  },
  "orig_nbformat": 4,
  "vscode": {
   "interpreter": {
    "hash": "e7370f93d1d0cde622a1f8e1c04877d8463912d04d973331ad4851f04de6915a"
   }
  }
 },
 "nbformat": 4,
 "nbformat_minor": 2
}
