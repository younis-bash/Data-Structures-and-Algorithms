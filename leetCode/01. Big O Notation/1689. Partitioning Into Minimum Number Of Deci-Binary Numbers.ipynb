{
 "cells": [
  {
   "attachments": {},
   "cell_type": "markdown",
   "metadata": {},
   "source": [
    "## 1689. Partitioning Into Minimum Number Of Deci-Binary Numbers\n",
    "\n",
    "A decimal number is called deci-binary if each of its digits is either `0 or 1` without any leading zeros. For example, `101` and `1100` are **deci-binary**, while `112` and `3001` are `not`.\n",
    "\n",
    "Given a string `n` that represents a positive decimal integer, return the minimum number of positive **deci-binary** numbers needed so that they sum up to ``n``."
   ]
  },
  {
   "attachments": {},
   "cell_type": "markdown",
   "metadata": {},
   "source": [
    "**Example 1:**\n",
    "\n",
    "- **Input**: n = \"32\"\n",
    "- **Output**: 3\n",
    "- **Explanation**: 10 + 11 + 11 = 32\n",
    "\n",
    "**Example 2:**\n",
    "\n",
    "- **Input**: n = \"82734\"\n",
    "- **Output**: 8\n",
    "\n",
    "**Example 3:**\n",
    "\n",
    "- **Input**: n = \"27346209830709182346\"\n",
    "- **Output**: 9\n",
    "\n",
    "**Constraints**:\n",
    "\n",
    "- `1 <= n.length <= 105`\n",
    "- `n` consists of only digits.\n",
    "- `n` does not contain any leading zeros and represents a positive integer."
   ]
  },
  {
   "cell_type": "code",
   "execution_count": null,
   "metadata": {},
   "outputs": [],
   "source": [
    "class Solution(object):\n",
    "    def minPartitions(self, n):\n",
    "        \"\"\"\n",
    "        :type n: str\n",
    "        :rtype: int\n",
    "        \"\"\"\n",
    "        return int(max(n))"
   ]
  },
  {
   "cell_type": "code",
   "execution_count": null,
   "metadata": {},
   "outputs": [],
   "source": []
  }
 ],
 "metadata": {
  "kernelspec": {
   "display_name": "Python 3",
   "language": "python",
   "name": "python3"
  },
  "language_info": {
   "name": "python",
   "version": "3.8.10"
  },
  "orig_nbformat": 4,
  "vscode": {
   "interpreter": {
    "hash": "e7370f93d1d0cde622a1f8e1c04877d8463912d04d973331ad4851f04de6915a"
   }
  }
 },
 "nbformat": 4,
 "nbformat_minor": 2
}
