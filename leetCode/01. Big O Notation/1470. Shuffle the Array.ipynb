{
 "cells": [
  {
   "cell_type": "markdown",
   "metadata": {},
   "source": [
    "## 1470. Shuffle the Array\n"
   ]
  },
  {
   "attachments": {},
   "cell_type": "markdown",
   "metadata": {},
   "source": [
    "Given the array nums consisting of `2n` elements in the form `[x1,x2,...,xn,y1,y2,...,yn]`.\n",
    "\n",
    "Return the array in the form `[x1,y1,x2,y2,...,xn,yn]`.\n",
    "\n",
    " \n",
    "\n",
    "**Example 1:**\n",
    "\n",
    "- **Input**: nums = [2,5,1,3,4,7], n = 3\n",
    "- **Output**: [2,3,5,4,1,7] \n",
    "**Explanation**: Since x1=2, x2=5, x3=1, y1=3, y2=4, y3=7 then the answer is [2,3,5,4,1,7].\n",
    "\n",
    "**Example 2:**\n",
    "\n",
    "- **Input**: nums = [1,2,3,4,4,3,2,1], n = 4\n",
    "- **Output**: [1,4,2,3,3,2,4,1]\n",
    "\n",
    "**Example 3:**\n",
    "\n",
    "- **Input**: nums = [1,1,2,2], n = 2\n",
    "- **Output**: [1,2,1,2]\n",
    " \n",
    "\n",
    "**Constraints:**\n",
    "\n",
    "- 1 <= n <= 500\n",
    "- nums.length == 2n\n",
    "- 1 <= nums[i] <= 10^3"
   ]
  },
  {
   "cell_type": "code",
   "execution_count": 1,
   "metadata": {},
   "outputs": [],
   "source": [
    "class Solution(object):\n",
    "    def shuffle(self, nums, n):\n",
    "        \"\"\"\n",
    "        :type nums: List[int]\n",
    "        :type n: int\n",
    "        :rtype: List[int]\n",
    "        \"\"\"\n",
    "        x=nums[:n]\n",
    "        y=nums[n:]\n",
    "        result=[]\n",
    "        for i in range(len(x)):\n",
    "            result.append(x[i])\n",
    "            result.append(y[i])\n",
    "        return result"
   ]
  }
 ],
 "metadata": {
  "kernelspec": {
   "display_name": "Python 3",
   "language": "python",
   "name": "python3"
  },
  "language_info": {
   "codemirror_mode": {
    "name": "ipython",
    "version": 3
   },
   "file_extension": ".py",
   "mimetype": "text/x-python",
   "name": "python",
   "nbconvert_exporter": "python",
   "pygments_lexer": "ipython3",
   "version": "3.8.10"
  },
  "orig_nbformat": 4,
  "vscode": {
   "interpreter": {
    "hash": "e7370f93d1d0cde622a1f8e1c04877d8463912d04d973331ad4851f04de6915a"
   }
  }
 },
 "nbformat": 4,
 "nbformat_minor": 2
}
