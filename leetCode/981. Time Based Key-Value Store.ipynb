{
 "cells": [
  {
   "attachments": {},
   "cell_type": "markdown",
   "metadata": {},
   "source": [
    "## **981. Time Based Key-Value Store**\n"
   ]
  },
  {
   "attachments": {},
   "cell_type": "markdown",
   "metadata": {},
   "source": [
    "Design a time-based key-value data structure that can store multiple values for the same key at different time stamps and retrieve the key's value at a certain timestamp.\n",
    "\n"
   ]
  },
  {
   "attachments": {},
   "cell_type": "markdown",
   "metadata": {},
   "source": [
    "Implement the `TimeMap` class:\n",
    "\n"
   ]
  },
  {
   "attachments": {},
   "cell_type": "markdown",
   "metadata": {},
   "source": [
    "- `TimeMap()` Initializes the object of the data structure.\n",
    "\n",
    "- void `set(String key, String value, int timestamp)` Stores the key `key` with the `value` value at the given time `timestamp`.\n",
    "\n",
    "- `String get(String key, int timestamp)` Returns a value such that `set` was called previously, with `timestamp_prev <= timestamp`. If there are multiple such values, it \n",
    "returns the value associated with the largest `timestamp_prev`. If there are no values, it returns `\"\"`."
   ]
  },
  {
   "attachments": {},
   "cell_type": "markdown",
   "metadata": {},
   "source": [
    "**Example 1:**\n",
    "\n"
   ]
  },
  {
   "attachments": {},
   "cell_type": "markdown",
   "metadata": {},
   "source": [
    "**Input**"
   ]
  },
  {
   "attachments": {},
   "cell_type": "markdown",
   "metadata": {},
   "source": [
    "[\"TimeMap\", \"set\", \"get\", \"get\", \"set\", \"get\", \"get\"] \n",
    " [[], [\"foo\", \"bar\", 1], [\"foo\", 1], [\"foo\", 3], [\"foo\", \"bar2\", 4], [\"foo\", 4], [\"foo\", 5]]"
   ]
  },
  {
   "attachments": {},
   "cell_type": "markdown",
   "metadata": {},
   "source": [
    "**Output** \n",
    "\n",
    "[null, null, \"bar\", \"bar\", null, \"bar2\", \"bar2\"]\n"
   ]
  },
  {
   "attachments": {},
   "cell_type": "markdown",
   "metadata": {},
   "source": [
    "**Explanation**:"
   ]
  },
  {
   "attachments": {},
   "cell_type": "markdown",
   "metadata": {},
   "source": [
    "TimeMap timeMap = new TimeMap();<br>\n",
    "\n",
    "timeMap.set(\"foo\", \"bar\", 1);  // store the key \"foo\" and value \"bar\" along with timestamp = 1.<br>\n",
    "\n",
    "timeMap.get(\"foo\", 1);         // return \"bar\"<br>\n",
    "\n",
    "timeMap.get(\"foo\", 3);         // return \"bar\", since there is no value corresponding to foo at timestamp 3 and timestamp 2, then the only value is at timestamp 1 is \"bar\".<br>\n",
    "\n",
    "timeMap.set(\"foo\", \"bar2\", 4); // store the key \"foo\" and value \"bar2\" along with timestamp = 4.<br>\n",
    "\n",
    "timeMap.get(\"foo\", 4);         // return \"bar2\"<br>\n",
    "\n",
    "timeMap.get(\"foo\", 5);         // return \"bar2\"<br>"
   ]
  },
  {
   "attachments": {},
   "cell_type": "markdown",
   "metadata": {},
   "source": [
    "**Constraints**:\n",
    "\n"
   ]
  },
  {
   "attachments": {},
   "cell_type": "markdown",
   "metadata": {},
   "source": [
    "- `1 <= key.length, value.length <= 100`\n",
    "\n",
    "- `key` and `value` consist of lowercase English letters and digits.\n",
    "\n",
    "- `1 <= timestamp <= 107`\n",
    "\n",
    "- All the timestamps `timestamp` of `set` are strictly increasing.\n",
    "\n",
    "- At most `2 * 10^5` calls will be made to `set` and `get`."
   ]
  },
  {
   "cell_type": "code",
   "execution_count": 62,
   "metadata": {},
   "outputs": [],
   "source": [
    "import collections\n",
    "\n",
    "\n",
    "class TimeMap(object):\n",
    "\n",
    "    def __init__(self):\n",
    "        self.times = collections.defaultdict(list)\n",
    "        self.max_time = -1\n",
    "\n",
    "    def set(self, key, value, timestamp):\n",
    "        \"\"\"\n",
    "        :type key: str\n",
    "        :type value: str\n",
    "        :type timestamp: int\n",
    "        :rtype: None\n",
    "        \"\"\"\n",
    "        # if timestamp <= self.max_time :\n",
    "        #     return \"please used higer time stamp\"\n",
    "        # self.times[key]=[]\n",
    "        self.times[key].append([value, timestamp])\n",
    "        # self.max_time = timestamp\n",
    "\n",
    "        return self.times\n",
    "\n",
    "    def get(self, key, timestamp):\n",
    "        \"\"\"\n",
    "        :type key: str\n",
    "        :type timestamp: int\n",
    "        :rtype: str\n",
    "        \"\"\"\n",
    "        values = self.times[key] \n",
    "        return self.binary_search(values, timestamp)\n",
    "\n",
    "\n",
    "    def binary_search(self, values, timestamp):\n",
    "\n",
    "        l = 0\n",
    "        r = len(values) - 1\n",
    "        res =\"\"\n",
    "\n",
    "        while l <= r:\n",
    "            mid = (l+r) // 2\n",
    "            val = values[mid]\n",
    "\n",
    "            if val[-1] <= timestamp:\n",
    "                res = val[0]\n",
    "                l = mid + 1\n",
    "\n",
    "            else:\n",
    "                r = mid - 1\n",
    "        \n",
    "        return res\n",
    "\n",
    "\n",
    "# Your TimeMap object will be instantiated and called as such:\n",
    "# obj = TimeMap()\n",
    "# obj.set(key,value,timestamp)\n",
    "# param_2 = obj.get(key,timestamp)\n"
   ]
  },
  {
   "attachments": {},
   "cell_type": "markdown",
   "metadata": {},
   "source": [
    "[]"
   ]
  },
  {
   "cell_type": "code",
   "execution_count": 63,
   "metadata": {},
   "outputs": [
    {
     "name": "stdout",
     "output_type": "stream",
     "text": [
      "defaultdict(<class 'list'>, {'love': [['high', 10]]})\n",
      "defaultdict(<class 'list'>, {'love': [['high', 10], ['low', 20]]})\n",
      "\n",
      "high\n",
      "high\n",
      "low\n",
      "low\n"
     ]
    }
   ],
   "source": [
    "obj = TimeMap()\n",
    "print(obj.set(\"love\",\"high\",10))\n",
    "print(obj.set(\"love\",\"low\",20))\n",
    "print(obj.get(\"love\",5))\n",
    "print(obj.get(\"love\",10))\n",
    "print(obj.get(\"love\",15))\n",
    "print(obj.get(\"love\",20))\n",
    "print(obj.get(\"love\",25))"
   ]
  },
  {
   "cell_type": "code",
   "execution_count": 59,
   "metadata": {},
   "outputs": [
    {
     "data": {
      "text/plain": [
       "'bar'"
      ]
     },
     "execution_count": 59,
     "metadata": {},
     "output_type": "execute_result"
    }
   ],
   "source": [
    "obj = TimeMap()\n",
    "obj.set(\"foo\", \"bar\", 1)\n",
    "obj.set(\"foo\", \"bar2\", 4)\n",
    "obj.get(\"foo\", 1)\n",
    "# obj.set(\"foo\",\"bar\",1)\n",
    "# [\"foo\", \"bar\", 1]\n"
   ]
  },
  {
   "cell_type": "code",
   "execution_count": null,
   "metadata": {},
   "outputs": [],
   "source": [
    "[1, 4, 5] == = > 3\n"
   ]
  }
 ],
 "metadata": {
  "kernelspec": {
   "display_name": "Python 3",
   "language": "python",
   "name": "python3"
  },
  "language_info": {
   "codemirror_mode": {
    "name": "ipython",
    "version": 3
   },
   "file_extension": ".py",
   "mimetype": "text/x-python",
   "name": "python",
   "nbconvert_exporter": "python",
   "pygments_lexer": "ipython3",
   "version": "3.10.6"
  },
  "orig_nbformat": 4
 },
 "nbformat": 4,
 "nbformat_minor": 2
}
