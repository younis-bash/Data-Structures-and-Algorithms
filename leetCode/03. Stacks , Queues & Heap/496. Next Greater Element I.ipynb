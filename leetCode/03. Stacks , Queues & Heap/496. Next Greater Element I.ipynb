{
 "cells": [
  {
   "cell_type": "markdown",
   "metadata": {},
   "source": [
    "## 496. Next Greater Element I\n"
   ]
  },
  {
   "attachments": {},
   "cell_type": "markdown",
   "metadata": {},
   "source": [
    "The **next greater element** of some element `x` in an array is the **first greater** element that is **to the right** of `x` in the same array."
   ]
  },
  {
   "attachments": {},
   "cell_type": "markdown",
   "metadata": {},
   "source": [
    "You are given two **distinct 0-indexed** integer arrays `nums1` and `nums2`, where `nums1` is a subset of `nums2`."
   ]
  },
  {
   "attachments": {},
   "cell_type": "markdown",
   "metadata": {},
   "source": [
    "For each `0 <= i < nums1.length`, find the index `j` such that `nums1[i] == nums2[j]` and determine the next greater element of `nums2[j]` in `nums2`. If there is no next greater element, then the answer for this query is `-1`.\n",
    "\n"
   ]
  },
  {
   "attachments": {},
   "cell_type": "markdown",
   "metadata": {},
   "source": [
    "Return an array `ans` of length `nums1.length` such that `ans[i]` is the next greater element as described above."
   ]
  },
  {
   "attachments": {},
   "cell_type": "markdown",
   "metadata": {},
   "source": [
    "**Example 1:**\n",
    "\n",
    "- **Input**: nums1 = [4,1,2], nums2 = [1,3,4,2]\n",
    "- **Output**: [-1,3,-1]\n",
    "- **Explanation**: \n",
    "> - The next greater element for each value of nums1 is as follows:\n",
    "> - 4 is underlined in nums2 = [1,3,4,2]. There is no next greater element, so the answer is -1.\n",
    "> - 1 is underlined in nums2 = [1,3,4,2]. The next greater element is 3.\n",
    "> - 2 is underlined in nums2 = [1,3,4,2]. There is no next greater element, so the answer is -1\n"
   ]
  },
  {
   "attachments": {},
   "cell_type": "markdown",
   "metadata": {},
   "source": [
    "**Example 2**:\n",
    "\n",
    "- **Input**: nums1 = [2,4], nums2 = [1,2,3,4]\n",
    "- **Output**: [3,-1]\n",
    "\n",
    "- **Explanation**: \n",
    "> - The next greater element for each value of nums1 is as follows:\n",
    "> - 2 is underlined in nums2 = [1,2,3,4]. The next greater element is 3.\n",
    "> - 4 is underlined in nums2 = [1,2,3,4]. There is no next greater element, so the answer is -1."
   ]
  },
  {
   "attachments": {},
   "cell_type": "markdown",
   "metadata": {},
   "source": [
    "**Constraints**:\n",
    "\n",
    "- `1 <= nums1.length <= nums2.length <= 1000`\n",
    "- `0 <= nums1[i], nums2[i] <= 104`\n",
    "- All integers in `nums1` and `nums2` are unique.\n",
    "- All the integers of `nums1` also appear in `nums2`."
   ]
  },
  {
   "attachments": {},
   "cell_type": "markdown",
   "metadata": {},
   "source": [
    "**Follow up**: Could you find an `O(nums1.length + nums2.length)` solution?\n"
   ]
  },
  {
   "cell_type": "markdown",
   "metadata": {},
   "source": []
  },
  {
   "cell_type": "code",
   "execution_count": 1,
   "metadata": {},
   "outputs": [],
   "source": [
    "class Solution(object):\n",
    "    def nextGreaterElement(self, nums1, nums2):\n",
    "        \"\"\"\n",
    "        :type nums1: List[int]\n",
    "        :type nums2: List[int]\n",
    "        :rtype: List[int]\n",
    "        \"\"\"\n",
    "        dictnum1={value : i for i , value in enumerate(nums1)}\n",
    "        res=[-1] * len(nums1)\n",
    "\n",
    "        stack=[]\n",
    "        for i in range(len(nums2)): \n",
    "\n",
    "            while stack and nums2[i] > stack[-1] : \n",
    "                index=dictnum1[stack.pop()]\n",
    "                res[index] = nums2[i]\n",
    "\n",
    "            if nums2[i] in nums1 :\n",
    "                stack.append(nums2[i])\n",
    "        return res"
   ]
  }
 ],
 "metadata": {
  "kernelspec": {
   "display_name": "Python 3",
   "language": "python",
   "name": "python3"
  },
  "language_info": {
   "codemirror_mode": {
    "name": "ipython",
    "version": 3
   },
   "file_extension": ".py",
   "mimetype": "text/x-python",
   "name": "python",
   "nbconvert_exporter": "python",
   "pygments_lexer": "ipython3",
   "version": "3.10.6"
  },
  "orig_nbformat": 4,
  "vscode": {
   "interpreter": {
    "hash": "916dbcbb3f70747c44a77c7bcd40155683ae19c65e1c03b4aa3499c5328201f1"
   }
  }
 },
 "nbformat": 4,
 "nbformat_minor": 2
}
