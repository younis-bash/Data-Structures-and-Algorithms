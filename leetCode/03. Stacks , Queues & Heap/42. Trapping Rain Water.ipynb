{
 "cells": [
  {
   "attachments": {},
   "cell_type": "markdown",
   "metadata": {},
   "source": [
    "## 42. Trapping Rain Water\n",
    "\n"
   ]
  },
  {
   "attachments": {},
   "cell_type": "markdown",
   "metadata": {},
   "source": [
    "Given `n` non-negative integers representing an elevation map where the width of each bar is `1`, compute how much water it can trap after raining.\n",
    "\n"
   ]
  },
  {
   "attachments": {},
   "cell_type": "markdown",
   "metadata": {},
   "source": [
    "**Example 1:**\n",
    "\n"
   ]
  },
  {
   "attachments": {
    "image.png": {
     "image/png": "[encoded data removed]"
    }
   },
   "cell_type": "markdown",
   "metadata": {},
   "source": [
    "![image.png](attachment:image.png)"
   ]
  },
  {
   "attachments": {},
   "cell_type": "markdown",
   "metadata": {},
   "source": [
    "- **Input**: height = [0,1,0,2,1,0,1,3,2,1,2,1]\n",
    "- **Output**: 6\n",
    "- **Explanation**: The above elevation map (black section) is represented by array [0,1,0,2,1,0,1,3,2,1,2,1]. In this case, 6 units of rain water (blue section) are being trapped."
   ]
  },
  {
   "attachments": {},
   "cell_type": "markdown",
   "metadata": {},
   "source": [
    "**Example 2:**\n",
    "\n"
   ]
  },
  {
   "attachments": {},
   "cell_type": "markdown",
   "metadata": {},
   "source": [
    "- **Input**: height = [4,2,0,3,2,5]\n",
    "- **Output**: 9"
   ]
  },
  {
   "attachments": {},
   "cell_type": "markdown",
   "metadata": {},
   "source": [
    "**Constraints**:\n",
    "\n",
    "- `n == height.length`\n",
    "- `1 <= n <= 2 * 104`\n",
    "- `0 <= height[i] <= 105`"
   ]
  },
  {
   "cell_type": "code",
   "execution_count": null,
   "metadata": {},
   "outputs": [],
   "source": []
  },
  {
   "cell_type": "code",
   "execution_count": null,
   "metadata": {},
   "outputs": [],
   "source": [
    "class Solution(object):\n",
    "    def trap(self, height):\n",
    "        \"\"\"\n",
    "        :type height: List[int]\n",
    "        :rtype: int\n",
    "        \"\"\"\n",
    "        ## sol1\n",
    "        \n",
    "        # area = 0\n",
    "        # for i in range(1 , len(height)): \n",
    "        #     minh=min(max(height[:i]) , max(height[i:]))\n",
    "        #     if minh  - height[i] > 0 : \n",
    "        #         area += minh  - height[i]\n",
    "        # return area \n",
    "\n",
    "        ## sol2 \n",
    "        res = 0\n",
    "        l , r = 0 , len(height) -1 \n",
    "        lmax , rmax = height[l] , height[r]\n",
    "\n",
    "        while l < r  :\n",
    "            if lmax <= rmax :\n",
    "                l +=1\n",
    "                lmax=max(lmax , height[l])\n",
    "                res += lmax - height[l] \n",
    "            else :\n",
    "                r -=1  \n",
    "                rmax=max(rmax , height[r])\n",
    "                res += rmax - height[r] \n",
    "        return res\n"
   ]
  }
 ],
 "metadata": {
  "language_info": {
   "name": "python"
  },
  "orig_nbformat": 4
 },
 "nbformat": 4,
 "nbformat_minor": 2
}
