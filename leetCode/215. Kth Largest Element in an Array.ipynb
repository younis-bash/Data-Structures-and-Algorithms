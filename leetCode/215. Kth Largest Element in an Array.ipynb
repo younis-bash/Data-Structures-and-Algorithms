{
 "cells": [
  {
   "attachments": {},
   "cell_type": "markdown",
   "metadata": {},
   "source": [
    "## **215. Kth Largest Element in an Array**\n"
   ]
  },
  {
   "attachments": {},
   "cell_type": "markdown",
   "metadata": {},
   "source": [
    "Given an integer array `nums` and an integer `k`, return the `kth` largest element in the array.\n",
    "\n"
   ]
  },
  {
   "attachments": {},
   "cell_type": "markdown",
   "metadata": {},
   "source": [
    "Note that it is the `kth` largest element in the sorted order, not the `kth` distinct element.\n",
    "\n"
   ]
  },
  {
   "attachments": {},
   "cell_type": "markdown",
   "metadata": {},
   "source": [
    "You must solve it in `O(n)` time complexity.\n",
    "\n"
   ]
  },
  {
   "attachments": {},
   "cell_type": "markdown",
   "metadata": {},
   "source": [
    "**Example 1:**\n",
    "\n"
   ]
  },
  {
   "attachments": {},
   "cell_type": "markdown",
   "metadata": {},
   "source": [
    "- **Input**: nums = [3,2,1,5,6,4], k = 2\n",
    "\n",
    "- **Output**: 5"
   ]
  },
  {
   "attachments": {},
   "cell_type": "markdown",
   "metadata": {},
   "source": [
    "**Example 2:**\n",
    "\n"
   ]
  },
  {
   "attachments": {},
   "cell_type": "markdown",
   "metadata": {},
   "source": [
    "- **Input**: nums = [3,2,3,1,2,4,5,5,6], k = 4\n",
    "\n",
    "- **Output**: 4"
   ]
  },
  {
   "attachments": {},
   "cell_type": "markdown",
   "metadata": {},
   "source": [
    "**Constraints**:\n"
   ]
  },
  {
   "attachments": {},
   "cell_type": "markdown",
   "metadata": {},
   "source": [
    "\n",
    "- `1 <= k <= nums.length <= 105`\n",
    "\n",
    "- `-104 <= nums[i] <= 104`"
   ]
  },
  {
   "cell_type": "code",
   "execution_count": 73,
   "metadata": {},
   "outputs": [],
   "source": [
    "class Solution(object):\n",
    "    def findKthLargest(self, nums, k):\n",
    "        \"\"\"\n",
    "        :type nums: List[int]\n",
    "        :type k: int\n",
    "        :rtype: int\n",
    "        \"\"\"\n",
    "        k = len(nums) - k\n",
    "\n",
    "        def qsort(l, r):\n",
    "            pivot, p = nums[r], l\n",
    "\n",
    "            for i in range(l, r):\n",
    "                if nums[i] <= pivot:\n",
    "                    nums[p], nums[i] = nums[i], nums[p]\n",
    "                    p += 1\n",
    "            nums[p], nums[r] = nums[r], nums[p]\n",
    "\n",
    "            if p > k:\n",
    "                return qsort(l, p-1)\n",
    "\n",
    "            elif p < k:\n",
    "                return qsort(p+1, r)\n",
    "\n",
    "            else:\n",
    "                return nums[p]\n",
    "\n",
    "        return qsort(0, len(nums) - 1)"
   ]
  },
  {
   "cell_type": "code",
   "execution_count": 74,
   "metadata": {},
   "outputs": [
    {
     "name": "stdout",
     "output_type": "stream",
     "text": [
      "5\n"
     ]
    }
   ],
   "source": [
    "sol=Solution()\n",
    "nums=[3,2,1,5,6,4]\n",
    "print(sol.findKthLargest(nums , 2))"
   ]
  },
  {
   "cell_type": "code",
   "execution_count": 57,
   "metadata": {},
   "outputs": [],
   "source": [
    "class Solution(object):\n",
    "    def findKthLargest(self, nums, k):\n",
    "        \"\"\"\n",
    "        :type nums: List[int]\n",
    "        :type k: int\n",
    "        :rtype: int\n",
    "        \"\"\"\n",
    "\n",
    "        return self.qsort(nums)[len(nums) - k]\n",
    "    \n",
    "    def sort(self, items, begin_index, end_index):    \n",
    "        \n",
    "        \n",
    "        left_index = begin_index\n",
    "        pivot_index = end_index\n",
    "        pivot_value = items[pivot_index]\n",
    "\n",
    "        while (pivot_index != left_index):\n",
    "\n",
    "            item = items[left_index]\n",
    "\n",
    "            if item <= pivot_value:\n",
    "                left_index += 1\n",
    "                continue\n",
    "\n",
    "            items[left_index] = items[pivot_index - 1]\n",
    "            items[pivot_index - 1] = pivot_value\n",
    "            items[pivot_index] = item\n",
    "            pivot_index -= 1\n",
    "        \n",
    "        return pivot_index\n",
    "        \n",
    "    def sort_all(self, items, begin_index , end_index) : \n",
    "        if end_index <= begin_index:\n",
    "            return\n",
    "        \n",
    "        pivot_index = self.sort(items , begin_index , end_index) \n",
    "        self.sort_all(items, begin_index, pivot_index -1)\n",
    "        self.sort_all(items , pivot_index + 1 , end_index)\n",
    "\n",
    "        return items \n",
    "    \n",
    "    def qsort(self , items): \n",
    "        return self.sort_all(items , 0 , len(items)-1)\n",
    "    \n",
    "        \n",
    "    \n",
    "\n",
    "\n",
    "        "
   ]
  },
  {
   "attachments": {},
   "cell_type": "markdown",
   "metadata": {},
   "source": [
    "0 1 2 8 3 "
   ]
  },
  {
   "cell_type": "code",
   "execution_count": 58,
   "metadata": {},
   "outputs": [
    {
     "name": "stdout",
     "output_type": "stream",
     "text": [
      "5\n"
     ]
    }
   ],
   "source": [
    "sol=Solution()\n",
    "nums=[3,2,1,5,6,4]\n",
    "print(sol.findKthLargest(nums , 2 ))\n",
    "# print(sol.findKthLargest(nums = [3,2,3,1,2,4,5,5,6], k = 4))"
   ]
  },
  {
   "cell_type": "code",
   "execution_count": null,
   "metadata": {},
   "outputs": [],
   "source": []
  }
 ],
 "metadata": {
  "kernelspec": {
   "display_name": "Python 3",
   "language": "python",
   "name": "python3"
  },
  "language_info": {
   "codemirror_mode": {
    "name": "ipython",
    "version": 3
   },
   "file_extension": ".py",
   "mimetype": "text/x-python",
   "name": "python",
   "nbconvert_exporter": "python",
   "pygments_lexer": "ipython3",
   "version": "3.10.6"
  },
  "orig_nbformat": 4
 },
 "nbformat": 4,
 "nbformat_minor": 2
}
