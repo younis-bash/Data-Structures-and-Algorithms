{
 "cells": [
  {
   "attachments": {},
   "cell_type": "markdown",
   "metadata": {},
   "source": [
    "## 47. Permutations II\n"
   ]
  },
  {
   "attachments": {},
   "cell_type": "markdown",
   "metadata": {},
   "source": [
    "Given a collection of numbers, `nums`, that might contain duplicates, return all possible unique permutations in **any order.**\n",
    "\n"
   ]
  },
  {
   "attachments": {},
   "cell_type": "markdown",
   "metadata": {},
   "source": [
    "**Example 1:**\n",
    "\n"
   ]
  },
  {
   "cell_type": "markdown",
   "metadata": {},
   "source": []
  },
  {
   "attachments": {},
   "cell_type": "markdown",
   "metadata": {},
   "source": [
    "- **Input**: nums = [1,1,2]\n",
    "- **Output**:\n",
    "[[1,1,2],\n",
    " [1,2,1],\n",
    " [2,1,1]]"
   ]
  },
  {
   "attachments": {},
   "cell_type": "markdown",
   "metadata": {},
   "source": [
    "**Example 2:**"
   ]
  },
  {
   "attachments": {},
   "cell_type": "markdown",
   "metadata": {},
   "source": [
    "- **Input**: nums = [1,2,3]\n",
    "- **Output**: [[1,2,3],[1,3,2],[2,1,3],[2,3,1],[3,1,2],[3,2,1]]"
   ]
  },
  {
   "attachments": {},
   "cell_type": "markdown",
   "metadata": {},
   "source": [
    "**Constraints:**\n"
   ]
  },
  {
   "attachments": {},
   "cell_type": "markdown",
   "metadata": {},
   "source": [
    "\n",
    "- `1 <= nums.length <= 8`\n",
    "- `-10 <= nums[i] <= 10`"
   ]
  },
  {
   "cell_type": "code",
   "execution_count": 32,
   "metadata": {},
   "outputs": [],
   "source": [
    "import collections"
   ]
  },
  {
   "cell_type": "code",
   "execution_count": 60,
   "metadata": {},
   "outputs": [],
   "source": [
    "class Solution(object):\n",
    "    def permuteUnique(self, nums):\n",
    "        \"\"\"\n",
    "        :type nums: List[int]\n",
    "        :rtype: List[List[int]]\n",
    "        \"\"\"\n",
    "        result=[]\n",
    "        prems=[]\n",
    "        ## hash the nums \n",
    "        nums_count={n:0 for n in nums}\n",
    "        for num in nums: \n",
    "            nums_count[num] +=1 \n",
    "\n",
    "        def backtrack():\n",
    "            if len(prems) ==  len(nums): \n",
    "                result.append(prems.copy())\n",
    "                return \n",
    "            \n",
    "            for n in nums_count : \n",
    "                if nums_count[n] > 0 : \n",
    "                    prems.append(n)\n",
    "                    nums_count[n] -=1\n",
    "                    backtrack()    \n",
    "                    nums_count[n] +=1 \n",
    "                    prems.pop()\n",
    "\n",
    "        backtrack()         \n",
    "        return result"
   ]
  },
  {
   "cell_type": "code",
   "execution_count": 61,
   "metadata": {},
   "outputs": [
    {
     "name": "stdout",
     "output_type": "stream",
     "text": [
      "CALL BACK\n",
      "[]\n",
      "CALL BACK\n",
      "[1]\n",
      "CALL BACK\n",
      "[1, 1]\n",
      "CALL BACK\n",
      "CALL BACK\n",
      "[1, 2]\n",
      "CALL BACK\n",
      "CALL BACK\n",
      "[2]\n",
      "CALL BACK\n",
      "[2, 1]\n",
      "CALL BACK\n",
      "[[1, 1, 2], [1, 2, 1], [2, 1, 1]]\n"
     ]
    }
   ],
   "source": [
    "sol=Solution()\n",
    "#print(sol.permuteUnique([1,0]))\n",
    "print(sol.permuteUnique([1,1,2]))\n",
    "# print(sol.permuteUnique([1,2,3]))"
   ]
  },
  {
   "cell_type": "code",
   "execution_count": null,
   "metadata": {},
   "outputs": [],
   "source": []
  }
 ],
 "metadata": {
  "kernelspec": {
   "display_name": "Python 3",
   "language": "python",
   "name": "python3"
  },
  "language_info": {
   "codemirror_mode": {
    "name": "ipython",
    "version": 3
   },
   "file_extension": ".py",
   "mimetype": "text/x-python",
   "name": "python",
   "nbconvert_exporter": "python",
   "pygments_lexer": "ipython3",
   "version": "3.10.6"
  },
  "orig_nbformat": 4,
  "vscode": {
   "interpreter": {
    "hash": "916dbcbb3f70747c44a77c7bcd40155683ae19c65e1c03b4aa3499c5328201f1"
   }
  }
 },
 "nbformat": 4,
 "nbformat_minor": 2
}
