{
 "cells": [
  {
   "attachments": {},
   "cell_type": "markdown",
   "metadata": {},
   "source": [
    "## **1863. Sum of All Subset XOR Totals**\n"
   ]
  },
  {
   "attachments": {},
   "cell_type": "markdown",
   "metadata": {},
   "source": [
    "The **XOR total** of an array is defined as the bitwise `XOR` of all its elements, or `0` if the array is **empty**.\n",
    "\n"
   ]
  },
  {
   "attachments": {},
   "cell_type": "markdown",
   "metadata": {},
   "source": [
    "- For example, the **XOR total** of the array `[2,5,6]` is `2 XOR 5 XOR 6 = 1`.\n"
   ]
  },
  {
   "attachments": {},
   "cell_type": "markdown",
   "metadata": {},
   "source": [
    "Given an array `nums`, return the sum of all **XOR totals** for every **subset** of `nums`. \n",
    "\n"
   ]
  },
  {
   "attachments": {},
   "cell_type": "markdown",
   "metadata": {},
   "source": [
    "**Note**: Subsets with the **same** elements should be counted **multiple** times.\n",
    "\n"
   ]
  },
  {
   "attachments": {},
   "cell_type": "markdown",
   "metadata": {},
   "source": [
    "An array `a` is a **subset** of an array `b` if `a` can be obtained from `b` by deleting some (possibly zero) elements of `b`.\n",
    "\n"
   ]
  },
  {
   "attachments": {},
   "cell_type": "markdown",
   "metadata": {},
   "source": [
    "**Example 1:**\n",
    "\n"
   ]
  },
  {
   "attachments": {},
   "cell_type": "markdown",
   "metadata": {},
   "source": [
    "- **Input**: nums = [1,3]\n",
    "\n",
    "- **Output**: 6\n",
    "\n",
    "- **Explanation**: The 4 subsets of [1,3] are:\n",
    "    - The empty subset has an XOR total of 0.\n",
    "    \n",
    "    - [1] has an XOR total of 1.\n",
    "    \n",
    "    - [3] has an XOR total of 3.\n",
    "    \n",
    "    - [1,3] has an XOR total of 1 XOR 3 = 2. <br>\n",
    "    \n",
    "    0 + 1 + 3 + 2 = 6"
   ]
  },
  {
   "attachments": {},
   "cell_type": "markdown",
   "metadata": {},
   "source": [
    "**Example 2:**\n",
    "\n"
   ]
  },
  {
   "attachments": {},
   "cell_type": "markdown",
   "metadata": {},
   "source": [
    "- **Input**: nums = [5,1,6]\n",
    "\n",
    "- **Output**: 28\n",
    "\n",
    "- **Explanation**: The 8 subsets of [5,1,6] are:\n",
    "    - The empty subset has an XOR total of 0.\n",
    "    \n",
    "    - [5] has an XOR total of 5.\n",
    "    \n",
    "    - [1] has an XOR total of 1.\n",
    "    \n",
    "    - [6] has an XOR total of 6.\n",
    "    \n",
    "    - [5,1] has an XOR total of 5 XOR 1 = 4.\n",
    "    \n",
    "    - [5,6] has an XOR total of 5 XOR 6 = 3.\n",
    "    \n",
    "    - [1,6] has an XOR total of 1 XOR 6 = 7.\n",
    "    \n",
    "    - [5,1,6] has an XOR total of 5 XOR 1 XOR 6 = 2.<br>\n",
    "    \n",
    "    0 + 5 + 1 + 6 + 4 + 3 + 7 + 2 = 28"
   ]
  },
  {
   "attachments": {},
   "cell_type": "markdown",
   "metadata": {},
   "source": [
    "**Example 3:**\n",
    "\n"
   ]
  },
  {
   "attachments": {},
   "cell_type": "markdown",
   "metadata": {},
   "source": [
    "- **Input**: nums = [3,4,5,6,7,8]\n",
    "\n",
    "- **Output**: 480\n",
    "\n",
    "- **Explanation**: The sum of all XOR totals for every subset is 480."
   ]
  },
  {
   "attachments": {},
   "cell_type": "markdown",
   "metadata": {},
   "source": [
    "**Constraints**:\n",
    "\n",
    "- `1 <= nums.length <= 12`\n",
    "\n",
    "- `1 <= nums[i] <= 20`"
   ]
  },
  {
   "cell_type": "code",
   "execution_count": 51,
   "metadata": {},
   "outputs": [],
   "source": [
    "class Solution(object):\n",
    "    def subsetXORSum(self, nums):\n",
    "        \"\"\"\n",
    "        :type nums: List[int]\n",
    "        :rtype: int\n",
    "        \"\"\"\n",
    "        self.res = 0 \n",
    "\n",
    "        def dfs(depth , prev):\n",
    "            self.res += prev \n",
    "            for num in nums[depth:] : \n",
    "                prev ^= num \n",
    "                depth += 1 \n",
    "                dfs(depth , prev)\n",
    "                prev ^= num\n",
    "\n",
    "        dfs(0 , 0)\n",
    "        return self.res"
   ]
  },
  {
   "cell_type": "code",
   "execution_count": 52,
   "metadata": {},
   "outputs": [
    {
     "name": "stdout",
     "output_type": "stream",
     "text": [
      "6\n",
      "28\n"
     ]
    }
   ],
   "source": [
    "sol=Solution()\n",
    "print(sol.subsetXORSum(nums = [1,3]))\n",
    "print(sol.subsetXORSum(nums = [5,1,6]))"
   ]
  },
  {
   "cell_type": "code",
   "execution_count": null,
   "metadata": {},
   "outputs": [],
   "source": []
  }
 ],
 "metadata": {
  "kernelspec": {
   "display_name": "Python 3",
   "language": "python",
   "name": "python3"
  },
  "language_info": {
   "codemirror_mode": {
    "name": "ipython",
    "version": 3
   },
   "file_extension": ".py",
   "mimetype": "text/x-python",
   "name": "python",
   "nbconvert_exporter": "python",
   "pygments_lexer": "ipython3",
   "version": "3.10.6"
  },
  "orig_nbformat": 4
 },
 "nbformat": 4,
 "nbformat_minor": 2
}
