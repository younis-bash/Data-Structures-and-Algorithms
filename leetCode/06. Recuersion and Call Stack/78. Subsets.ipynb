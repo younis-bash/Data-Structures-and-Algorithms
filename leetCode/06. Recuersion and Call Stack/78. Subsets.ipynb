{
 "cells": [
  {
   "attachments": {},
   "cell_type": "markdown",
   "metadata": {},
   "source": [
    "## 78. Subsets\n"
   ]
  },
  {
   "attachments": {},
   "cell_type": "markdown",
   "metadata": {},
   "source": [
    "Given an integer array `nums` of **unique** elements, return all possible subsets (the power set).\n"
   ]
  },
  {
   "attachments": {},
   "cell_type": "markdown",
   "metadata": {},
   "source": [
    "The solution set must not contain duplicate subsets. Return the solution in **any order**.\n",
    "\n"
   ]
  },
  {
   "attachments": {},
   "cell_type": "markdown",
   "metadata": {},
   "source": [
    "**Example 1:**\n",
    "\n"
   ]
  },
  {
   "attachments": {},
   "cell_type": "markdown",
   "metadata": {},
   "source": [
    "- **Input**: nums = [1,2,3]\n",
    "- **Output**: [[],[1],[2],[1,2],[3],[1,3],[2,3],[1,2,3]]"
   ]
  },
  {
   "attachments": {},
   "cell_type": "markdown",
   "metadata": {},
   "source": [
    "**Example 2:**"
   ]
  },
  {
   "attachments": {},
   "cell_type": "markdown",
   "metadata": {},
   "source": [
    "- **Input**: nums = [0]\n",
    "- **Output**: [[],[0]]"
   ]
  },
  {
   "attachments": {},
   "cell_type": "markdown",
   "metadata": {},
   "source": [
    "**Constraints:**\n",
    "\n"
   ]
  },
  {
   "attachments": {},
   "cell_type": "markdown",
   "metadata": {},
   "source": [
    "- `1 <= nums.length <= 10`\n",
    "- `-10 <= nums[i] <= 10`\n",
    "- All the numbers of `nums` are **unique**."
   ]
  },
  {
   "cell_type": "code",
   "execution_count": 50,
   "metadata": {},
   "outputs": [],
   "source": [
    "class Solution(object):\n",
    "    def subsets(self, nums):\n",
    "        \"\"\"\n",
    "        :type nums: List[int]\n",
    "        :rtype: List[List[int]]\n",
    "        \"\"\"\n",
    "        res=[]\n",
    "        subset=[]\n",
    "\n",
    "        def dfs(i) : \n",
    "            if i >=  len(nums) : \n",
    "                res.append(subset[:])\n",
    "                return \n",
    "            \n",
    "            ## decision to include nums[i]\n",
    "            subset.append(nums[i])\n",
    "            dfs(i+1)\n",
    "            ## decision to not include nums[i] \n",
    "            subset.pop()\n",
    "            dfs(i+1)\n",
    "        \n",
    "        dfs(0)\n",
    "        return res\n"
   ]
  },
  {
   "cell_type": "code",
   "execution_count": 51,
   "metadata": {},
   "outputs": [
    {
     "name": "stdout",
     "output_type": "stream",
     "text": [
      "[[1, 2, 3], [1, 2], [1, 3], [1], [2, 3], [2], [3], []]\n",
      "[[0], []]\n"
     ]
    }
   ],
   "source": [
    "sol=Solution()\n",
    "print(sol.subsets([1,2,3]))\n",
    "print(sol.subsets([0]))"
   ]
  },
  {
   "cell_type": "code",
   "execution_count": 3,
   "metadata": {},
   "outputs": [],
   "source": [
    "class Solution(object):\n",
    "    def subsets(self, nums):\n",
    "        i=0 \n",
    "        subset=[]\n",
    "        subsets=[]\n",
    "        return self.rec(arr=nums , i=i , subset=subset ,subsets=subsets)\n",
    "\n",
    "    def rec(self, arr, i , subset, subsets):\n",
    "        if i >= len(arr): \n",
    "            subsets.append(subset[:])\n",
    "            return \n",
    "        \n",
    "        self.rec(arr , i+1 , subset + [arr[i]] , subsets) \n",
    "        self.rec(arr , i+1 , subset  , subsets) \n",
    "        return subsets "
   ]
  },
  {
   "cell_type": "code",
   "execution_count": 4,
   "metadata": {},
   "outputs": [
    {
     "name": "stdout",
     "output_type": "stream",
     "text": [
      "[[1, 2, 3], [1, 2], [1, 3], [1], [2, 3], [2], [3], []]\n",
      "[[0], []]\n"
     ]
    }
   ],
   "source": [
    "sol=Solution()\n",
    "print(sol.subsets([1,2,3]))\n",
    "print(sol.subsets([0]))"
   ]
  }
 ],
 "metadata": {
  "kernelspec": {
   "display_name": "Python 3",
   "language": "python",
   "name": "python3"
  },
  "language_info": {
   "codemirror_mode": {
    "name": "ipython",
    "version": 3
   },
   "file_extension": ".py",
   "mimetype": "text/x-python",
   "name": "python",
   "nbconvert_exporter": "python",
   "pygments_lexer": "ipython3",
   "version": "3.10.6"
  },
  "orig_nbformat": 4
 },
 "nbformat": 4,
 "nbformat_minor": 2
}
