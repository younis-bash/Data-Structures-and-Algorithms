{
 "cells": [
  {
   "attachments": {},
   "cell_type": "markdown",
   "metadata": {},
   "source": [
    "## **39. Combination Sum**"
   ]
  },
  {
   "attachments": {},
   "cell_type": "markdown",
   "metadata": {},
   "source": [
    "Given an array of **distinct** integers `candidates` and a target integer `target`, return a list of all unique combinations of `candidates` where the chosen numbers sum to `target`. You may return the combinations in **any order**.\n",
    "\n"
   ]
  },
  {
   "attachments": {},
   "cell_type": "markdown",
   "metadata": {},
   "source": [
    "The **same** number may be chosen from `candidates` an **unlimited number of times**. Two combinations are unique if the \n",
    "frequency of at least one of the chosen numbers is different."
   ]
  },
  {
   "attachments": {},
   "cell_type": "markdown",
   "metadata": {},
   "source": [
    "The test cases are generated such that the number of unique combinations that sum up to `target` is less than `150` combinations for the given input."
   ]
  },
  {
   "attachments": {},
   "cell_type": "markdown",
   "metadata": {},
   "source": [
    "**Example 1:**\n",
    "\n"
   ]
  },
  {
   "attachments": {},
   "cell_type": "markdown",
   "metadata": {},
   "source": [
    "- **Input**: candidates = [2,3,6,7], target = 7\n",
    "\n",
    "- **Output**: [[2,2,3],[7]]\n",
    "\n",
    "- **Explanation**:\n",
    "    - 2 and 3 are candidates, and 2 + 2 + 3 = 7. Note that 2 can be used multiple times.\n",
    "    - 7 is a candidate, and 7 = 7.\n",
    "    - These are the only two combinations."
   ]
  },
  {
   "attachments": {},
   "cell_type": "markdown",
   "metadata": {},
   "source": [
    "**Example 2:**\n",
    "\n"
   ]
  },
  {
   "attachments": {},
   "cell_type": "markdown",
   "metadata": {},
   "source": [
    "- **Input**: candidates = [2,3,5], target = 8\n",
    "\n",
    "- **Output**: [[2,2,2,2],[2,3,3],[3,5]]"
   ]
  },
  {
   "attachments": {},
   "cell_type": "markdown",
   "metadata": {},
   "source": [
    "**Example 3:**\n",
    "\n",
    "- **Input**: candidates = [2], target = 1\n",
    "\n",
    "- **Output**: []"
   ]
  },
  {
   "cell_type": "code",
   "execution_count": 9,
   "metadata": {},
   "outputs": [],
   "source": [
    "class Solution(object):\n",
    "    def combinationSum(self, candidates, target):\n",
    "        \"\"\"\n",
    "        :type candidates: List[int]\n",
    "        :type target: int\n",
    "        :rtype: List[List[int]]\n",
    "        \"\"\"\n",
    "        res = [] \n",
    "        comb=[]\n",
    "\n",
    "        def backtrack(i,total):\n",
    "\n",
    "            if total == target :\n",
    "                res.append(comb[:]) \n",
    "                return \n",
    "            \n",
    "            if i >=  len(candidates) or total > target : \n",
    "                return \n",
    "            \n",
    "            comb.append(candidates[i])\n",
    "\n",
    "            backtrack(i, total +candidates[i])\n",
    "            comb.pop()\n",
    "            backtrack(i + 1 , total)\n",
    "        \n",
    "        backtrack(0,0)\n",
    "        return res\n"
   ]
  },
  {
   "cell_type": "code",
   "execution_count": 10,
   "metadata": {},
   "outputs": [
    {
     "name": "stdout",
     "output_type": "stream",
     "text": [
      "[[2, 2, 2, 2], [2, 3, 3], [3, 5]]\n"
     ]
    }
   ],
   "source": [
    "sol=Solution()\n",
    "print(sol.combinationSum(candidates = [2,3,5], target = 8))\n",
    "print(sol.combinationSum(candidates = [2,3,5], target = 8))\n",
    "print(sol.combinationSum(candidates = [2], target = 1))"
   ]
  },
  {
   "cell_type": "code",
   "execution_count": null,
   "metadata": {},
   "outputs": [],
   "source": []
  }
 ],
 "metadata": {
  "kernelspec": {
   "display_name": "Python 3",
   "language": "python",
   "name": "python3"
  },
  "language_info": {
   "codemirror_mode": {
    "name": "ipython",
    "version": 3
   },
   "file_extension": ".py",
   "mimetype": "text/x-python",
   "name": "python",
   "nbconvert_exporter": "python",
   "pygments_lexer": "ipython3",
   "version": "3.10.6"
  },
  "orig_nbformat": 4
 },
 "nbformat": 4,
 "nbformat_minor": 2
}
