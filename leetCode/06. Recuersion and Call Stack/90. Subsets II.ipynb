{
 "cells": [
  {
   "attachments": {},
   "cell_type": "markdown",
   "metadata": {},
   "source": [
    "## **90. Subsets II**\n"
   ]
  },
  {
   "attachments": {},
   "cell_type": "markdown",
   "metadata": {},
   "source": [
    "Given an integer array `nums` that may contain duplicates, return all possible \n",
    "subsets."
   ]
  },
  {
   "attachments": {},
   "cell_type": "markdown",
   "metadata": {},
   "source": [
    "The solution set must not contain duplicate subsets. Return the solution in **any order**.\n",
    "\n"
   ]
  },
  {
   "attachments": {},
   "cell_type": "markdown",
   "metadata": {},
   "source": [
    "**Example 1:**\n",
    "\n"
   ]
  },
  {
   "attachments": {},
   "cell_type": "markdown",
   "metadata": {},
   "source": [
    "- **Input**: nums = [1,2,2]\n",
    "\n",
    "- **Output**: [[],[1],[1,2],[1,2,2],[2],[2,2]]"
   ]
  },
  {
   "attachments": {},
   "cell_type": "markdown",
   "metadata": {},
   "source": [
    "**Example 2:**\n",
    "\n"
   ]
  },
  {
   "attachments": {},
   "cell_type": "markdown",
   "metadata": {},
   "source": [
    "- **Input**: nums = [0]\n",
    "\n",
    "- **Output**: [[],[0]]"
   ]
  },
  {
   "attachments": {},
   "cell_type": "markdown",
   "metadata": {},
   "source": [
    "**Constraints**:\n",
    "\n",
    "- `1 <= nums.length <= 10`\n",
    "\n",
    "- `-10 <= nums[i] <= 10`"
   ]
  },
  {
   "cell_type": "code",
   "execution_count": 41,
   "metadata": {},
   "outputs": [],
   "source": [
    "class Solution(object):\n",
    "    def subsetsWithDup(self, nums):\n",
    "        \"\"\"\n",
    "        :type nums: List[int]\n",
    "        :rtype: List[List[int]]\n",
    "        \"\"\"\n",
    "\n",
    "        res=[]\n",
    "\n",
    "        def dfs(i , subset):\n",
    "            if i >= len(nums): \n",
    "                if subset[:] not in res:\n",
    "                    res.append(subset[:])\n",
    "                return \n",
    "            subset.append(nums[i])\n",
    "\n",
    "            dfs(i+1 , subset) \n",
    "            subset.pop()\n",
    "\n",
    "            while i+1 < len(subset) and nums[i] == nums[i+1]:\n",
    "                i+1\n",
    "            dfs(i+1 , subset)\n",
    "        dfs(0,[])\n",
    "        return res"
   ]
  },
  {
   "cell_type": "code",
   "execution_count": 49,
   "metadata": {},
   "outputs": [
    {
     "data": {
      "text/plain": [
       "[[4, 4, 4, 1, 4],\n",
       " [4, 4, 4, 1],\n",
       " [4, 4, 4, 4],\n",
       " [4, 4, 4],\n",
       " [4, 4, 1, 4],\n",
       " [4, 4, 1],\n",
       " [4, 4],\n",
       " [4, 1, 4],\n",
       " [4, 1],\n",
       " [4],\n",
       " [1, 4],\n",
       " [1],\n",
       " []]"
      ]
     },
     "execution_count": 49,
     "metadata": {},
     "output_type": "execute_result"
    }
   ],
   "source": [
    "sol=Solution()\n",
    "sol.subsetsWithDup(nums = [4,4,4,1,4])"
   ]
  },
  {
   "cell_type": "code",
   "execution_count": null,
   "metadata": {},
   "outputs": [],
   "source": []
  }
 ],
 "metadata": {
  "kernelspec": {
   "display_name": "Python 3",
   "language": "python",
   "name": "python3"
  },
  "language_info": {
   "codemirror_mode": {
    "name": "ipython",
    "version": 3
   },
   "file_extension": ".py",
   "mimetype": "text/x-python",
   "name": "python",
   "nbconvert_exporter": "python",
   "pygments_lexer": "ipython3",
   "version": "3.10.6"
  },
  "orig_nbformat": 4
 },
 "nbformat": 4,
 "nbformat_minor": 2
}
