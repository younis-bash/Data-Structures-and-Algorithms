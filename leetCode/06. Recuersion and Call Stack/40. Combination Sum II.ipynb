{
 "cells": [
  {
   "attachments": {},
   "cell_type": "markdown",
   "metadata": {},
   "source": [
    "## **40. Combination Sum II**"
   ]
  },
  {
   "attachments": {},
   "cell_type": "markdown",
   "metadata": {},
   "source": [
    "Given a collection of candidate numbers (`candidates`) and a target number (`target`), find all unique combinations in `candidates` where the candidate numbers sum to `target`.\n",
    "\n"
   ]
  },
  {
   "attachments": {},
   "cell_type": "markdown",
   "metadata": {},
   "source": [
    "Each number in `candidates` may only be used once in the combination.\n",
    "\n"
   ]
  },
  {
   "attachments": {},
   "cell_type": "markdown",
   "metadata": {},
   "source": [
    "**Note**: The solution set must not contain duplicate combinations.\n",
    "\n"
   ]
  },
  {
   "attachments": {},
   "cell_type": "markdown",
   "metadata": {},
   "source": [
    "**Example 1:**\n"
   ]
  },
  {
   "attachments": {},
   "cell_type": "markdown",
   "metadata": {},
   "source": [
    "- **Input**: candidates = [10,1,2,7,6,1,5], target = 8\n",
    "\n",
    "- Output: \n",
    "[\n",
    "[1,1,6],\n",
    "[1,2,5],\n",
    "[1,7],\n",
    "[2,6]\n",
    "]"
   ]
  },
  {
   "attachments": {},
   "cell_type": "markdown",
   "metadata": {},
   "source": [
    "**Example 2:**\n",
    "\n"
   ]
  },
  {
   "attachments": {},
   "cell_type": "markdown",
   "metadata": {},
   "source": [
    "- **Input**: candidates = [2,5,2,1,2], target = 5\n",
    "\n",
    "- **Output**: \n",
    "[\n",
    "[1,2,2],\n",
    "[5]\n",
    "]"
   ]
  },
  {
   "attachments": {},
   "cell_type": "markdown",
   "metadata": {},
   "source": [
    "**Constraints**:\n",
    "\n",
    "- `1 <= candidates.length <= 100`\n",
    "\n",
    "- `1 <= candidates[i] <= 50`\n",
    "\n",
    "- `1 <= target <= 30`"
   ]
  },
  {
   "cell_type": "code",
   "execution_count": 22,
   "metadata": {},
   "outputs": [],
   "source": [
    "class Solution(object):\n",
    "    def combinationSum2(self, candidates, target):\n",
    "        \"\"\"\n",
    "        :type candidates: List[int]\n",
    "        :type target: int\n",
    "        :rtype: List[List[int]]\n",
    "        \"\"\"\n",
    "\n",
    "        candidates.sort()\n",
    "        res = []\n",
    "\n",
    "        def backtrack(i ,total, subset):\n",
    "            \n",
    "            if total == target : \n",
    "                res.append(subset[:])\n",
    "                return \n",
    "\n",
    "            if i >= len(candidates) or total > target: \n",
    "                return\n",
    "            \n",
    "            subset.append(candidates[i])\n",
    "\n",
    "            backtrack(i+1 , total + candidates[i] , subset)\n",
    "     \n",
    "            subset.pop()\n",
    "            \n",
    "            while i+1 < len(candidates) and candidates[i] == candidates[i+1] : \n",
    "                i += 1\n",
    "\n",
    "            backtrack(i+1 , total ,subset)\n",
    "\n",
    "\n",
    "        backtrack(0 , 0,[])\n",
    "        return res\n"
   ]
  },
  {
   "cell_type": "code",
   "execution_count": 23,
   "metadata": {},
   "outputs": [
    {
     "name": "stdout",
     "output_type": "stream",
     "text": [
      "[[1, 1, 6], [1, 2, 5], [1, 7], [2, 6]]\n",
      "[[1, 2, 2], [5]]\n"
     ]
    }
   ],
   "source": [
    "sol=Solution()\n",
    "print(sol.combinationSum2(candidates = [10,1,2,7,6,1,5], target = 8))\n",
    "print(sol.combinationSum2(candidates = [2,5,2,1,2], target = 5))"
   ]
  },
  {
   "cell_type": "code",
   "execution_count": null,
   "metadata": {},
   "outputs": [],
   "source": []
  }
 ],
 "metadata": {
  "kernelspec": {
   "display_name": "Python 3",
   "language": "python",
   "name": "python3"
  },
  "language_info": {
   "codemirror_mode": {
    "name": "ipython",
    "version": 3
   },
   "file_extension": ".py",
   "mimetype": "text/x-python",
   "name": "python",
   "nbconvert_exporter": "python",
   "pygments_lexer": "ipython3",
   "version": "3.10.6"
  },
  "orig_nbformat": 4
 },
 "nbformat": 4,
 "nbformat_minor": 2
}
