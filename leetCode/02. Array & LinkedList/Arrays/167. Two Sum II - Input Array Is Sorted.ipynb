{
 "cells": [
  {
   "attachments": {},
   "cell_type": "markdown",
   "metadata": {},
   "source": [
    "## 167. Two Sum II - Input Array Is Sorted\n",
    "\n",
    "Given a **1-indexed** array of integers `numbers` that is already sorted in non-decreasing order, find two numbers such that they add up to a specific `target` number. Let these two numbers be `numbers[index1]` and `numbers[index2]` where `1 <= index1 < index2 <= numbers.length.`\n",
    "\n",
    "Return the indices of the two numbers, `index1` and `index2`, **added by one** as an integer array `[index1, index2]` of length 2.\n",
    "\n",
    "The tests are generated such that there is **exactly one solution**. You may not use the same element twice.\n",
    "\n",
    "Your solution must use only constant extra space.\n",
    "\n",
    "**Example 1:**\n",
    "\n",
    "- **Input**: numbers = [2,7,11,15], target = 9\n",
    "- **Output**: [1,2]\n",
    "- **Explanation**: The sum of 2 and 7 is 9. Therefore, index1 = 1, index2 = 2. We return [1, 2].\n",
    "\n",
    "**Example 2:**\n",
    "\n",
    "- **Input**: numbers = [2,3,4], target = 6\n",
    "- **Output**: [1,3]\n",
    "- **Explanation**: The sum of 2 and 4 is 6. Therefore index1 = 1, index2 = 3. We return [1, 3].\n",
    "\n",
    "**Example 3:**\n",
    "\n",
    "- **Input**: numbers = [-1,0], target = -1\n",
    "- **Output**: [1,2]\n",
    "- **Explanation**: The sum of -1 and 0 is -1. Therefore index1 = 1, index2 = 2. We return [1, 2].\n",
    " \n",
    "\n",
    "**Constraints:**\n",
    "\n",
    "- `2 <= numbers.length <= 3 * 104`\n",
    "- `-1000 <= numbers[i] <= 1000`\n",
    "- `numbers` is sorted in non-decreasing order.\n",
    "- `-1000 <= target <= 1000`\n",
    "- The tests are generated such that there is **exactly one solution**."
   ]
  },
  {
   "cell_type": "code",
   "execution_count": 1,
   "metadata": {},
   "outputs": [],
   "source": [
    "class Solution(object):\n",
    "    def twoSum(self, numbers, target):\n",
    "        \"\"\"\n",
    "        :type numbers: List[int]\n",
    "        :type target: int\n",
    "        :rtype: List[int]\n",
    "        \"\"\"\n",
    "        l , r = 0 , len(numbers) -  1 \n",
    "\n",
    "        while l < r : \n",
    "            if numbers[l] + numbers[r] > target : \n",
    "                r -=1 \n",
    "            elif numbers[l] + numbers[r] < target : \n",
    "                l +=1 \n",
    "            else : \n",
    "                return l+1 , r+1"
   ]
  }
 ],
 "metadata": {
  "kernelspec": {
   "display_name": "Python 3",
   "language": "python",
   "name": "python3"
  },
  "language_info": {
   "codemirror_mode": {
    "name": "ipython",
    "version": 3
   },
   "file_extension": ".py",
   "mimetype": "text/x-python",
   "name": "python",
   "nbconvert_exporter": "python",
   "pygments_lexer": "ipython3",
   "version": "3.10.6"
  },
  "orig_nbformat": 4,
  "vscode": {
   "interpreter": {
    "hash": "916dbcbb3f70747c44a77c7bcd40155683ae19c65e1c03b4aa3499c5328201f1"
   }
  }
 },
 "nbformat": 4,
 "nbformat_minor": 2
}
