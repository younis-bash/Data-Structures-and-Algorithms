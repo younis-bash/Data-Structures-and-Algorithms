{
 "cells": [
  {
   "attachments": {},
   "cell_type": "markdown",
   "metadata": {},
   "source": [
    "## 76. Minimum Window Substring\n",
    "\n",
    "Given two strings `s` and `t` of lengths `m` and `n` respectively, return the **minimum window**  substring of `s` such that every character in `t` **(including duplicates)** is included in the window. If there is no such substring, return the empty string `\"\"`.\n",
    "\n",
    "The testcases will be generated such that the answer is unique.\n",
    "\n",
    " \n",
    "\n",
    "**Example 1:**\n",
    "\n",
    "- **Input**: s = \"ADOBECODEBANC\", t = \"ABC\"\n",
    "- **Output**: \"BANC\"\n",
    "- **Explanation**: The minimum window substring \"BANC\" includes 'A', 'B', and 'C' from string t.\n",
    "\n",
    "**Example 2:**\n",
    "\n",
    "- **Input**: s = \"a\", t = \"a\"\n",
    "- **Output**: \"a\"\n",
    "- **Explanation**: The entire string s is the minimum window.\n",
    "\n",
    "**Example 3:**\n",
    "\n",
    "- **Input**: s = \"a\", t = \"aa\"\n",
    "- **Output**: \"\"\n",
    "- **Explanation**: Both 'a's from t must be included in the window.\n",
    "Since the largest window of s only has one 'a', return empty string.\n",
    " \n",
    "\n",
    "**Constraints:**\n",
    "\n",
    "- `m == s.length`\n",
    "- `n == t.length`\n",
    "- `1 <= m, n <= 105`\n",
    "`s` and `t` consist of uppercase and lowercase English letters.\n",
    " \n",
    "\n",
    "Follow up: Could you find an algorithm that runs in `O(m + n)` time?"
   ]
  },
  {
   "cell_type": "code",
   "execution_count": 1,
   "metadata": {},
   "outputs": [],
   "source": [
    "import collections\n",
    "\n",
    "class Solution(object):\n",
    "    def minWindow(self, s, t):\n",
    "        \"\"\"\n",
    "        :type s: str\n",
    "        :type t: str\n",
    "        :rtype: str\n",
    "        \"\"\"\n",
    "        l , res , reslen = 0 ,[-1 ,-1] , float(\"infinity\")\n",
    "        countT = collections.Counter(t)\n",
    "        window = {} \n",
    "\n",
    "        need , have = len(countT) , 0 \n",
    "\n",
    "        for r in range(len(s)):\n",
    "            c = s[r]\n",
    "            window[c] = 1 + window.get(c,0)\n",
    "            if  c in countT and window[c] == countT[c]: \n",
    "                have +=1 \n",
    "            while have == need  : \n",
    "                if (r - l + 1) < reslen : \n",
    "                    res = [l,r+1]\n",
    "                    reslen = r - l + 1\n",
    "                \n",
    "                window[s[l]] -=1\n",
    "                if s[l] in countT and window[s[l]] < countT[s[l]] : \n",
    "                    have -=1 \n",
    "                l +=1 \n",
    "        l , r = res \n",
    "        return s[l:r] if reslen != float(\"infinity\") else \"\""
   ]
  }
 ],
 "metadata": {
  "kernelspec": {
   "display_name": "Python 3",
   "language": "python",
   "name": "python3"
  },
  "language_info": {
   "codemirror_mode": {
    "name": "ipython",
    "version": 3
   },
   "file_extension": ".py",
   "mimetype": "text/x-python",
   "name": "python",
   "nbconvert_exporter": "python",
   "pygments_lexer": "ipython3",
   "version": "3.8.10"
  },
  "orig_nbformat": 4,
  "vscode": {
   "interpreter": {
    "hash": "e7370f93d1d0cde622a1f8e1c04877d8463912d04d973331ad4851f04de6915a"
   }
  }
 },
 "nbformat": 4,
 "nbformat_minor": 2
}
