{
 "cells": [
  {
   "attachments": {},
   "cell_type": "markdown",
   "metadata": {},
   "source": [
    "## 424. Longest Repeating Character Replacement\n",
    "\n",
    "You are given a string `s` and an integer `k`. You can choose any character of the string and change it to any other uppercase English character. You can perform this operation at most `k` times.\n",
    "\n",
    "Return the length of the longest substring containing the same letter you can get after performing the above operations.\n",
    "\n",
    " \n",
    "\n",
    "**Example 1:**\n",
    "\n",
    "- **Input**: s = \"ABAB\", k = 2\n",
    "- **Output**: 4\n",
    "- **Explanation**: Replace the two 'A's with two 'B's or vice versa.\n",
    "\n",
    "**Example 2:**\n",
    "\n",
    "- **Input**: s = \"AABABBA\", k = 1\n",
    "- **Output**: 4\n",
    "- **Explanation**: Replace the one 'A' in the middle with 'B' and form \"AABBBBA\".\n",
    "The substring \"BBBB\" has the longest repeating letters, which is 4.\n",
    " \n",
    "\n",
    "**Constraints:**\n",
    "\n",
    "- `1 <= s.length <= 105`\n",
    "- `s` consists of only uppercase English letters.\n",
    "- `0 <= k <= s.length`"
   ]
  },
  {
   "cell_type": "code",
   "execution_count": 1,
   "metadata": {},
   "outputs": [],
   "source": [
    "class Solution(object):\n",
    "    def characterReplacement(self, s, k):\n",
    "        \"\"\"\n",
    "        :type s: str\n",
    "        :type k: int\n",
    "        :rtype: int\n",
    "        \"\"\"\n",
    "        l  , res = 0 , 0 \n",
    "        dictvalue={}\n",
    "\n",
    "        for r in range(len(s)) : \n",
    "            dictvalue[s[r]] = 1 + dictvalue.get(s[r] ,0)\n",
    "\n",
    "            while (r-l+1) - max(dictvalue.values()) > k : \n",
    "                dictvalue[s[l]] -=1 \n",
    "                l += 1\n",
    "            res = max(res , r-l+1)\n",
    "        return res "
   ]
  }
 ],
 "metadata": {
  "kernelspec": {
   "display_name": "Python 3",
   "language": "python",
   "name": "python3"
  },
  "language_info": {
   "codemirror_mode": {
    "name": "ipython",
    "version": 3
   },
   "file_extension": ".py",
   "mimetype": "text/x-python",
   "name": "python",
   "nbconvert_exporter": "python",
   "pygments_lexer": "ipython3",
   "version": "3.8.10"
  },
  "orig_nbformat": 4,
  "vscode": {
   "interpreter": {
    "hash": "e7370f93d1d0cde622a1f8e1c04877d8463912d04d973331ad4851f04de6915a"
   }
  }
 },
 "nbformat": 4,
 "nbformat_minor": 2
}
