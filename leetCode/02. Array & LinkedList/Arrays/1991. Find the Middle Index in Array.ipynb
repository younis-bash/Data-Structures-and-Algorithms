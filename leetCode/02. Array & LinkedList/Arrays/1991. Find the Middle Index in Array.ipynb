{
 "cells": [
  {
   "attachments": {},
   "cell_type": "markdown",
   "metadata": {},
   "source": [
    "## 1991. Find the Middle Index in Array\n",
    "\n",
    "Given a **0-indexed** integer array `nums`, find the leftmost `middleIndex` (i.e., the smallest amongst all the possible ones).\n",
    "\n",
    "A `middleIndex` is an index where `nums[0] + nums[1] + ... + nums[middleIndex-1] == nums[middleIndex+1] + nums[middleIndex+2] + ... + nums[nums.length-1]`.\n",
    "\n",
    "If `middleIndex == 0`, the left side sum is considered to be `0`. Similarly, if `middleIndex == nums.length - 1`, the right side sum is considered to be `0`.\n",
    "\n",
    "Return the leftmost `middleIndex` that satisfies the condition, or `-1` if there is no such index.\n",
    "\n",
    " \n",
    "\n",
    "**Example 1:**\n",
    "\n",
    "- **Input**: nums = [2,3,-1,8,4]\n",
    "- **Output**: 3\n",
    "- **Explanation**: The sum of the numbers before index 3 is: 2 + 3 + -1 = 4\n",
    "The sum of the numbers after index 3 is: 4 = 4\n",
    "\n",
    "**Example 2:**\n",
    "\n",
    "- **Input**: nums = [1,-1,4]\n",
    "- **Output**: 2\n",
    "- **Explanation**: The sum of the numbers before index 2 is: 1 + -1 = 0\n",
    "The sum of the numbers after index 2 is: 0\n",
    "\n",
    "**Example 3:**\n",
    "\n",
    "- **Input**: nums = [2,5]\n",
    "- **Output**: -1\n",
    "- **Explanation**: There is no valid middleIndex.\n",
    " \n",
    "\n",
    "**Constraints:**\n",
    "\n",
    "- `1 <= nums.length <= 100`\n",
    "- `-1000 <= nums[i] <= 1000`"
   ]
  },
  {
   "cell_type": "code",
   "execution_count": 1,
   "metadata": {},
   "outputs": [],
   "source": [
    "class Solution(object):\n",
    "    def findMiddleIndex(self, nums):\n",
    "        \"\"\"\n",
    "        :type nums: List[int]\n",
    "        :rtype: int\n",
    "        \"\"\"\n",
    "        left = 0 \n",
    "        right=sum(nums)\n",
    "        for i , n in enumerate(nums) :\n",
    "            right -= n \n",
    "            if right == left : \n",
    "                return i\n",
    "            left += n \n",
    "        return -1   "
   ]
  }
 ],
 "metadata": {
  "kernelspec": {
   "display_name": "Python 3",
   "language": "python",
   "name": "python3"
  },
  "language_info": {
   "codemirror_mode": {
    "name": "ipython",
    "version": 3
   },
   "file_extension": ".py",
   "mimetype": "text/x-python",
   "name": "python",
   "nbconvert_exporter": "python",
   "pygments_lexer": "ipython3",
   "version": "3.8.10"
  },
  "orig_nbformat": 4,
  "vscode": {
   "interpreter": {
    "hash": "e7370f93d1d0cde622a1f8e1c04877d8463912d04d973331ad4851f04de6915a"
   }
  }
 },
 "nbformat": 4,
 "nbformat_minor": 2
}
