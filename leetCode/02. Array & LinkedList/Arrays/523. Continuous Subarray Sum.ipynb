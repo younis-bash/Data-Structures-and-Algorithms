{
 "cells": [
  {
   "cell_type": "markdown",
   "metadata": {},
   "source": [
    "## 523. Continuous Subarray Sum\n"
   ]
  },
  {
   "attachments": {},
   "cell_type": "markdown",
   "metadata": {},
   "source": [
    "Given an integer array `nums` and an integer `k`, return `true` if nums has a good subarray or `false` otherwise.\n",
    "\n",
    "A **good subarray** is a subarray where:\n",
    "- its length is **at least two**, and\n",
    "- the sum of the elements of the subarray is a multiple of `k`.\n",
    "\n",
    "**Note** that:\n",
    "- A **subarray** is a contiguous part of the array.\n",
    "- An integer `x` is a multiple of `k` if there exists an integer `n` such that `x = n * k`. `0` is - **always** a multiple of `k`.\n",
    "\n"
   ]
  },
  {
   "attachments": {},
   "cell_type": "markdown",
   "metadata": {},
   "source": [
    "**Example 1:**\n",
    "\n",
    "- **Input**: nums = [23,2,4,6,7], k = 6\n",
    "- **Output**: true\n",
    "- **Explanation**: [2, 4] is a continuous subarray of size 2 whose elements sum up to 6.\n",
    "\n",
    "**Example 2:**\n",
    "\n",
    "- **Input**: nums = [23,2,6,4,7], k = 6\n",
    "- **Output**: true\n",
    "- **Explanation**: [23, 2, 6, 4, 7] is an continuous subarray of size 5 whose elements sum up to 42.42 is a multiple of 6 because 42 = 7 * 6 and 7 is an integer.\n",
    "\n",
    "**Example 3:**\n",
    "\n",
    "- **Input**: nums = [23,2,6,4,7], k = 13\n",
    "- **Output**: false\n",
    "\n",
    "**Constraints:**\n",
    "\n",
    "- `1 <= nums.length <= 105`\n",
    "- `0 <= nums[i] <= 109`\n",
    "- `0 <= sum(nums[i]) <= 231 - 1`\n",
    "- `1 <= k <= 231 - 1`"
   ]
  },
  {
   "cell_type": "code",
   "execution_count": 1,
   "metadata": {},
   "outputs": [],
   "source": [
    "class Solution(object):\n",
    "    def checkSubarraySum(self, nums, k):\n",
    "        \"\"\"\n",
    "        :type nums: List[int]\n",
    "        :type k: int\n",
    "        :rtype: bool\n",
    "        \"\"\"\n",
    "        total=0\n",
    "        reminder={0:-1}\n",
    "\n",
    "        for i , n in enumerate(nums): \n",
    "            total +=n\n",
    "            r =  total % k\n",
    "            if r not in reminder : \n",
    "                reminder[r] = i \n",
    "\n",
    "            elif  i - reminder[r] > 1: \n",
    "                return True \n",
    "                \n",
    "        return False "
   ]
  }
 ],
 "metadata": {
  "kernelspec": {
   "display_name": "Python 3",
   "language": "python",
   "name": "python3"
  },
  "language_info": {
   "codemirror_mode": {
    "name": "ipython",
    "version": 3
   },
   "file_extension": ".py",
   "mimetype": "text/x-python",
   "name": "python",
   "nbconvert_exporter": "python",
   "pygments_lexer": "ipython3",
   "version": "3.8.10"
  },
  "orig_nbformat": 4,
  "vscode": {
   "interpreter": {
    "hash": "e7370f93d1d0cde622a1f8e1c04877d8463912d04d973331ad4851f04de6915a"
   }
  }
 },
 "nbformat": 4,
 "nbformat_minor": 2
}
