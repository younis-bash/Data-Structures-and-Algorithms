{
 "cells": [
  {
   "attachments": {},
   "cell_type": "markdown",
   "metadata": {},
   "source": [
    "## 1360. Number of Days Between Two Dates"
   ]
  },
  {
   "attachments": {},
   "cell_type": "markdown",
   "metadata": {},
   "source": [
    "Write a program to **count the number of days between two dates**.\n",
    "\n",
    "The two **dates** are given as `strings`, their format is `YYYY-MM-DD` as shown in the examples.\n",
    "\n",
    " \n",
    "\n",
    "**Example 1:**\n",
    "\n",
    "- **Input**: date1 = \"2019-06-29\", date2 = \"2019-06-30\"\n",
    "- **Output**: 1\n",
    "\n",
    "**Example 2:**\n",
    "\n",
    "- **Input**: date1 = \"2020-01-15\", date2 = \"2019-12-31\"\n",
    "- **Output**: 15\n",
    " \n",
    "\n",
    "**Constraints:**\n",
    "- The given dates are valid dates between the `years 1971 and 2100`."
   ]
  },
  {
   "cell_type": "code",
   "execution_count": null,
   "metadata": {},
   "outputs": [],
   "source": [
    "from  datetime import date\n",
    "\n",
    "class Solution(object):\n",
    "    def daysBetweenDates(self, date1, date2):\n",
    "        \"\"\"\n",
    "        :type date1: str\n",
    "        :type date2: str\n",
    "        :rtype: int\n",
    "        \"\"\"\n",
    "        date1=[int(x) for x in  date1.split(\"-\")]\n",
    "        date2=[int(x) for x in  date2.split(\"-\")]\n",
    "        return abs((date(date2[0] , date2[1] , date2[2]) -date(date1[0],date1[1], date1[2])).days)"
   ]
  }
 ],
 "metadata": {
  "kernelspec": {
   "display_name": "Python 3",
   "language": "python",
   "name": "python3"
  },
  "language_info": {
   "name": "python",
   "version": "3.8.10 (default, Nov 14 2022, 12:59:47) \n[GCC 9.4.0]"
  },
  "orig_nbformat": 4,
  "vscode": {
   "interpreter": {
    "hash": "e7370f93d1d0cde622a1f8e1c04877d8463912d04d973331ad4851f04de6915a"
   }
  }
 },
 "nbformat": 4,
 "nbformat_minor": 2
}
