{
 "cells": [
  {
   "attachments": {},
   "cell_type": "markdown",
   "metadata": {},
   "source": [
    "## 209. Minimum Size Subarray Sum\n",
    "\n",
    "Given an array of positive integers `nums` and a positive integer `target`, return the **minimal length** of a  subarray whose sum is greater than or equal to `target`. If there is no such subarray, return `0` instead.\n",
    "\n",
    "**Example 1:**\n",
    "\n",
    "- **Input**: target = 7, nums = [2,3,1,2,4,3]\n",
    "- **Output**: 2\n",
    "- **Explanation**: The subarray [4,3] has the minimal length under the problem constraint.\n",
    "\n",
    "**Example 2:**\n",
    "\n",
    "- **Input**: target = 4, nums = [1,4,4]\n",
    "- **Output**: 1\n",
    "\n",
    "**Example 3:**\n",
    "\n",
    "- **Input**: target = 11, nums = [1,1,1,1,1,1,1,1]\n",
    "- **Output**: 0"
   ]
  },
  {
   "attachments": {},
   "cell_type": "markdown",
   "metadata": {},
   "source": [
    "**Constraints:**\n",
    "\n",
    "- `1 <= target <= 109`\n",
    "- `1 <= nums.length <= 105`\n",
    "- `1 <= nums[i] <= 104`\n",
    " \n",
    "\n",
    "**Follow up:** If you have figured out the `O(n)` solution, try coding another solution of which the time complexity is `O(n log(n))`"
   ]
  },
  {
   "cell_type": "code",
   "execution_count": 1,
   "metadata": {},
   "outputs": [],
   "source": [
    "class Solution(object):\n",
    "    def minSubArrayLen(self, target, nums):\n",
    "        \"\"\"\n",
    "        :type target: int\n",
    "        :type nums: List[int]\n",
    "        :rtype: int\n",
    "        \"\"\"\n",
    "        \n",
    "        total , l , res = 0 , 0 , len(nums)\n",
    "        if sum(nums) < target : \n",
    "            return 0\n",
    "            \n",
    "        for r, n in enumerate(nums): \n",
    "            total += n \n",
    "            while total >= target : \n",
    "                res=min(res , r-l+1)\n",
    "                total -=nums[l]\n",
    "                l +=1\n",
    "            \n",
    "        return res"
   ]
  }
 ],
 "metadata": {
  "kernelspec": {
   "display_name": "Python 3",
   "language": "python",
   "name": "python3"
  },
  "language_info": {
   "codemirror_mode": {
    "name": "ipython",
    "version": 3
   },
   "file_extension": ".py",
   "mimetype": "text/x-python",
   "name": "python",
   "nbconvert_exporter": "python",
   "pygments_lexer": "ipython3",
   "version": "3.8.10"
  },
  "orig_nbformat": 4,
  "vscode": {
   "interpreter": {
    "hash": "e7370f93d1d0cde622a1f8e1c04877d8463912d04d973331ad4851f04de6915a"
   }
  }
 },
 "nbformat": 4,
 "nbformat_minor": 2
}
