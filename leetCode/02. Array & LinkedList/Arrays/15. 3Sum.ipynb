{
 "cells": [
  {
   "attachments": {},
   "cell_type": "markdown",
   "metadata": {},
   "source": [
    "## 15.  3Sum"
   ]
  },
  {
   "attachments": {},
   "cell_type": "markdown",
   "metadata": {},
   "source": [
    "Given an integer array nums, return all the triplets `[nums[i], nums[j], nums[k]]` such that `i != j`, `i != k,` and `j != k`, and `nums[i] + nums[j] + nums[k] == 0`.\n",
    "\n",
    "Notice that the solution set must `not` contain duplicate triplets.\n",
    "\n",
    " \n",
    "\n",
    "**Example 1**:\n",
    "\n",
    "- **Input**: nums = [-1,0,1,2,-1,-4]\n",
    "- **Output**: [[-1,-1,2],[-1,0,1]]\n",
    "- **Explanation**: <br>\n",
    "nums[0] + nums[1] + nums[2] = (-1) + 0 + 1 = 0. <br>\n",
    "nums[1] + nums[2] + nums[4] = 0 + 1 + (-1) = 0.<br>\n",
    "nums[0] + nums[3] + nums[4] = (-1) + 2 + (-1) = 0.<br>\n",
    "The distinct triplets are [-1,0,1] and [-1,-1,2].\n",
    "Notice that the order of the output and the order of the triplets does not matter.\n",
    "\n",
    "**Example 2:**\n",
    "\n",
    "**Input**: nums = [0,1,1]\n",
    "**Output**: []\n",
    "**Explanation**: The only possible triplet does not sum up to 0.\n",
    "\n",
    "**Example 3:**\n",
    "\n",
    "**Input**: nums = [0,0,0]\n",
    "**Output**: [[0,0,0]]\n",
    "**Explanation**: The only possible triplet sums up to 0.\n",
    " \n",
    "\n",
    "**Constraints:**\n",
    "\n",
    "- `3 <= nums.length <= 3000`\n",
    "- `-105 <= nums[i] <= 105`"
   ]
  },
  {
   "cell_type": "code",
   "execution_count": null,
   "metadata": {},
   "outputs": [],
   "source": [
    "class Solution(object):\n",
    "    def threeSum(self, nums):\n",
    "        \"\"\"\n",
    "        :type nums: List[int]\n",
    "        :rtype: List[List[int]]\n",
    "        \"\"\"\n",
    "        nums.sort()\n",
    "        n = len(nums)\n",
    "        ans = set()\n",
    "        for i in range(n):\n",
    "            j = i+1\n",
    "            k = n-1\n",
    "\n",
    "            while j < k:\n",
    "                if nums[i]+nums[j]+nums[k] == 0:\n",
    "                    ans.add((nums[i], nums[j], nums[k]))\n",
    "                    j += 1\n",
    "                    k -= 1\n",
    "                elif nums[i]+nums[j]+nums[k] < 0:\n",
    "                    j += 1\n",
    "                else:\n",
    "                    k -= 1\n",
    "        return ans\n"
   ]
  }
 ],
 "metadata": {
  "language_info": {
   "name": "python"
  },
  "orig_nbformat": 4
 },
 "nbformat": 4,
 "nbformat_minor": 2
}
