{
 "cells": [
  {
   "attachments": {},
   "cell_type": "markdown",
   "metadata": {},
   "source": [
    "## 238. Product of Array Except Self\n",
    "\n",
    "Given an integer array `nums`, return an array `answer` such that `answer[i]` is equal to the product of all the elements of `nums` except `nums[i]`.\n",
    "\n",
    "The product of any prefix or suffix of `nums` is **guaranteed** to fit in a **32-bit** integer.\n",
    "\n",
    "You must write an algorithm that runs in `O(n)` time and without using the division operation.\n",
    "\n",
    " \n",
    "\n",
    "**Example 1:**\n",
    "\n",
    "- **Input**: nums = [1,2,3,4]\n",
    "- **Output**: [24,12,8,6]\n",
    "\n",
    "**Example 2:**\n",
    "\n",
    "- **Input**: nums = [-1,1,0,-3,3]\n",
    "- **Output**: [0,0,9,0,0]\n",
    " \n",
    "\n",
    "**Constraints:**\n",
    "\n",
    "- `2 <= nums.length <= 105`\n",
    "- `-30 <= nums[i] <= 30`\n",
    "- The product of any prefix or suffix of `nums` is guaranteed to fit in a `32-bit` integer.\n",
    " \n",
    "\n",
    "Follow up: Can you solve the problem in `O(1)` extra space complexity? (The output array does not count as extra space for space complexity analysis.)"
   ]
  },
  {
   "cell_type": "code",
   "execution_count": null,
   "metadata": {},
   "outputs": [],
   "source": [
    "class Solution(object):\n",
    "    def productExceptSelf(self, nums):\n",
    "        \"\"\"\n",
    "        :type nums: List[int]\n",
    "        :rtype: List[int]\n",
    "        \"\"\"\n",
    "    \n",
    "        res  , pref  , postf= [1] * len(nums) , 1  , 1\n",
    "\n",
    "        for i in range(len(nums)) : \n",
    "            res[i]=pref\n",
    "            pref *=nums[i]\n",
    "        \n",
    "        for i in range(len(nums)-1, -1, -1 ):\n",
    "            res[i] *=postf\n",
    "            postf *=nums[i]\n",
    "        \n",
    "        return res \n",
    "            "
   ]
  },
  {
   "cell_type": "markdown",
   "metadata": {},
   "source": []
  }
 ],
 "metadata": {
  "language_info": {
   "name": "python"
  },
  "orig_nbformat": 4
 },
 "nbformat": 4,
 "nbformat_minor": 2
}
