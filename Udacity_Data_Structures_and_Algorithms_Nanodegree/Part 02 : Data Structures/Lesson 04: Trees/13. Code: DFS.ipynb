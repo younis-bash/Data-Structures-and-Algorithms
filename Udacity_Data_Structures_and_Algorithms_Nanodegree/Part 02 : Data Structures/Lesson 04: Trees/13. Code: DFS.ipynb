{
 "cells": [
  {
   "attachments": {},
   "cell_type": "markdown",
   "metadata": {},
   "source": [
    "## **13. Code: DFS**\n"
   ]
  },
  {
   "attachments": {},
   "cell_type": "markdown",
   "metadata": {},
   "source": [
    "### **Traverse a tree (depth first search)**\n"
   ]
  },
  {
   "attachments": {},
   "cell_type": "markdown",
   "metadata": {},
   "source": [
    "Traversing a tree means \"visiting\" all the nodes in the tree once. Unlike an array or linked list, there's more than one way to walk through a tree, starting from the root node.\n",
    "\n"
   ]
  },
  {
   "attachments": {},
   "cell_type": "markdown",
   "metadata": {},
   "source": [
    "Traversing a tree is helpful for printing out all the values stored in the tree, as well as searching for a value in a tree, inserting into or deleting values from the tree. There's depth first search and breadth first search.\n",
    "\n"
   ]
  },
  {
   "attachments": {},
   "cell_type": "markdown",
   "metadata": {},
   "source": [
    "Depth first search has 3 types: pre-order, in-order, and post-order.\n",
    "\n"
   ]
  },
  {
   "attachments": {},
   "cell_type": "markdown",
   "metadata": {},
   "source": [
    "Let's walk through pre-order traversal by hand first, and then try it out in code.\n",
    "\n"
   ]
  },
  {
   "attachments": {},
   "cell_type": "markdown",
   "metadata": {},
   "source": [
    "### **Creating a sample tree**\n"
   ]
  },
  {
   "attachments": {},
   "cell_type": "markdown",
   "metadata": {},
   "source": [
    "We'll create a tree that looks like the following:\n",
    "\n"
   ]
  },
  {
   "attachments": {
    "image.png": {
     "image/png": "[encoded data removed]"
    }
   },
   "cell_type": "markdown",
   "metadata": {},
   "source": [
    "![image.png](attachment:image.png)"
   ]
  },
  {
   "cell_type": "code",
   "execution_count": 1,
   "metadata": {},
   "outputs": [],
   "source": [
    "\n",
    "# this code makes the tree that we'll traverse\n",
    "\n",
    "class Node(object):\n",
    "\n",
    "    def __init__(self, value=None):\n",
    "        self.value = value\n",
    "        self.left = None\n",
    "        self.right = None\n",
    "\n",
    "    def set_value(self, value):\n",
    "        self.value = value\n",
    "\n",
    "    def get_value(self):\n",
    "        return self.value\n",
    "\n",
    "    def set_left_child(self, left):\n",
    "        self.left = left\n",
    "\n",
    "    def set_right_child(self, right):\n",
    "        self.right = right\n",
    "\n",
    "    def get_left_child(self):\n",
    "        return self.left\n",
    "\n",
    "    def get_right_child(self):\n",
    "        return self.right\n",
    "\n",
    "    def has_left_child(self):\n",
    "        return self.left != None\n",
    "\n",
    "    def has_right_child(self):\n",
    "        return self.right != None\n",
    "\n",
    "    # define __repr_ to decide what a print statement displays for a Node object\n",
    "    def __repr__(self):\n",
    "        return f\"Node({self.get_value()})\"\n",
    "\n",
    "    def __str__(self):\n",
    "        return f\"Node({self.get_value()})\"\n",
    "\n",
    "\n",
    "class Tree():\n",
    "    def __init__(self, value=None):\n",
    "        self.root = Node(value)\n",
    "\n",
    "    def get_root(self):\n",
    "        return self.root\n"
   ]
  },
  {
   "cell_type": "code",
   "execution_count": 2,
   "metadata": {},
   "outputs": [],
   "source": [
    "# create a tree and add some nodes\n",
    "tree = Tree(\"apple\")\n",
    "tree.get_root().set_left_child(Node(\"banana\"))\n",
    "tree.get_root().set_right_child(Node(\"cherry\"))\n",
    "tree.get_root().get_left_child().set_left_child(Node(\"dates\"))\n"
   ]
  },
  {
   "attachments": {},
   "cell_type": "markdown",
   "metadata": {},
   "source": [
    "### **Depth first, pre-order traversal with a stack**\n"
   ]
  },
  {
   "attachments": {},
   "cell_type": "markdown",
   "metadata": {},
   "source": [
    "pre-order traversal of the tree would visit the nodes in this order:\n",
    "\n"
   ]
  },
  {
   "attachments": {
    "image.png": {
     "image/png": "[encoded data removed]"
    }
   },
   "cell_type": "markdown",
   "metadata": {},
   "source": [
    "![image.png](attachment:image.png)"
   ]
  },
  {
   "attachments": {},
   "cell_type": "markdown",
   "metadata": {},
   "source": [
    "apple, banana, dates, cherry\n",
    "\n"
   ]
  },
  {
   "attachments": {},
   "cell_type": "markdown",
   "metadata": {},
   "source": [
    "**Stack**\n",
    "\n",
    "Notice how we're retracing our steps. It's like we are hiking on a trail, and trying to retrace our steps on the way back. This is an indication that we should use a stack.\n",
    "\n"
   ]
  },
  {
   "cell_type": "code",
   "execution_count": 3,
   "metadata": {},
   "outputs": [],
   "source": [
    "# Let's define a stack to help keep track of the tree nodes\n",
    "class Stack():\n",
    "    def __init__(self):\n",
    "        self.list = list()\n",
    "\n",
    "    def push(self, value):\n",
    "        self.list.append(value)\n",
    "\n",
    "    def pop(self):\n",
    "        return self.list.pop()\n",
    "\n",
    "    def top(self):\n",
    "        if len(self.list) > 0:\n",
    "            return self.list[-1]\n",
    "        else:\n",
    "            return None\n",
    "\n",
    "    def is_empty(self):\n",
    "        return len(self.list) == 0\n",
    "\n",
    "    def __repr__(self):\n",
    "        if len(self.list) > 0:\n",
    "            s = \"<top of stack>\\n_________________\\n\"\n",
    "            s += \"\\n_________________\\n\".join([str(item)\n",
    "                                              for item in self.list[::-1]])\n",
    "            s += \"\\n_________________\\n<bottom of stack>\"\n",
    "            return s\n",
    "\n",
    "        else:\n",
    "            return \"<stack is empty>\"\n"
   ]
  },
  {
   "cell_type": "code",
   "execution_count": 4,
   "metadata": {},
   "outputs": [
    {
     "name": "stdout",
     "output_type": "stream",
     "text": [
      "dates\n",
      "\n",
      "\n",
      "<top of stack>\n",
      "_________________\n",
      "cherry\n",
      "_________________\n",
      "banana\n",
      "_________________\n",
      "apple\n",
      "_________________\n",
      "<bottom of stack>\n"
     ]
    }
   ],
   "source": [
    "# check Stack\n",
    "stack = Stack()\n",
    "stack.push(\"apple\")\n",
    "stack.push(\"banana\")\n",
    "stack.push(\"cherry\")\n",
    "stack.push(\"dates\")\n",
    "print(stack.pop())\n",
    "print(\"\\n\")\n",
    "print(stack)"
   ]
  },
  {
   "attachments": {},
   "cell_type": "markdown",
   "metadata": {},
   "source": [
    "### **Walk through the steps with code**\n"
   ]
  },
  {
   "attachments": {},
   "cell_type": "markdown",
   "metadata": {},
   "source": [
    "We're going to translate what we're doing by hand into code, one step at a time. This will help us check if our code is doing what we expect it to do.\n",
    "\n"
   ]
  },
  {
   "attachments": {
    "image.png": {
     "image/png": "[encoded data removed]"
    }
   },
   "cell_type": "markdown",
   "metadata": {},
   "source": [
    "![image.png](attachment:image.png)"
   ]
  },
  {
   "cell_type": "code",
   "execution_count": 5,
   "metadata": {},
   "outputs": [
    {
     "name": "stdout",
     "output_type": "stream",
     "text": [
      "\n",
      "visit_order [] \n",
      "stack:\n",
      "<top of stack>\n",
      "_________________\n",
      "Node(apple)\n",
      "_________________\n",
      "<bottom of stack>\n",
      "\n"
     ]
    }
   ],
   "source": [
    "visit_order = list()\n",
    "stack = Stack()\n",
    "\n",
    "# start at the root node, visit it and then add it to the stack\n",
    "node = tree.get_root()\n",
    "stack.push(node)\n",
    "\n",
    "print(f\"\"\"\n",
    "visit_order {visit_order} \n",
    "stack:\n",
    "{stack}\n",
    "\"\"\")"
   ]
  },
  {
   "cell_type": "code",
   "execution_count": 6,
   "metadata": {},
   "outputs": [
    {
     "name": "stdout",
     "output_type": "stream",
     "text": [
      "visit order ['apple']\n",
      "<top of stack>\n",
      "_________________\n",
      "Node(apple)\n",
      "_________________\n",
      "<bottom of stack>\n",
      "\n"
     ]
    }
   ],
   "source": [
    "# visit apple\n",
    "visit_order.append(node.get_value())\n",
    "print(f\"\"\"visit order {visit_order}\n",
    "{stack}\n",
    "\"\"\")"
   ]
  },
  {
   "cell_type": "code",
   "execution_count": 7,
   "metadata": {},
   "outputs": [
    {
     "name": "stdout",
     "output_type": "stream",
     "text": [
      "Node(apple) has left child? True\n",
      "\n",
      "visit_order ['apple'] \n",
      "stack:\n",
      "<top of stack>\n",
      "_________________\n",
      "Node(banana)\n",
      "_________________\n",
      "Node(apple)\n",
      "_________________\n",
      "<bottom of stack>\n",
      "\n"
     ]
    }
   ],
   "source": [
    "# check if apple has a left child\n",
    "print(f\"{node} has left child? {node.has_left_child()}\")\n",
    "\n",
    "# since apple has a left child (banana)\n",
    "# we'll visit banana and add it to the stack\n",
    "if node.has_left_child():\n",
    "    node = node.get_left_child()\n",
    "    stack.push(node)\n",
    "\n",
    "print(f\"\"\"\n",
    "visit_order {visit_order} \n",
    "stack:\n",
    "{stack}\n",
    "\"\"\")"
   ]
  },
  {
   "cell_type": "code",
   "execution_count": 8,
   "metadata": {},
   "outputs": [
    {
     "name": "stdout",
     "output_type": "stream",
     "text": [
      "visit Node(banana)\n",
      "visit_order ['apple', 'banana']\n"
     ]
    }
   ],
   "source": [
    "# visit banana\n",
    "print(f\"visit {node}\")\n",
    "visit_order.append(node.get_value())\n",
    "print(f\"\"\"visit_order {visit_order}\"\"\")"
   ]
  },
  {
   "cell_type": "code",
   "execution_count": 9,
   "metadata": {},
   "outputs": [
    {
     "name": "stdout",
     "output_type": "stream",
     "text": [
      "Node(banana) has left child? True\n",
      "\n",
      "visit_order ['apple', 'banana'] \n",
      "stack:\n",
      "<top of stack>\n",
      "_________________\n",
      "Node(dates)\n",
      "_________________\n",
      "Node(banana)\n",
      "_________________\n",
      "Node(apple)\n",
      "_________________\n",
      "<bottom of stack>\n",
      "\n"
     ]
    }
   ],
   "source": [
    "# check if apple has a left child\n",
    "print(f\"{node} has left child? {node.has_left_child()}\")\n",
    "\n",
    "# since apple has a left child (banana)\n",
    "# we'll visit banana and add it to the stack\n",
    "if node.has_left_child():\n",
    "    node = node.get_left_child()\n",
    "    stack.push(node)\n",
    "\n",
    "print(f\"\"\"\n",
    "visit_order {visit_order} \n",
    "stack:\n",
    "{stack}\n",
    "\"\"\")"
   ]
  },
  {
   "cell_type": "code",
   "execution_count": 10,
   "metadata": {},
   "outputs": [
    {
     "name": "stdout",
     "output_type": "stream",
     "text": [
      "visit order ['apple', 'banana', 'dates']\n"
     ]
    }
   ],
   "source": [
    "# visit dates\n",
    "visit_order.append(node.get_value())\n",
    "print(f\"visit order {visit_order}\")"
   ]
  },
  {
   "cell_type": "code",
   "execution_count": 11,
   "metadata": {},
   "outputs": [
    {
     "name": "stdout",
     "output_type": "stream",
     "text": [
      "Node(dates) has left child? False\n"
     ]
    }
   ],
   "source": [
    "# check if \"dates\" has a left child\n",
    "print(f\"{node} has left child? {node.has_left_child()}\")"
   ]
  },
  {
   "cell_type": "code",
   "execution_count": 12,
   "metadata": {},
   "outputs": [
    {
     "name": "stdout",
     "output_type": "stream",
     "text": [
      "Node(dates) has right child? False\n"
     ]
    }
   ],
   "source": [
    "# since dates doesn't have a left child, we'll check if it has a right child\n",
    "print(f\"{node} has right child? {node.has_right_child()}\")"
   ]
  },
  {
   "cell_type": "code",
   "execution_count": 13,
   "metadata": {},
   "outputs": [
    {
     "name": "stdout",
     "output_type": "stream",
     "text": [
      "Node(dates)\n"
     ]
    }
   ],
   "source": [
    "# since \"dates\" is a leaf node (has no children), we can start to retrace our steps\n",
    "# in other words, we can pop it off the stack.\n",
    "print(stack.pop())"
   ]
  },
  {
   "cell_type": "code",
   "execution_count": 14,
   "metadata": {},
   "outputs": [
    {
     "name": "stdout",
     "output_type": "stream",
     "text": [
      "<top of stack>\n",
      "_________________\n",
      "Node(banana)\n",
      "_________________\n",
      "Node(apple)\n",
      "_________________\n",
      "<bottom of stack>\n"
     ]
    }
   ],
   "source": [
    "print(stack)\n"
   ]
  },
  {
   "cell_type": "code",
   "execution_count": 15,
   "metadata": {},
   "outputs": [
    {
     "name": "stdout",
     "output_type": "stream",
     "text": [
      "Node(banana)\n"
     ]
    }
   ],
   "source": [
    "# now we'll set the node to the new top of the stack, which is banana\n",
    "node = stack.top()\n",
    "print(node)"
   ]
  },
  {
   "cell_type": "code",
   "execution_count": 16,
   "metadata": {},
   "outputs": [
    {
     "name": "stdout",
     "output_type": "stream",
     "text": [
      "Node(banana) has right child? False\n"
     ]
    }
   ],
   "source": [
    "# we already checked for banana's left child, so we'll check for its right child\n",
    "print(f\"{node} has right child? {node.has_right_child()}\")"
   ]
  },
  {
   "cell_type": "code",
   "execution_count": 17,
   "metadata": {},
   "outputs": [
    {
     "name": "stdout",
     "output_type": "stream",
     "text": [
      "pop Node(banana) off stack\n",
      "\n",
      "stack\n",
      "<top of stack>\n",
      "_________________\n",
      "Node(apple)\n",
      "_________________\n",
      "<bottom of stack>\n",
      "\n"
     ]
    }
   ],
   "source": [
    "# banana doesn't have a right child, so we're also done tracking it.\n",
    "# so we can pop banana off the stack\n",
    "print(f\"pop {stack.pop()} off stack\")\n",
    "print(f\"\"\"\n",
    "stack\n",
    "{stack}\n",
    "\"\"\")"
   ]
  },
  {
   "cell_type": "code",
   "execution_count": 18,
   "metadata": {},
   "outputs": [
    {
     "name": "stdout",
     "output_type": "stream",
     "text": [
      "Node(apple)\n"
     ]
    }
   ],
   "source": [
    "# now we'll track the new top of the stack, which is apple\n",
    "node = stack.top()\n",
    "print(node)"
   ]
  },
  {
   "cell_type": "code",
   "execution_count": 19,
   "metadata": {},
   "outputs": [
    {
     "name": "stdout",
     "output_type": "stream",
     "text": [
      "Node(apple) has right child? True\n"
     ]
    }
   ],
   "source": [
    "# we've already checked if apple has a left child; we'll check if it has a right child\n",
    "print(f\"{node} has right child? {node.has_right_child()}\")"
   ]
  },
  {
   "cell_type": "code",
   "execution_count": 20,
   "metadata": {},
   "outputs": [
    {
     "name": "stdout",
     "output_type": "stream",
     "text": [
      "\n",
      "visit_order ['apple', 'banana', 'dates'] \n",
      "stack\n",
      "<top of stack>\n",
      "_________________\n",
      "Node(cherry)\n",
      "_________________\n",
      "Node(apple)\n",
      "_________________\n",
      "<bottom of stack>\n",
      "\n"
     ]
    }
   ],
   "source": [
    "# since it has a right child (cherry), \n",
    "# we'll visit cherry and add it to the stack.\n",
    "if node.has_right_child():\n",
    "    node = node.get_right_child()\n",
    "    stack.push(node)\n",
    "    \n",
    "print(f\"\"\"\n",
    "visit_order {visit_order} \n",
    "stack\n",
    "{stack}\n",
    "\"\"\")"
   ]
  },
  {
   "cell_type": "code",
   "execution_count": 21,
   "metadata": {},
   "outputs": [
    {
     "name": "stdout",
     "output_type": "stream",
     "text": [
      "visit Node(cherry)\n",
      "visit_order: ['apple', 'banana', 'dates', 'cherry']\n"
     ]
    }
   ],
   "source": [
    "# visit cherry\n",
    "print(f\"visit {node}\")\n",
    "visit_order.append(node.get_value())\n",
    "print(f\"\"\"visit_order: {visit_order}\"\"\")"
   ]
  },
  {
   "cell_type": "code",
   "execution_count": 22,
   "metadata": {},
   "outputs": [
    {
     "name": "stdout",
     "output_type": "stream",
     "text": [
      "Node(cherry) has left child? False\n",
      "Node(cherry) has right child? False\n"
     ]
    }
   ],
   "source": [
    "# Now we'll check if cherry has a left child\n",
    "print(f\"{node} has left child? {node.has_left_child()}\")\n",
    "\n",
    "# it doesn't, so we'll check if it has a right child\n",
    "print(f\"{node} has right child? {node.has_right_child()}\")"
   ]
  },
  {
   "cell_type": "code",
   "execution_count": 23,
   "metadata": {},
   "outputs": [
    {
     "name": "stdout",
     "output_type": "stream",
     "text": [
      "pop Node(cherry) off the stack\n",
      "\n",
      "visit_order ['apple', 'banana', 'dates', 'cherry'] \n",
      "stack\n",
      "<top of stack>\n",
      "_________________\n",
      "Node(apple)\n",
      "_________________\n",
      "<bottom of stack>\n",
      "\n"
     ]
    }
   ],
   "source": [
    "# since cherry has neither left nor right child nodes,\n",
    "# we are done tracking it, and can pop it off the stack\n",
    "\n",
    "print(f\"pop {stack.pop()} off the stack\")\n",
    "\n",
    "print(f\"\"\"\n",
    "visit_order {visit_order} \n",
    "stack\n",
    "{stack}\n",
    "\"\"\")"
   ]
  },
  {
   "cell_type": "code",
   "execution_count": 24,
   "metadata": {},
   "outputs": [
    {
     "name": "stdout",
     "output_type": "stream",
     "text": [
      "pop Node(apple) off stack\n",
      "pre-order traversal visited nodes in this order: ['apple', 'banana', 'dates', 'cherry']\n"
     ]
    }
   ],
   "source": [
    "# now we're back to apple at the top of the stack.\n",
    "# since we've already checked apple's left and right child nodes,\n",
    "# we can pop apple off the stack\n",
    "\n",
    "print(f\"pop {stack.pop()} off stack\")\n",
    "print(f\"pre-order traversal visited nodes in this order: {visit_order}\")"
   ]
  },
  {
   "cell_type": "code",
   "execution_count": 25,
   "metadata": {},
   "outputs": [
    {
     "name": "stdout",
     "output_type": "stream",
     "text": [
      "stack\n",
      "<stack is empty>\n"
     ]
    }
   ],
   "source": [
    "print(f\"\"\"stack\n",
    "{stack}\"\"\")"
   ]
  },
  {
   "attachments": {},
   "cell_type": "markdown",
   "metadata": {},
   "source": [
    "### **pre-order traversal using a stack (something's missing)**\n"
   ]
  },
  {
   "attachments": {},
   "cell_type": "markdown",
   "metadata": {},
   "source": [
    "Here is some code that has an error, so it will have an infinite loop. There is a counter to make the loop stop so that it doesn't run forever.\n"
   ]
  },
  {
   "cell_type": "code",
   "execution_count": 26,
   "metadata": {},
   "outputs": [],
   "source": [
    "def pre_order_with_stack_buggy(tree):\n",
    "    visit_order = list()\n",
    "    stack = Stack()\n",
    "    node = tree.get_root()\n",
    "    stack.push(node)\n",
    "    node = stack.top()\n",
    "    visit_order.append(node.get_value())\n",
    "    count = 0\n",
    "    loop_limit = 7\n",
    "    while (node and count < loop_limit):\n",
    "        print(f\"\"\" \n",
    "        loop count: {count} \n",
    "        current node: {node} \n",
    "        stack: {stack}\n",
    "        \"\"\"\n",
    "              )\n",
    "        count += 1\n",
    "        if node.has_left_child():\n",
    "            node = node.get_left_child()\n",
    "            stack.push(node)\n",
    "            # using top() is redundant, but added for clarity\n",
    "            node = stack.top()\n",
    "            visit_order.append(node.get_value())\n",
    "\n",
    "        elif node.has_right_child():\n",
    "            node = node.get_right_child()\n",
    "            stack.push(node)\n",
    "            node = stack.top()\n",
    "            visit_order.append(node.get_value())\n",
    "\n",
    "        else:\n",
    "            stack.pop()\n",
    "            if not stack.is_empty():\n",
    "                node = stack.top()\n",
    "            else:\n",
    "                node = None\n",
    "\n",
    "    return visit_order\n"
   ]
  },
  {
   "cell_type": "code",
   "execution_count": 27,
   "metadata": {},
   "outputs": [
    {
     "name": "stdout",
     "output_type": "stream",
     "text": [
      " \n",
      "        loop count: 0 \n",
      "        current node: Node(apple) \n",
      "        stack: <top of stack>\n",
      "_________________\n",
      "Node(apple)\n",
      "_________________\n",
      "<bottom of stack>\n",
      "        \n",
      " \n",
      "        loop count: 1 \n",
      "        current node: Node(banana) \n",
      "        stack: <top of stack>\n",
      "_________________\n",
      "Node(banana)\n",
      "_________________\n",
      "Node(apple)\n",
      "_________________\n",
      "<bottom of stack>\n",
      "        \n",
      " \n",
      "        loop count: 2 \n",
      "        current node: Node(dates) \n",
      "        stack: <top of stack>\n",
      "_________________\n",
      "Node(dates)\n",
      "_________________\n",
      "Node(banana)\n",
      "_________________\n",
      "Node(apple)\n",
      "_________________\n",
      "<bottom of stack>\n",
      "        \n",
      " \n",
      "        loop count: 3 \n",
      "        current node: Node(banana) \n",
      "        stack: <top of stack>\n",
      "_________________\n",
      "Node(banana)\n",
      "_________________\n",
      "Node(apple)\n",
      "_________________\n",
      "<bottom of stack>\n",
      "        \n",
      " \n",
      "        loop count: 4 \n",
      "        current node: Node(dates) \n",
      "        stack: <top of stack>\n",
      "_________________\n",
      "Node(dates)\n",
      "_________________\n",
      "Node(banana)\n",
      "_________________\n",
      "Node(apple)\n",
      "_________________\n",
      "<bottom of stack>\n",
      "        \n",
      " \n",
      "        loop count: 5 \n",
      "        current node: Node(banana) \n",
      "        stack: <top of stack>\n",
      "_________________\n",
      "Node(banana)\n",
      "_________________\n",
      "Node(apple)\n",
      "_________________\n",
      "<bottom of stack>\n",
      "        \n",
      " \n",
      "        loop count: 6 \n",
      "        current node: Node(dates) \n",
      "        stack: <top of stack>\n",
      "_________________\n",
      "Node(dates)\n",
      "_________________\n",
      "Node(banana)\n",
      "_________________\n",
      "Node(apple)\n",
      "_________________\n",
      "<bottom of stack>\n",
      "        \n"
     ]
    },
    {
     "data": {
      "text/plain": [
       "['apple', 'banana', 'dates', 'dates', 'dates']"
      ]
     },
     "execution_count": 27,
     "metadata": {},
     "output_type": "execute_result"
    }
   ],
   "source": [
    "pre_order_with_stack_buggy(tree)\n"
   ]
  },
  {
   "attachments": {},
   "cell_type": "markdown",
   "metadata": {},
   "source": [
    "### **pre-order traversal using a stack, tracking state**\n"
   ]
  },
  {
   "attachments": {},
   "cell_type": "markdown",
   "metadata": {},
   "source": [
    "Here's how we implement DFS with a stack, where we also track whether we've already visited the left or right child of the node.\n",
    "\n"
   ]
  },
  {
   "cell_type": "code",
   "execution_count": 30,
   "metadata": {},
   "outputs": [],
   "source": [
    "class State(object):\n",
    "    def __init__(self, node):\n",
    "        self.node = node\n",
    "        self.visited_left = False\n",
    "        self.visited_right = False\n",
    "\n",
    "    def get_node(self):\n",
    "        return self.node\n",
    "\n",
    "    def get_visited_left(self):\n",
    "        return self.visited_left\n",
    "\n",
    "    def get_visited_right(self):\n",
    "        return self.visited_right\n",
    "\n",
    "    def set_visited_left(self):\n",
    "        self.visited_left = True\n",
    "\n",
    "    def set_visited_right(self):\n",
    "        self.visited_right = True\n",
    "\n",
    "    def __repr__(self):\n",
    "        s = f\"\"\"\n",
    "        {self.node}\n",
    "        visited_left: {self.visited_left}\n",
    "        visited_right: {self.visited_right}\n",
    "        \"\"\"\n",
    "        return s\n"
   ]
  },
  {
   "cell_type": "code",
   "execution_count": 31,
   "metadata": {},
   "outputs": [],
   "source": [
    "def pre_order_with_stack(tree, debug_mode=False):\n",
    "    visit_order = list()\n",
    "    stack = Stack()\n",
    "    node = tree.get_root()\n",
    "    visit_order.append(node.get_value())\n",
    "    state = State(node)\n",
    "    stack.push(state)\n",
    "    count = 0\n",
    "    while (node):\n",
    "        if debug_mode:\n",
    "            print(f\"\"\"\n",
    "                    loop count: {count}\n",
    "                    current node: {node}\n",
    "                    stack:\n",
    "                    {stack}\n",
    "                    \"\"\"\n",
    "                  )\n",
    "        count += 1\n",
    "        if node.has_left_child() and not state.get_visited_left():\n",
    "            state.set_visited_left()\n",
    "            node = node.get_left_child()\n",
    "            visit_order.append(node.get_value())\n",
    "            state = State(node)\n",
    "            stack.push(state)\n",
    "\n",
    "        elif node.has_right_child() and not state.get_visited_right():\n",
    "            state.set_visited_right()\n",
    "            node = node.get_right_child()\n",
    "            visit_order.append(node.get_value())\n",
    "            state = State(node)\n",
    "\n",
    "        else:\n",
    "            stack.pop()\n",
    "            if not stack.is_empty():\n",
    "                state = stack.top()\n",
    "                node = state.get_node()\n",
    "            else:\n",
    "                node = None\n",
    "\n",
    "    if debug_mode:\n",
    "        print(f\"\"\"\n",
    "loop count: {count}\n",
    "current node: {node}\n",
    "stack:\n",
    "{stack}\n",
    "            \"\"\")\n",
    "    return visit_order\n"
   ]
  },
  {
   "cell_type": "code",
   "execution_count": 32,
   "metadata": {},
   "outputs": [
    {
     "name": "stdout",
     "output_type": "stream",
     "text": [
      "\n",
      "                    loop count: 0\n",
      "                    current node: Node(apple)\n",
      "                    stack:\n",
      "                    <top of stack>\n",
      "_________________\n",
      "\n",
      "        Node(apple)\n",
      "        visited_left: False\n",
      "        visited_right: False\n",
      "        \n",
      "_________________\n",
      "<bottom of stack>\n",
      "                    \n",
      "\n",
      "                    loop count: 1\n",
      "                    current node: Node(banana)\n",
      "                    stack:\n",
      "                    <top of stack>\n",
      "_________________\n",
      "\n",
      "        Node(banana)\n",
      "        visited_left: False\n",
      "        visited_right: False\n",
      "        \n",
      "_________________\n",
      "\n",
      "        Node(apple)\n",
      "        visited_left: True\n",
      "        visited_right: False\n",
      "        \n",
      "_________________\n",
      "<bottom of stack>\n",
      "                    \n",
      "\n",
      "                    loop count: 2\n",
      "                    current node: Node(dates)\n",
      "                    stack:\n",
      "                    <top of stack>\n",
      "_________________\n",
      "\n",
      "        Node(dates)\n",
      "        visited_left: False\n",
      "        visited_right: False\n",
      "        \n",
      "_________________\n",
      "\n",
      "        Node(banana)\n",
      "        visited_left: True\n",
      "        visited_right: False\n",
      "        \n",
      "_________________\n",
      "\n",
      "        Node(apple)\n",
      "        visited_left: True\n",
      "        visited_right: False\n",
      "        \n",
      "_________________\n",
      "<bottom of stack>\n",
      "                    \n",
      "\n",
      "                    loop count: 3\n",
      "                    current node: Node(banana)\n",
      "                    stack:\n",
      "                    <top of stack>\n",
      "_________________\n",
      "\n",
      "        Node(banana)\n",
      "        visited_left: True\n",
      "        visited_right: False\n",
      "        \n",
      "_________________\n",
      "\n",
      "        Node(apple)\n",
      "        visited_left: True\n",
      "        visited_right: False\n",
      "        \n",
      "_________________\n",
      "<bottom of stack>\n",
      "                    \n",
      "\n",
      "                    loop count: 4\n",
      "                    current node: Node(apple)\n",
      "                    stack:\n",
      "                    <top of stack>\n",
      "_________________\n",
      "\n",
      "        Node(apple)\n",
      "        visited_left: True\n",
      "        visited_right: False\n",
      "        \n",
      "_________________\n",
      "<bottom of stack>\n",
      "                    \n",
      "\n",
      "                    loop count: 5\n",
      "                    current node: Node(cherry)\n",
      "                    stack:\n",
      "                    <top of stack>\n",
      "_________________\n",
      "\n",
      "        Node(apple)\n",
      "        visited_left: True\n",
      "        visited_right: True\n",
      "        \n",
      "_________________\n",
      "<bottom of stack>\n",
      "                    \n",
      "\n",
      "loop count: 6\n",
      "current node: None\n",
      "stack:\n",
      "<stack is empty>\n",
      "            \n"
     ]
    },
    {
     "data": {
      "text/plain": [
       "['apple', 'banana', 'dates', 'cherry']"
      ]
     },
     "execution_count": 32,
     "metadata": {},
     "output_type": "execute_result"
    }
   ],
   "source": [
    "# check pre-order traversal\n",
    "\n",
    "pre_order_with_stack(tree, debug_mode=True)"
   ]
  },
  {
   "attachments": {},
   "cell_type": "markdown",
   "metadata": {},
   "source": [
    "### **Task 01: pre-order traversal with recursion**\n"
   ]
  },
  {
   "cell_type": "code",
   "execution_count": 33,
   "metadata": {},
   "outputs": [],
   "source": [
    "def pre_order(tree):\n",
    "    visit_order = list()\n",
    "    root = tree.get_root()\n",
    "    \n",
    "    def traverse(node):\n",
    "        if node:\n",
    "            # visit the node\n",
    "            visit_order.append(node.get_value())\n",
    "            \n",
    "            # traverse left subtree\n",
    "            traverse(node.get_left_child())\n",
    "            \n",
    "            # traverse right subtree\n",
    "            traverse(node.get_right_child())\n",
    "    \n",
    "    traverse(root)\n",
    "    \n",
    "    return visit_order"
   ]
  },
  {
   "cell_type": "code",
   "execution_count": 34,
   "metadata": {},
   "outputs": [
    {
     "name": "stdout",
     "output_type": "stream",
     "text": [
      "['apple', 'banana', 'dates', 'cherry']\n"
     ]
    }
   ],
   "source": [
    "tree_preorder = pre_order(tree)\n",
    "print(tree_preorder)"
   ]
  },
  {
   "attachments": {},
   "cell_type": "markdown",
   "metadata": {},
   "source": [
    "### **Task: do in-order traversal**\n"
   ]
  },
  {
   "attachments": {},
   "cell_type": "markdown",
   "metadata": {},
   "source": [
    "We want to traverse the left subtree, then visit the node, and then traverse the right subtree.\n",
    "\n"
   ]
  },
  {
   "attachments": {},
   "cell_type": "markdown",
   "metadata": {},
   "source": [
    "`hint`: it's very similar in structure to the pre-order traversal.\n",
    "\n"
   ]
  },
  {
   "cell_type": "code",
   "execution_count": 35,
   "metadata": {},
   "outputs": [],
   "source": [
    "# define in-order traversal\n",
    "def in_order(tree):\n",
    "    visit_order = list()\n",
    "    root = tree.get_root()\n",
    "    \n",
    "    def traverse(node):\n",
    "        if node:\n",
    "            # traverse left subtree\n",
    "            traverse(node.get_left_child())\n",
    "            \n",
    "            # visit the node\n",
    "            visit_order.append(node.get_value())\n",
    "            \n",
    "            # traverse right subtree\n",
    "            traverse(node.get_right_child())\n",
    "    \n",
    "    traverse(root)\n",
    "    \n",
    "    return visit_order"
   ]
  },
  {
   "cell_type": "code",
   "execution_count": 36,
   "metadata": {},
   "outputs": [
    {
     "name": "stdout",
     "output_type": "stream",
     "text": [
      "['dates', 'banana', 'apple', 'cherry']\n"
     ]
    }
   ],
   "source": [
    "# check solution: should get: ['dates', 'banana', 'apple', 'cherry']\n",
    "tree_in_order = in_order(tree)\n",
    "print(tree_in_order)"
   ]
  },
  {
   "attachments": {},
   "cell_type": "markdown",
   "metadata": {},
   "source": [
    "### **Task: post-order traversal**\n"
   ]
  },
  {
   "attachments": {},
   "cell_type": "markdown",
   "metadata": {},
   "source": [
    "Traverse left subtree, then right subtree, and then visit the node.\n",
    "\n"
   ]
  },
  {
   "cell_type": "code",
   "execution_count": 37,
   "metadata": {},
   "outputs": [],
   "source": [
    "# define post_order traversal\n",
    "def post_order(tree):\n",
    "    visit_order = list()\n",
    "    root = tree.get_root()\n",
    "    \n",
    "    def traverse(node):\n",
    "        if node:\n",
    "            # traverse left subtree\n",
    "            traverse(node.get_left_child())\n",
    "            \n",
    "            # traverse right subtree\n",
    "            traverse(node.get_right_child())\n",
    "            \n",
    "            # visit the node\n",
    "            visit_order.append(node.get_value())\n",
    "    \n",
    "    traverse(root)\n",
    "    \n",
    "    return visit_order"
   ]
  },
  {
   "cell_type": "code",
   "execution_count": 38,
   "metadata": {},
   "outputs": [
    {
     "name": "stdout",
     "output_type": "stream",
     "text": [
      "['dates', 'banana', 'cherry', 'apple']\n"
     ]
    }
   ],
   "source": [
    "# check solution: should get: ['dates', 'banana', 'cherry', 'apple']\n",
    "tree_post_order = post_order(tree)\n",
    "print(tree_post_order)"
   ]
  },
  {
   "attachments": {},
   "cell_type": "markdown",
   "metadata": {},
   "source": [
    "### **Solution Notebook**\n"
   ]
  },
  {
   "attachments": {},
   "cell_type": "markdown",
   "metadata": {},
   "source": [
    "The solution notebook is [here](02 traverse_a_tree_dfs_solution.ipnyb)\n",
    "\n"
   ]
  },
  {
   "cell_type": "markdown",
   "metadata": {},
   "source": []
  }
 ],
 "metadata": {
  "kernelspec": {
   "display_name": "Python 3",
   "language": "python",
   "name": "python3"
  },
  "language_info": {
   "codemirror_mode": {
    "name": "ipython",
    "version": 3
   },
   "file_extension": ".py",
   "mimetype": "text/x-python",
   "name": "python",
   "nbconvert_exporter": "python",
   "pygments_lexer": "ipython3",
   "version": "3.10.6"
  },
  "orig_nbformat": 4
 },
 "nbformat": 4,
 "nbformat_minor": 2
}
