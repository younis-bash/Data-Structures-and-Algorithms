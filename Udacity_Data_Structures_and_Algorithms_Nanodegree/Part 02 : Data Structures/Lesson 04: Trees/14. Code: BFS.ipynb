{
 "cells": [
  {
   "attachments": {},
   "cell_type": "markdown",
   "metadata": {},
   "source": [
    "## **14. Code: BFS**\n"
   ]
  },
  {
   "attachments": {},
   "cell_type": "markdown",
   "metadata": {},
   "source": [
    "### **Traverse a tree (breadth first search)**\n"
   ]
  },
  {
   "attachments": {},
   "cell_type": "markdown",
   "metadata": {},
   "source": [
    "We'll now practice implementing breadth first search (BFS). You'll see breadth first search again when we learn about graph data structures, so BFS is very useful to know.\n",
    "\n"
   ]
  },
  {
   "attachments": {},
   "cell_type": "markdown",
   "metadata": {},
   "source": [
    "### **Creating a sample tree**\n"
   ]
  },
  {
   "attachments": {},
   "cell_type": "markdown",
   "metadata": {},
   "source": [
    "We'll create a tree that looks like the following:\n",
    "\n"
   ]
  },
  {
   "attachments": {
    "image.png": {
     "image/png": "[encoded data removed]"
    }
   },
   "cell_type": "markdown",
   "metadata": {},
   "source": [
    "![image.png](attachment:image.png)"
   ]
  },
  {
   "cell_type": "code",
   "execution_count": 1,
   "metadata": {},
   "outputs": [],
   "source": [
    "# this code makes the tree that we'll traverse\n",
    "\n",
    "class Node(object):\n",
    "\n",
    "    def __init__(self, value=None):\n",
    "        self.value = value\n",
    "        self.left = None\n",
    "        self.right = None\n",
    "\n",
    "    def set_value(self, value):\n",
    "        self.value = value\n",
    "\n",
    "    def get_value(self):\n",
    "        return self.value\n",
    "\n",
    "    def set_left_child(self, left):\n",
    "        self.left = left\n",
    "\n",
    "    def set_right_child(self, right):\n",
    "        self.right = right\n",
    "\n",
    "    def get_left_child(self):\n",
    "        return self.left\n",
    "\n",
    "    def get_right_child(self):\n",
    "        return self.right\n",
    "\n",
    "    def has_left_child(self):\n",
    "        return self.left != None\n",
    "\n",
    "    def has_right_child(self):\n",
    "        return self.right != None\n",
    "\n",
    "    # define __repr_ to decide what a print statement displays for a Node object\n",
    "    def __repr__(self):\n",
    "        return f\"Node({self.get_value()})\"\n",
    "\n",
    "    def __str__(self):\n",
    "        return f\"Node({self.get_value()})\"\n",
    "\n",
    "\n",
    "class Tree():\n",
    "    def __init__(self, value=None):\n",
    "        self.root = Node(value)\n",
    "\n",
    "    def get_root(self):\n",
    "        return self.root\n",
    "\n",
    "\n",
    "tree = Tree(\"apple\")\n",
    "tree.get_root().set_left_child(Node(\"banana\"))\n",
    "tree.get_root().set_right_child(Node(\"cherry\"))\n",
    "tree.get_root().get_left_child().set_left_child(Node(\"dates\"))\n"
   ]
  },
  {
   "attachments": {},
   "cell_type": "markdown",
   "metadata": {},
   "source": [
    "### **Breadth first search**\n"
   ]
  },
  {
   "attachments": {},
   "cell_type": "markdown",
   "metadata": {},
   "source": [
    "Breadth first traversal of the tree would visit the nodes in this order:\n",
    "\n"
   ]
  },
  {
   "attachments": {
    "image.png": {
     "image/png": "[encoded data removed]"
    }
   },
   "cell_type": "markdown",
   "metadata": {},
   "source": [
    "![image.png](attachment:image.png)"
   ]
  },
  {
   "attachments": {},
   "cell_type": "markdown",
   "metadata": {},
   "source": [
    "apple, banana, cherry, dates\n",
    "\n"
   ]
  },
  {
   "attachments": {},
   "cell_type": "markdown",
   "metadata": {},
   "source": [
    "**Think through the algorithm**"
   ]
  },
  {
   "attachments": {},
   "cell_type": "markdown",
   "metadata": {},
   "source": [
    "We are walking down the tree one level at a time. So we start with apple at the root, and next are banana and cherry, and next is dates.\n",
    "\n"
   ]
  },
  {
   "attachments": {},
   "cell_type": "markdown",
   "metadata": {},
   "source": [
    "1. start at the root node\n",
    "\n",
    "2. visit the root node's left child (banana), then right child (cherry)\n",
    "\n",
    "3. visit the left and right children of (banana) and (cherry)."
   ]
  },
  {
   "attachments": {},
   "cell_type": "markdown",
   "metadata": {},
   "source": [
    "#### **Queue**"
   ]
  },
  {
   "attachments": {},
   "cell_type": "markdown",
   "metadata": {},
   "source": [
    "Notice that we're waiting until we visit \"cherry\" before visiting \"dates\". It's like they're waiting in line. We can use a queue to keep track of the order.\n",
    "\n"
   ]
  },
  {
   "attachments": {},
   "cell_type": "markdown",
   "metadata": {},
   "source": [
    "#### **Define a queue class**"
   ]
  },
  {
   "cell_type": "code",
   "execution_count": 2,
   "metadata": {},
   "outputs": [
    {
     "name": "stdout",
     "output_type": "stream",
     "text": [
      "deque(['banana', 'apple'])\n"
     ]
    }
   ],
   "source": [
    "from collections import deque\n",
    "# double ended queue (deque)\n",
    "q = deque()\n",
    "# enqueue an element\n",
    "q.appendleft(\"apple\")\n",
    "q.appendleft(\"banana\")\n",
    "print(q)"
   ]
  },
  {
   "cell_type": "code",
   "execution_count": 3,
   "metadata": {},
   "outputs": [
    {
     "data": {
      "text/plain": [
       "'apple'"
      ]
     },
     "execution_count": 3,
     "metadata": {},
     "output_type": "execute_result"
    }
   ],
   "source": [
    "# dequeue an element\n",
    "q.pop()"
   ]
  },
  {
   "cell_type": "code",
   "execution_count": 4,
   "metadata": {},
   "outputs": [
    {
     "name": "stdout",
     "output_type": "stream",
     "text": [
      "deque(['banana'])\n"
     ]
    }
   ],
   "source": [
    "print(q)"
   ]
  },
  {
   "cell_type": "code",
   "execution_count": 5,
   "metadata": {},
   "outputs": [
    {
     "data": {
      "text/plain": [
       "1"
      ]
     },
     "execution_count": 5,
     "metadata": {},
     "output_type": "execute_result"
    }
   ],
   "source": [
    "len(q)"
   ]
  },
  {
   "cell_type": "code",
   "execution_count": 6,
   "metadata": {},
   "outputs": [],
   "source": [
    "from collections import deque\n",
    "\n",
    "\n",
    "class Queue():\n",
    "\n",
    "    def __init__(self):\n",
    "        self.q = deque()\n",
    "\n",
    "    def enq(self, value):\n",
    "        self.q.appendleft(value)\n",
    "\n",
    "    def deq(self):\n",
    "        if len(self.q) > 0:\n",
    "            return self.q.pop()\n",
    "\n",
    "        return None\n",
    "\n",
    "    def __len__(self):\n",
    "        return len(self.q)\n",
    "\n",
    "    def __repr__(self):\n",
    "\n",
    "        if len(self.q) > 0:\n",
    "            s = \"<enqueue here>\\n_________________\\n\"\n",
    "            s += \"\\n_________________\\n\".join([str(item) for item in self.q])\n",
    "            s += \"\\n_________________\\n<dequeue here>\"\n",
    "            return s\n",
    "        else:\n",
    "            return \"<queue is empty>\"\n"
   ]
  },
  {
   "cell_type": "code",
   "execution_count": 7,
   "metadata": {},
   "outputs": [
    {
     "name": "stdout",
     "output_type": "stream",
     "text": [
      "<enqueue here>\n",
      "_________________\n",
      "cherry\n",
      "_________________\n",
      "banana\n",
      "_________________\n",
      "apple\n",
      "_________________\n",
      "<dequeue here>\n"
     ]
    }
   ],
   "source": [
    "q = Queue()\n",
    "q.enq(\"apple\")\n",
    "q.enq(\"banana\")\n",
    "q.enq(\"cherry\")\n",
    "print(q)"
   ]
  },
  {
   "cell_type": "code",
   "execution_count": 8,
   "metadata": {},
   "outputs": [
    {
     "name": "stdout",
     "output_type": "stream",
     "text": [
      "apple\n"
     ]
    }
   ],
   "source": [
    "print(q.deq())\n"
   ]
  },
  {
   "cell_type": "code",
   "execution_count": 9,
   "metadata": {},
   "outputs": [
    {
     "name": "stdout",
     "output_type": "stream",
     "text": [
      "<enqueue here>\n",
      "_________________\n",
      "cherry\n",
      "_________________\n",
      "banana\n",
      "_________________\n",
      "<dequeue here>\n"
     ]
    }
   ],
   "source": [
    "print(q)\n"
   ]
  },
  {
   "attachments": {},
   "cell_type": "markdown",
   "metadata": {},
   "source": [
    "### **Walk through the steps with code**\n"
   ]
  },
  {
   "attachments": {},
   "cell_type": "markdown",
   "metadata": {},
   "source": [
    "We're going to translate what we're doing by hand into code, one step at a time. This will help us check if our code is doing what we expect it to do.\n",
    "\n"
   ]
  },
  {
   "attachments": {
    "image.png": {
     "image/png": "[encoded data removed]"
    }
   },
   "cell_type": "markdown",
   "metadata": {},
   "source": [
    "![image.png](attachment:image.png)"
   ]
  },
  {
   "cell_type": "code",
   "execution_count": 10,
   "metadata": {},
   "outputs": [
    {
     "name": "stdout",
     "output_type": "stream",
     "text": [
      "<enqueue here>\n",
      "_________________\n",
      "Node(apple)\n",
      "_________________\n",
      "<dequeue here>\n"
     ]
    }
   ],
   "source": [
    "visit_order = list()\n",
    "q = Queue()\n",
    "\n",
    "# start at the root node and add it to the queue\n",
    "node = tree.get_root()\n",
    "q.enq(node)\n",
    "print(q)"
   ]
  },
  {
   "cell_type": "code",
   "execution_count": 11,
   "metadata": {},
   "outputs": [
    {
     "name": "stdout",
     "output_type": "stream",
     "text": [
      "visit order: [Node(apple)]\n",
      "<enqueue here>\n",
      "_________________\n",
      "Node(cherry)\n",
      "_________________\n",
      "Node(banana)\n",
      "_________________\n",
      "<dequeue here>\n"
     ]
    }
   ],
   "source": [
    "# dequeue the next node in the queue. \n",
    "# \"visit\" that node\n",
    "# also add its children to the queue\n",
    "\n",
    "node = q.deq()\n",
    "visit_order.append(node)\n",
    "if node.has_left_child():\n",
    "    q.enq(node.get_left_child())\n",
    "if node.has_right_child():\n",
    "    q.enq(node.get_right_child())\n",
    "    \n",
    "print(f\"visit order: {visit_order}\")\n",
    "print(q)"
   ]
  },
  {
   "cell_type": "code",
   "execution_count": 12,
   "metadata": {},
   "outputs": [
    {
     "name": "stdout",
     "output_type": "stream",
     "text": [
      "visit order: [Node(apple), Node(banana)]\n",
      "<enqueue here>\n",
      "_________________\n",
      "Node(dates)\n",
      "_________________\n",
      "Node(cherry)\n",
      "_________________\n",
      "<dequeue here>\n"
     ]
    }
   ],
   "source": [
    "# dequeue the next node (banana)\n",
    "# visit it, and add its children (dates) to the queue \n",
    "\n",
    "node = q.deq()\n",
    "visit_order.append(node)\n",
    "if node.has_left_child():\n",
    "    q.enq(node.get_left_child())\n",
    "if node.has_right_child():\n",
    "    q.enq(node.get_right_child())\n",
    "    \n",
    "print(f\"visit order: {visit_order}\")\n",
    "print(q)"
   ]
  },
  {
   "cell_type": "code",
   "execution_count": 13,
   "metadata": {},
   "outputs": [
    {
     "name": "stdout",
     "output_type": "stream",
     "text": [
      "visit order: [Node(apple), Node(banana), Node(cherry)]\n",
      "<enqueue here>\n",
      "_________________\n",
      "Node(dates)\n",
      "_________________\n",
      "<dequeue here>\n"
     ]
    }
   ],
   "source": [
    "# dequeue the next node (cherry)\n",
    "# visit it, and add its children (there are None) to the queue \n",
    "\n",
    "node = q.deq()\n",
    "visit_order.append(node)\n",
    "if node.has_left_child():\n",
    "    q.enq(node.get_left_child())\n",
    "if node.has_right_child():\n",
    "    q.enq(node.get_right_child())\n",
    "    \n",
    "print(f\"visit order: {visit_order}\")\n",
    "print(q)"
   ]
  },
  {
   "cell_type": "code",
   "execution_count": 14,
   "metadata": {},
   "outputs": [
    {
     "name": "stdout",
     "output_type": "stream",
     "text": [
      "visit order: [Node(apple), Node(banana), Node(cherry), Node(dates)]\n",
      "<queue is empty>\n"
     ]
    }
   ],
   "source": [
    "# dequeue the next node (dates)\n",
    "# visit it, and add its children (there are None) to the queue \n",
    "\n",
    "node = q.deq()\n",
    "visit_order.append(node)\n",
    "if node.has_left_child():\n",
    "    q.enq(node.get_left_child())\n",
    "if node.has_right_child():\n",
    "    q.enq(node.get_right_child())\n",
    "    \n",
    "print(f\"visit order: {visit_order}\")\n",
    "print(q)"
   ]
  },
  {
   "attachments": {},
   "cell_type": "markdown",
   "metadata": {},
   "source": [
    "### **Task: write the breadth first search algorithm**\n"
   ]
  },
  {
   "cell_type": "code",
   "execution_count": 15,
   "metadata": {},
   "outputs": [],
   "source": [
    "# BFS algorithm\n",
    "def bfs(tree):\n",
    "    # queue\n",
    "    q = Queue()\n",
    "    # visit order\n",
    "    visit_order = list()\n",
    "    # start at root\n",
    "    node = tree.get_root()\n",
    "    # add root to queue\n",
    "    q.enq(node)\n",
    "    \n",
    "    # while queue is not empty\n",
    "    while len(q) > 0:\n",
    "        # dequeue the node\n",
    "        node = q.deq()\n",
    "        # visit that node\n",
    "        visit_order.append(node)\n",
    "        # add left child if exists\n",
    "        if node.has_left_child():\n",
    "            q.enq(node.get_left_child())\n",
    "        # add right child if exists\n",
    "        if node.has_right_child():\n",
    "            q.enq(node.get_right_child())\n",
    "        \n",
    "    # return the visit order\n",
    "    return visit_order"
   ]
  },
  {
   "cell_type": "code",
   "execution_count": 16,
   "metadata": {},
   "outputs": [
    {
     "data": {
      "text/plain": [
       "[Node(apple), Node(banana), Node(cherry), Node(dates)]"
      ]
     },
     "execution_count": 16,
     "metadata": {},
     "output_type": "execute_result"
    }
   ],
   "source": [
    "# check solution: should be: apple, banana, cherry, dates\n",
    "bfs(tree)"
   ]
  },
  {
   "attachments": {},
   "cell_type": "markdown",
   "metadata": {},
   "source": [
    "### **Bonus Task: write a print function**\n"
   ]
  },
  {
   "attachments": {},
   "cell_type": "markdown",
   "metadata": {},
   "source": [
    "Define the print function for the Tree class. Nodes on the same level are printed on the same line.\n",
    "\n"
   ]
  },
  {
   "attachments": {},
   "cell_type": "markdown",
   "metadata": {},
   "source": [
    "For example, the tree we've been using would print out like this:\n",
    "\n"
   ]
  },
  {
   "attachments": {},
   "cell_type": "markdown",
   "metadata": {},
   "source": [
    "    Node(apple)\n",
    "    Node(banana) | Node(cherry)\n",
    "    Node(dates) | <empty> | <empty> | <empty>\n",
    "    <empty> | <empty>"
   ]
  },
  {
   "attachments": {},
   "cell_type": "markdown",
   "metadata": {},
   "source": [
    "We'll have `<empty>` be placeholders so that we can keep track of which node is a child or parent of the other nodes.\n",
    "\n"
   ]
  },
  {
   "attachments": {},
   "cell_type": "markdown",
   "metadata": {},
   "source": [
    "`hint`: use a variable to keep track of which level each node is on. For instance, the root node is on level 0, and its child nodes are on level 1.\n",
    "\n"
   ]
  },
  {
   "cell_type": "code",
   "execution_count": 17,
   "metadata": {},
   "outputs": [],
   "source": [
    "# starter code\n",
    "\n",
    "class Tree():\n",
    "    def __init__(self, value=None):\n",
    "        self.root = Node(value)\n",
    "        \n",
    "    def get_root(self):\n",
    "        return self.root\n",
    "    \n",
    "    \"\"\"\n",
    "    define the print function\n",
    "    \"\"\"\n",
    "    def __repr__(self):\n",
    "        level = 0\n",
    "        q = Queue()\n",
    "        visit_order = list()\n",
    "        node = self.get_root()\n",
    "        q.enq( (node,level) )\n",
    "        while(len(q) > 0):\n",
    "            node, level = q.deq()\n",
    "            if node == None:\n",
    "                visit_order.append( (\"<empty>\", level))\n",
    "                continue\n",
    "            visit_order.append( (node, level) )\n",
    "            if node.has_left_child():\n",
    "                q.enq( (node.get_left_child(), level +1 ))\n",
    "            else:\n",
    "                q.enq( (None, level +1) )\n",
    "                \n",
    "            if node.has_right_child():\n",
    "                q.enq( (node.get_right_child(), level +1 ))\n",
    "            else:\n",
    "                q.enq( (None, level +1) )\n",
    "                \n",
    "        s = \"Tree\\n\"\n",
    "        previous_level = -1\n",
    "        for i in range(len(visit_order)):\n",
    "            node, level = visit_order[i]\n",
    "            if level == previous_level:\n",
    "                s += \" | \" + str(node) \n",
    "            else:\n",
    "                s += \"\\n\" + str(node)\n",
    "                previous_level = level\n",
    "\n",
    "        return s"
   ]
  },
  {
   "cell_type": "code",
   "execution_count": 18,
   "metadata": {},
   "outputs": [
    {
     "name": "stdout",
     "output_type": "stream",
     "text": [
      "Tree\n",
      "\n",
      "Node(apple)\n",
      "Node(banana) | Node(cherry)\n",
      "Node(dates) | <empty> | <empty> | <empty>\n",
      "<empty> | <empty>\n"
     ]
    }
   ],
   "source": [
    "# check solution\n",
    "tree = Tree(\"apple\")\n",
    "tree.get_root().set_left_child(Node(\"banana\"))\n",
    "tree.get_root().set_right_child(Node(\"cherry\"))\n",
    "tree.get_root().get_left_child().set_left_child(Node(\"dates\"))\n",
    "print(tree)"
   ]
  }
 ],
 "metadata": {
  "kernelspec": {
   "display_name": "Python 3",
   "language": "python",
   "name": "python3"
  },
  "language_info": {
   "codemirror_mode": {
    "name": "ipython",
    "version": 3
   },
   "file_extension": ".py",
   "mimetype": "text/x-python",
   "name": "python",
   "nbconvert_exporter": "python",
   "pygments_lexer": "ipython3",
   "version": "3.10.6"
  },
  "orig_nbformat": 4
 },
 "nbformat": 4,
 "nbformat_minor": 2
}
