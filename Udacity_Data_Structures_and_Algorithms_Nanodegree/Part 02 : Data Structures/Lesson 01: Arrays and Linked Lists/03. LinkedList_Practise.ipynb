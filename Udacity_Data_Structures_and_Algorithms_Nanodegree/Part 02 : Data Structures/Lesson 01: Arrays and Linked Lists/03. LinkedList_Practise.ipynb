{
 "cells": [
  {
   "attachments": {},
   "cell_type": "markdown",
   "metadata": {},
   "source": [
    "# Linked List Practice\n",
    "Implement a linked list class. Your class should be able to:\n",
    "\n",
    "* Append data to the tail of the list and prepend to the head\n",
    "* Search the linked list for a value and return the node\n",
    "* Remove a node\n",
    "* Pop, which means to return the first node's value and delete the node from the list\n",
    "* Insert data at some position in the list\n",
    "* Return the size (length) of the linked list"
   ]
  },
  {
   "cell_type": "code",
   "execution_count": 1,
   "metadata": {},
   "outputs": [],
   "source": [
    "class Node():\n",
    "    \"\"\"\n",
    "    class Node \n",
    "    \"\"\"\n",
    "\n",
    "    def __init__(self, value):\n",
    "        self.value = value\n",
    "        self.next = None\n",
    "        self.previous = None\n"
   ]
  },
  {
   "cell_type": "code",
   "execution_count": 34,
   "metadata": {},
   "outputs": [],
   "source": [
    "class LinkedList():\n",
    "    def __init__(self):\n",
    "        self.head = None\n",
    "\n",
    "    def append(self, value):\n",
    "        \"\"\"\n",
    "        append value to the linked list \n",
    "        \"\"\"\n",
    "        if self.head == None:\n",
    "            self.head = Node(value)\n",
    "            return\n",
    "\n",
    "        node = self.head\n",
    "        while node.next:\n",
    "            node = node.next\n",
    "\n",
    "        node.next = Node(value)\n",
    "        return\n",
    "\n",
    "    def search(self, value):\n",
    "        \"\"\"\n",
    "        search for value in linkedlist \n",
    "        \"\"\"\n",
    "        node = self.head\n",
    "        if node.value == value:\n",
    "            return node\n",
    "        while node.next:\n",
    "            if node.next == value:\n",
    "                return node.next\n",
    "            node = node.next\n",
    "        return None\n",
    "\n",
    "    def remove(self, value):\n",
    "        \"\"\"\n",
    "        remove value from linkedlist \n",
    "        \"\"\"\n",
    "        position_prev = None\n",
    "        position_tail = self.head\n",
    "\n",
    "        while position_tail:\n",
    "            if position_tail.value == value:\n",
    "                if position_prev == None:\n",
    "                    self.head = position_tail\n",
    "                    break\n",
    "                else:\n",
    "                    position_prev.next = position_tail.next\n",
    "                    break\n",
    "            position_prev = position_tail\n",
    "            position_tail = position_tail.next\n",
    "\n",
    "    def pop(self):\n",
    "        \"\"\"\n",
    "        remove first value in linkedlist \n",
    "        \"\"\"\n",
    "        first_node = self.head.value\n",
    "        self.head = self.head.next\n",
    "        return first_node\n",
    "\n",
    "    def insert(self, value, position):\n",
    "        \"\"\"\n",
    "        insert value at position\n",
    "        \"\"\"\n",
    "        node = self.head\n",
    "        if node is None or self.to_length() < position:\n",
    "            return \"please use valid postion\"\n",
    "        if position == 0:\n",
    "            self.head = Node(value)\n",
    "            self.head.next = node\n",
    "            return\n",
    "        count = 0\n",
    "        while node:\n",
    "            if count == position - 1:\n",
    "                newnode = Node(value)\n",
    "                newnode.next = node.next\n",
    "                node.next = newnode\n",
    "            node = node.next\n",
    "            count += 1\n",
    "\n",
    "    def to_list(self):\n",
    "        \"\"\"\n",
    "        return linkedlist values \n",
    "        \"\"\"\n",
    "        if self.head == None:\n",
    "            return []\n",
    "        result = []\n",
    "        node = self.head\n",
    "        while node:\n",
    "            result.append(node.value)\n",
    "            node = node.next\n",
    "        return result\n",
    "\n",
    "    def to_length(self):\n",
    "        \"\"\"\n",
    "        return length of the linkedlist\n",
    "        \"\"\"\n",
    "        return len(self.to_list())\n"
   ]
  },
  {
   "cell_type": "code",
   "execution_count": null,
   "metadata": {},
   "outputs": [],
   "source": []
  },
  {
   "cell_type": "code",
   "execution_count": 30,
   "metadata": {},
   "outputs": [
    {
     "name": "stdout",
     "output_type": "stream",
     "text": [
      "[5, 3, 2]\n",
      "3\n"
     ]
    }
   ],
   "source": [
    "linked_list = LinkedList()\n",
    "linked_list.append(5)\n",
    "linked_list.append(3)\n",
    "linked_list.append(2)\n",
    "print(linked_list.to_list())\n",
    "print(linked_list.to_length())\n"
   ]
  },
  {
   "cell_type": "code",
   "execution_count": 32,
   "metadata": {},
   "outputs": [
    {
     "name": "stdout",
     "output_type": "stream",
     "text": [
      "[7, 7, 7, 5, 3, 2]\n"
     ]
    }
   ],
   "source": [
    "linked_list.insert(7, 0)\n",
    "linked_list.insert(7, 2)\n",
    "print(linked_list.to_list())\n"
   ]
  },
  {
   "cell_type": "code",
   "execution_count": 33,
   "metadata": {},
   "outputs": [
    {
     "name": "stdout",
     "output_type": "stream",
     "text": [
      "[7, 7, 5, 7, 5, 3, 2]\n"
     ]
    }
   ],
   "source": [
    "linked_list.insert(5, 2)\n",
    "print(linked_list.to_list())\n"
   ]
  },
  {
   "cell_type": "code",
   "execution_count": null,
   "metadata": {},
   "outputs": [],
   "source": []
  }
 ],
 "metadata": {
  "kernelspec": {
   "display_name": "Python 3",
   "language": "python",
   "name": "python3"
  },
  "language_info": {
   "codemirror_mode": {
    "name": "ipython",
    "version": 3
   },
   "file_extension": ".py",
   "mimetype": "text/x-python",
   "name": "python",
   "nbconvert_exporter": "python",
   "pygments_lexer": "ipython3",
   "version": "3.8.10 (default, Nov 14 2022, 12:59:47) \n[GCC 9.4.0]"
  },
  "orig_nbformat": 4,
  "vscode": {
   "interpreter": {
    "hash": "e7370f93d1d0cde622a1f8e1c04877d8463912d04d973331ad4851f04de6915a"
   }
  }
 },
 "nbformat": 4,
 "nbformat_minor": 2
}
