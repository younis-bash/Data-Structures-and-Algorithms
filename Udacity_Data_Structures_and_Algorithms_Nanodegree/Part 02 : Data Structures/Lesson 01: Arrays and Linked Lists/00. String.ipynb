{
 "cells": [
  {
   "attachments": {},
   "cell_type": "markdown",
   "metadata": {},
   "source": [
    "## Strings Exercises"
   ]
  },
  {
   "attachments": {},
   "cell_type": "markdown",
   "metadata": {},
   "source": [
    "### Exercise 1"
   ]
  },
  {
   "attachments": {},
   "cell_type": "markdown",
   "metadata": {},
   "source": [
    "Intro\n",
    "Strings in Python are arrays of bytes representing unicode characters. In this exercise we are going to practice our work with string manipulation.\n",
    "\n",
    "Reverse Strings\n",
    "In this first exercise, the goal is to write a function that takes a string as input and then returns the reversed string.\n",
    "\n",
    "* For example, if the input is the string \"water\", then the output should be \"retaw\".\n",
    "\n",
    "While you're working on the function and trying to figure out how to manipulate the string, it may help to use the print statement so you can see the effects of whatever you're trying."
   ]
  },
  {
   "cell_type": "code",
   "execution_count": 38,
   "metadata": {},
   "outputs": [],
   "source": [
    "# Code\n",
    "def string_reverser(our_string):\n",
    "   \"\"\"\n",
    "   Reverse the input string\n",
    "\n",
    "   Args:\n",
    "      our_string(string): String to be reversed\n",
    "   Returns:\n",
    "      string: The reversed string\n",
    "   \"\"\"\n",
    "   reverse_string = \"\"\n",
    "   for i in range(1, len(our_string)+1):\n",
    "      reverse_string += our_string[-i]\n",
    "   return reverse_string\n"
   ]
  },
  {
   "cell_type": "code",
   "execution_count": 14,
   "metadata": {},
   "outputs": [
    {
     "name": "stdout",
     "output_type": "stream",
     "text": [
      "Pass\n",
      "Pass\n",
      "Pass\n"
     ]
    }
   ],
   "source": [
    "# Test Cases\n",
    "\n",
    "print(\"Pass\" if ('retaw' == string_reverser('water')) else \"Fail\")\n",
    "print(\"Pass\" if ('!noitalupinam gnirts gnicitcarP' ==\n",
    "      string_reverser('Practicing string manipulation!')) else \"Fail\")\n",
    "print(\"Pass\" if ('3432 :si edoc esuoh ehT' ==\n",
    "      string_reverser('The house code is: 2343')) else \"Fail\")\n"
   ]
  },
  {
   "attachments": {},
   "cell_type": "markdown",
   "metadata": {},
   "source": [
    "### Exercise 2 Anagrams\n",
    "The goal of this exercise is to write some code to determine if two strings are anagrams of each other.\n",
    "\n",
    "An anagram is a word (or phrase) that is formed by rearranging the letters of another word (or phrase).\n",
    "\n",
    "For example:\n",
    "\n",
    "* \"rat\" is an anagram of \"art\"\n",
    "* \"alert\" is an anagram of \"alter\"\n",
    "* \"Slot machines\" is an anagram of \"Cash lost in me\"\n",
    "Your function should take two strings as input and return True if the two words are anagrams and False if they are not.\n",
    "\n",
    "You can assume the following about the input strings:\n",
    "\n",
    "* No punctuation\n",
    "* No numbers\n",
    "* No special characters"
   ]
  },
  {
   "cell_type": "code",
   "execution_count": 36,
   "metadata": {},
   "outputs": [],
   "source": [
    "# Code\n",
    "\n",
    "def anagram_checker(str1, str2):\n",
    "    \"\"\"\n",
    "    Check if the input strings are anagrams of each other\n",
    "\n",
    "    Args:\n",
    "       str1(string),str2(string): Strings to be checked\n",
    "    Returns:\n",
    "       bool: Indicates whether strings are anagrams\n",
    "    \"\"\"\n",
    "    str1 = str1.lower().replace(\" \", \"\")\n",
    "    str2 = str2.lower().replace(\" \", \"\")\n",
    "    if len(set(str1)) != len(set(str2)):\n",
    "        return False\n",
    "\n",
    "    for item in str1:\n",
    "        if item not in str2:\n",
    "            return False\n",
    "    return True\n"
   ]
  },
  {
   "cell_type": "code",
   "execution_count": 37,
   "metadata": {},
   "outputs": [
    {
     "name": "stdout",
     "output_type": "stream",
     "text": [
      "Fail\n",
      "Pass\n",
      "Pass\n",
      "Fail\n",
      "Pass\n"
     ]
    }
   ],
   "source": [
    "# Test Cases\n",
    "\n",
    "print (\"Pass\" if not (anagram_checker('water','waiter')) else \"Fail\")\n",
    "print (\"Pass\" if anagram_checker('Dormitory','Dirty room') else \"Fail\")\n",
    "print (\"Pass\" if anagram_checker('Slot machines', 'Cash lost in me') else \"Fail\")\n",
    "print (\"Pass\" if not (anagram_checker('A gentleman','Elegant men')) else \"Fail\")\n",
    "print (\"Pass\" if anagram_checker('Time and tide wait for no man','Notified madman into water') else \"Fail\")"
   ]
  },
  {
   "attachments": {},
   "cell_type": "markdown",
   "metadata": {},
   "source": [
    "###  Exercise 3 \n",
    "Reverse the words in sentence\n",
    "Given a sentence, reverse each word in the sentence while keeping the order the same!"
   ]
  },
  {
   "cell_type": "code",
   "execution_count": 54,
   "metadata": {},
   "outputs": [],
   "source": [
    "# Reverse the words in sentences\n",
    "def word_flipper(our_string):\n",
    "   \"\"\"\n",
    "   Flip the individual words in a sentence\n",
    "\n",
    "   Args:\n",
    "      our_string(string): String with words to flip\n",
    "   Returns:\n",
    "      string: String with words flipped\n",
    "   \"\"\"\n",
    "   list_word=our_string.split(\" \")\n",
    "   return_list=[]\n",
    "   for word in list_word : \n",
    "      return_list.append(word[::-1])\n",
    "   return \" \".join(return_list)\n"
   ]
  },
  {
   "cell_type": "code",
   "execution_count": 55,
   "metadata": {},
   "outputs": [
    {
     "data": {
      "text/plain": [
       "'sihT si na elpmaxe'"
      ]
     },
     "execution_count": 55,
     "metadata": {},
     "output_type": "execute_result"
    }
   ],
   "source": [
    "word_flipper('This is an example')"
   ]
  },
  {
   "cell_type": "code",
   "execution_count": 56,
   "metadata": {},
   "outputs": [
    {
     "name": "stdout",
     "output_type": "stream",
     "text": [
      "Pass\n",
      "Pass\n",
      "Pass\n"
     ]
    }
   ],
   "source": [
    "# Test Cases\n",
    "\n",
    "print(\"Pass\" if ('retaw' == word_flipper('water')) else \"Fail\")\n",
    "print(\"Pass\" if ('sihT si na elpmaxe' ==\n",
    "      word_flipper('This is an example')) else \"Fail\")\n",
    "print(\"Pass\" if ('sihT si eno llams pets rof ...' ==\n",
    "      word_flipper('This is one small step for ...')) else \"Fail\")\n"
   ]
  },
  {
   "attachments": {},
   "cell_type": "markdown",
   "metadata": {},
   "source": [
    "### Ex 4 Hamming Distance\n",
    "In information theory, the Hamming distance between two strings of equal length is the number of positions at which the corresponding symbols are different. Calculate the Hamming distace for the following test cases."
   ]
  },
  {
   "cell_type": "code",
   "execution_count": 67,
   "metadata": {},
   "outputs": [],
   "source": [
    "# Code\n",
    "\n",
    "def hamming_distance(str1, str2):\n",
    "   \"\"\"\n",
    "   Calculate the hamming distance of the two strings\n",
    "\n",
    "   Args:\n",
    "      str1(string),str2(string): Strings to be used for finding the hamming distance\n",
    "   Returns:\n",
    "      int: Hamming Distance\n",
    "   \"\"\"\n",
    "   hamming_distance=0\n",
    "   str1=str1.lower()\n",
    "   str2=str2.lower()\n",
    "   if len(str1) == len(str2):\n",
    "      for i in range(len(str1)):\n",
    "         if str1[i]!=str2[i]:\n",
    "               hamming_distance +=1\n",
    "      return hamming_distance\n",
    "   return None\n",
    "   "
   ]
  },
  {
   "cell_type": "code",
   "execution_count": 68,
   "metadata": {},
   "outputs": [
    {
     "name": "stdout",
     "output_type": "stream",
     "text": [
      "Pass\n",
      "Pass\n",
      "Pass\n",
      "Pass\n",
      "Pass\n"
     ]
    }
   ],
   "source": [
    "# Test Cases\n",
    "\n",
    "print(\"Pass\" if (10 == hamming_distance('ACTTGACCGGG', 'GATCCGGTACA')) else \"Fail\")\n",
    "print(\"Pass\" if (1 == hamming_distance('shove', 'stove')) else \"Fail\")\n",
    "print(\"Pass\" if (None == hamming_distance(\n",
    "    'Slot machines', 'Cash lost in me')) else \"Fail\")\n",
    "print(\"Pass\" if (9 == hamming_distance('A gentleman', 'Elegant men')) else \"Fail\")\n",
    "print(\"Pass\" if (2 == hamming_distance(\n",
    "    '0101010100011101', '0101010100010001')) else \"Fail\")\n"
   ]
  }
 ],
 "metadata": {
  "kernelspec": {
   "display_name": "Python 3",
   "language": "python",
   "name": "python3"
  },
  "language_info": {
   "codemirror_mode": {
    "name": "ipython",
    "version": 3
   },
   "file_extension": ".py",
   "mimetype": "text/x-python",
   "name": "python",
   "nbconvert_exporter": "python",
   "pygments_lexer": "ipython3",
   "version": "3.8.10 (default, Nov 14 2022, 12:59:47) \n[GCC 9.4.0]"
  },
  "orig_nbformat": 4,
  "vscode": {
   "interpreter": {
    "hash": "e7370f93d1d0cde622a1f8e1c04877d8463912d04d973331ad4851f04de6915a"
   }
  }
 },
 "nbformat": 4,
 "nbformat_minor": 2
}
