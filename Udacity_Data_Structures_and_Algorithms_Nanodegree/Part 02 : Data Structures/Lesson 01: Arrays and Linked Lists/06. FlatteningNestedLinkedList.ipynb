{
 "cells": [
  {
   "attachments": {},
   "cell_type": "markdown",
   "metadata": {},
   "source": [
    "# Flattening a nested linked list\n",
    "Suppose you have a linked list where the value of each node is a sorted linked list (i.e., it is a nested list). Your task is to flatten this nested list—that is, to combine all nested lists into a single (sorted) linked list.\n",
    "\n",
    "First, we'll need some code for generating nodes and a linked list:"
   ]
  },
  {
   "cell_type": "code",
   "execution_count": 1,
   "metadata": {},
   "outputs": [],
   "source": [
    "# Use this class as the nodes in your linked list\n",
    "class Node:\n",
    "    def __init__(self, value):\n",
    "        self.value = value\n",
    "        self.next = None\n",
    "\n",
    "    def __repr__(self):\n",
    "        return str(self.value)\n",
    "\n",
    "\n",
    "class LinkedList:\n",
    "    def __init__(self, head):\n",
    "        self.head = head\n",
    "\n",
    "    def append(self, value):\n",
    "        if self.head is None:\n",
    "            self.head = Node(value)\n",
    "            return\n",
    "        node = self.head\n",
    "        while node.next is not None:\n",
    "            node = node.next\n",
    "        node.next = Node(value)\n",
    "\n",
    "    def flatten_deep(self):\n",
    "        value_list = []\n",
    "        node = self.head\n",
    "\n",
    "        while node.next is not None:\n",
    "            value_list.append(node.value)\n",
    "            node = node.next\n",
    "        value_list.append(node.value)\n",
    "        return value_list"
   ]
  },
  {
   "attachments": {},
   "cell_type": "markdown",
   "metadata": {},
   "source": [
    "Now, in the cell below, see if you can solve the problem by implementing the flatten method.\n",
    "\n",
    "`Hint`: If you first create a merge method that merges two linked lists into a sorted linked list, then there is an elegant recursive solution."
   ]
  },
  {
   "cell_type": "code",
   "execution_count": 60,
   "metadata": {},
   "outputs": [],
   "source": [
    "def merge(list1, list2):\n",
    "    # TODO: Implement this function so that it merges the two linked lists in a single, sorted linked list.\n",
    "    mergeLinked=LinkedList(None)\n",
    "    if list1 == None:\n",
    "        return list2\n",
    "    if list1.head==None  :\n",
    "        return list2\n",
    "\n",
    "    if list2 == None:\n",
    "        return list1\n",
    "    if list2.head==None : \n",
    "        return list2\n",
    "    nodelist1=list1.head\n",
    "    nodelist2=list2.head\n",
    "    value_list1=[]\n",
    "    value_list2=[]\n",
    "    while  nodelist1 :\n",
    "        value_list1.append(nodelist1.value)\n",
    "        nodelist1=nodelist1.next\n",
    "    while  nodelist2 :\n",
    "        value_list2.append(nodelist2.value)\n",
    "        nodelist2=nodelist2.next\n",
    "    mergelist=value_list1+value_list2\n",
    "    mergelist=sorted(mergelist)\n",
    "    mergeLinked.head=Node(mergelist[0])\n",
    "    node=mergeLinked.head\n",
    "\n",
    "    for idx in range(1,len(mergelist)):\n",
    "        node.next=Node(mergelist[idx])\n",
    "        node=node.next\n",
    "    return mergeLinked"
   ]
  },
  {
   "cell_type": "code",
   "execution_count": 62,
   "metadata": {},
   "outputs": [
    {
     "name": "stdout",
     "output_type": "stream",
     "text": [
      "1\n",
      "2\n",
      "3\n",
      "4\n",
      "5\n"
     ]
    }
   ],
   "source": [
    "linked_list = LinkedList(Node(1))\n",
    "linked_list.append(3)\n",
    "linked_list.append(5)\n",
    "\n",
    "second_linked_list = LinkedList(Node(2))\n",
    "second_linked_list.append(4)\n",
    "\n",
    "merged = merge(linked_list, second_linked_list)\n",
    "# print(merged)\n",
    "node = merged.head\n",
    "while node is not None:\n",
    "    #This will print 1 2 3 4 5\n",
    "    print(node.value)\n",
    "    node = node.next\n",
    "    \n",
    "# Lets make sure it works with a None list\n",
    "merged = merge(None, linked_list)\n",
    "node = merged.head\n",
    "while node is not None:\n",
    "    #This will print 1 2 3 4 5\n",
    "    print(node.value)\n",
    "    node = node.next"
   ]
  },
  {
   "attachments": {},
   "cell_type": "markdown",
   "metadata": {},
   "source": [
    "Here's some code that will generate a nested linked list that we can use to test the solution:"
   ]
  },
  {
   "cell_type": "code",
   "execution_count": 4,
   "metadata": {},
   "outputs": [],
   "source": [
    "linked_list = LinkedList(Node(1))\n",
    "linked_list.append(3)\n",
    "linked_list.append(5)\n",
    "\n",
    "second_linked_list = LinkedList(Node(2))\n",
    "second_linked_list.append(4)\n",
    "\n",
    "nested_linked_list = NestedLinkedList(Node(linked_list))\n",
    "nested_linked_list.append(second_linked_list)"
   ]
  },
  {
   "cell_type": "code",
   "execution_count": 8,
   "metadata": {},
   "outputs": [
    {
     "data": {
      "text/plain": [
       "[1, 3, 5]"
      ]
     },
     "execution_count": 8,
     "metadata": {},
     "output_type": "execute_result"
    }
   ],
   "source": [
    "linked_list.flatten_deep()"
   ]
  },
  {
   "cell_type": "code",
   "execution_count": 7,
   "metadata": {},
   "outputs": [
    {
     "data": {
      "text/plain": [
       "[2, 4]"
      ]
     },
     "execution_count": 7,
     "metadata": {},
     "output_type": "execute_result"
    }
   ],
   "source": [
    "second_linked_list.flatten_deep()"
   ]
  },
  {
   "attachments": {},
   "cell_type": "markdown",
   "metadata": {},
   "source": [
    "`Structure : `\n",
    "\n",
    "nested_linked_list should now have 2 nodes. The head node is a linked list containing `1, 3, 5.` The second node is a linked list containing `2, 4.`\n",
    "\n",
    "Calling `flatten` should return a linked list containing `1, 2, 3, 4, 5.`"
   ]
  },
  {
   "cell_type": "code",
   "execution_count": 5,
   "metadata": {},
   "outputs": [],
   "source": [
    "solution = nested_linked_list.flatten()\n",
    "assert solution == [1,2,3,4,5]"
   ]
  },
  {
   "attachments": {},
   "cell_type": "markdown",
   "metadata": {},
   "source": [
    "`Solution`\n",
    "\n",
    "First, let's implement a `merge` function that takes in two linked lists and returns one sorted linked list. Note, this implementation expects both linked lists to be sorted.\n",
    "\n"
   ]
  },
  {
   "cell_type": "code",
   "execution_count": null,
   "metadata": {},
   "outputs": [],
   "source": [
    "def merge(list1, list2):\n",
    "    merged = LinkedList(None)\n",
    "    if list1 is None:\n",
    "        return list2\n",
    "    if list2 is None:\n",
    "        return list1\n",
    "    list1_elt = list1.head\n",
    "    list2_elt = list2.head\n",
    "    while list1_elt is not None or list2_elt is not None:\n",
    "        if list1_elt is None:\n",
    "            merged.append(list2_elt)\n",
    "            list2_elt = list2_elt.next\n",
    "        elif list2_elt is None:\n",
    "            merged.append(list1_elt)\n",
    "            list1_elt = list1_elt.next\n",
    "        elif list1_elt.value <= list2_elt.value:\n",
    "            merged.append(list1_elt)\n",
    "            list1_elt = list1_elt.next\n",
    "        else:\n",
    "            merged.append(list2_elt)\n",
    "            list2_elt = list2_elt.next\n",
    "    return merged"
   ]
  },
  {
   "attachments": {},
   "cell_type": "markdown",
   "metadata": {},
   "source": [
    "Let's make sure merge works how we expect:"
   ]
  },
  {
   "cell_type": "code",
   "execution_count": 63,
   "metadata": {},
   "outputs": [
    {
     "name": "stdout",
     "output_type": "stream",
     "text": [
      "1\n",
      "2\n",
      "3\n",
      "4\n",
      "5\n",
      "1\n",
      "3\n",
      "5\n"
     ]
    }
   ],
   "source": [
    "linked_list = LinkedList(Node(1))\n",
    "linked_list.append(3)\n",
    "linked_list.append(5)\n",
    "\n",
    "second_linked_list = LinkedList(Node(2))\n",
    "second_linked_list.append(4)\n",
    "\n",
    "merged = merge(linked_list, second_linked_list)\n",
    "node = merged.head\n",
    "while node is not None:\n",
    "    #This will print 1 2 3 4 5\n",
    "    print(node.value)\n",
    "    node = node.next\n",
    "    \n",
    "# Lets make sure it works with a None list\n",
    "merged = merge(None, linked_list)\n",
    "node = merged.head\n",
    "while node is not None:\n",
    "    #This will print 1 2 3 4 5\n",
    "    print(node.value)\n",
    "    node = node.next"
   ]
  },
  {
   "attachments": {},
   "cell_type": "markdown",
   "metadata": {},
   "source": [
    "Now let's implement `flatten` recursively using merge.\n",
    "\n"
   ]
  },
  {
   "cell_type": "code",
   "execution_count": 64,
   "metadata": {},
   "outputs": [],
   "source": [
    "class NestedLinkedList(LinkedList):\n",
    "    def flatten(self):\n",
    "        return self._flatten(self.head)\n",
    "\n",
    "    def _flatten(self, node):\n",
    "        if node.next is None:\n",
    "            return merge(node.value, None)\n",
    "        return merge(node.value, self._flatten(node.next))"
   ]
  },
  {
   "cell_type": "code",
   "execution_count": 65,
   "metadata": {},
   "outputs": [
    {
     "name": "stdout",
     "output_type": "stream",
     "text": [
      "1\n",
      "2\n",
      "3\n",
      "4\n",
      "5\n"
     ]
    }
   ],
   "source": [
    "nested_linked_list = NestedLinkedList(Node(linked_list))\n",
    "nested_linked_list.append(second_linked_list)\n",
    "flattened = nested_linked_list.flatten()\n",
    "\n",
    "node = flattened.head\n",
    "while node is not None:\n",
    "    #This will print 1 2 3 4 5\n",
    "    print(node.value)\n",
    "    node = node.next"
   ]
  },
  {
   "attachments": {},
   "cell_type": "markdown",
   "metadata": {},
   "source": [
    "## Computational Complexity\n",
    "\n",
    "Lets start with the computational complexity of `merge`. Merge takes in two lists. Let's say the lengths of the lists are <math xmlns=\"http://www.w3.org/1998/Math/MathML\">\n",
    "  <msub>\n",
    "    <mi>N</mi>\n",
    "    <mrow data-mjx-texclass=\"ORD\">\n",
    "      <mn>1</mn>\n",
    "    </mrow>\n",
    "  </msub>\n",
    "</math> \n",
    " and <math xmlns=\"http://www.w3.org/1998/Math/MathML\">\n",
    "  <msub>\n",
    "    <mi>N</mi>\n",
    "    <mrow data-mjx-texclass=\"ORD\">\n",
    "      <mn>2</mn>\n",
    "    </mrow>\n",
    "  </msub>\n",
    "</math>\n",
    ". Because we assume the inputs are sorted, `merge` is very efficient. It looks at the first element of each list and adds the smaller one to the returned list. Every time through the loop we are appending one element to the list, so it will take <math xmlns=\"http://www.w3.org/1998/Math/MathML\">\n",
    "  <msub>\n",
    "    <mi>N</mi>\n",
    "    <mrow data-mjx-texclass=\"ORD\">\n",
    "      <mn>1</mn>\n",
    "    </mrow>\n",
    "  </msub>\n",
    "  <mo>+</mo>\n",
    "  <msub>\n",
    "    <mi>N</mi>\n",
    "    <mrow data-mjx-texclass=\"ORD\">\n",
    "      <mn>2</mn>\n",
    "    </mrow>\n",
    "  </msub>\n",
    "</math>\n",
    "iterations until we have the whole list."
   ]
  },
  {
   "attachments": {},
   "cell_type": "markdown",
   "metadata": {},
   "source": [
    "\n",
    "The complexity of flatten is a little more complicated to calculate. Suppose our `NestedLinkedList` has <math xmlns=\"http://www.w3.org/1998/Math/MathML\">\n",
    "  <mi>N</mi>\n",
    "</math>  linked lists and each list's length is represented by <math xmlns=\"http://www.w3.org/1998/Math/MathML\">\n",
    "  <msub><mi>M</mi><mrow data-mjx-texclass=\"ORD\"><mn>1</mn></mrow></msub>\n",
    "  <mo>,</mo>\n",
    "  <msub>\n",
    "    <mi>M</mi>\n",
    "    <mrow data-mjx-texclass=\"ORD\">\n",
    "      <mn>2</mn>\n",
    "    </mrow>\n",
    "  </msub>\n",
    "  <mo>,</mo>\n",
    "  <mo>.</mo>\n",
    "  <mo>.</mo>\n",
    "  <mo>.</mo>\n",
    "  <mo>,</mo>\n",
    "  <msub>\n",
    "    <mi>M</mi>\n",
    "    <mrow data-mjx-texclass=\"ORD\">\n",
    "      <mi>N</mi>\n",
    "    </mrow>\n",
    "  </msub>\n",
    "</math> \n",
    "\n",
    "\n",
    "We can represent this recursion as:\n",
    "<math xmlns=\"http://www.w3.org/1998/Math/MathML\">\n",
    "  <mi>m</mi>\n",
    "  <mi>e</mi>\n",
    "  <mi>r</mi>\n",
    "  <mi>g</mi>\n",
    "  <mi>e</mi>\n",
    "  <mo stretchy=\"false\">(</mo>\n",
    "  <msub>\n",
    "    <mi>M</mi>\n",
    "    <mrow data-mjx-texclass=\"ORD\">\n",
    "      <mn>1</mn>\n",
    "    </mrow>\n",
    "  </msub>\n",
    "  <mo>,</mo>\n",
    "  <mi>m</mi>\n",
    "  <mi>e</mi>\n",
    "  <mi>r</mi>\n",
    "  <mi>g</mi>\n",
    "  <mi>e</mi>\n",
    "  <mo stretchy=\"false\">(</mo>\n",
    "  <msub>\n",
    "    <mi>M</mi>\n",
    "    <mrow data-mjx-texclass=\"ORD\">\n",
    "      <mn>2</mn>\n",
    "    </mrow>\n",
    "  </msub>\n",
    "  <mo>,</mo>\n",
    "  <mi>m</mi>\n",
    "  <mi>e</mi>\n",
    "  <mi>r</mi>\n",
    "  <mi>g</mi>\n",
    "  <mi>e</mi>\n",
    "  <mo stretchy=\"false\">(</mo>\n",
    "  <mo>.</mo>\n",
    "  <mo>.</mo>\n",
    "  <mo>.</mo>\n",
    "  <mo>,</mo>\n",
    "  <mi>m</mi>\n",
    "  <mi>e</mi>\n",
    "  <mi>r</mi>\n",
    "  <mi>g</mi>\n",
    "  <mi>e</mi>\n",
    "  <mo stretchy=\"false\">(</mo>\n",
    "  <msub>\n",
    "    <mi>M</mi>\n",
    "    <mrow data-mjx-texclass=\"ORD\">\n",
    "      <mi>N</mi>\n",
    "      <mo>&#x2212;</mo>\n",
    "      <mn>1</mn>\n",
    "    </mrow>\n",
    "  </msub>\n",
    "  <mo>,</mo>\n",
    "  <mi>m</mi>\n",
    "  <mi>e</mi>\n",
    "  <mi>r</mi>\n",
    "  <mi>g</mi>\n",
    "  <mi>e</mi>\n",
    "  <mo stretchy=\"false\">(</mo>\n",
    "  <msub>\n",
    "    <mi>M</mi>\n",
    "    <mrow data-mjx-texclass=\"ORD\">\n",
    "      <mi>N</mi>\n",
    "    </mrow>\n",
    "  </msub>\n",
    "  <mo>,</mo>\n",
    "  <mi>N</mi>\n",
    "  <mi>o</mi>\n",
    "  <mi>n</mi>\n",
    "  <mi>e</mi>\n",
    "  <mo stretchy=\"false\">)</mo>\n",
    "  <mo stretchy=\"false\">)</mo>\n",
    "  <mo stretchy=\"false\">)</mo>\n",
    "  <mo stretchy=\"false\">)</mo>\n",
    "  <mo stretchy=\"false\">)</mo>\n",
    "</math>\n",
    "\n",
    "\n",
    "Let's start from the inside. The inner most merge returns the <math xmlns=\"http://www.w3.org/1998/Math/MathML\">\n",
    "  <mi>n</mi>\n",
    "  <mi>t</mi>\n",
    "  <mi>h</mi>\n",
    "</math>  linked list. The next merge does  <math xmlns=\"http://www.w3.org/1998/Math/MathML\">\n",
    "  <msub>\n",
    "    <mi>M</mi>\n",
    "    <mrow data-mjx-texclass=\"ORD\">\n",
    "      <mi>N</mi>\n",
    "      <mo>&#x2212;</mo>\n",
    "      <mn>1</mn>\n",
    "    </mrow>\n",
    "  </msub>\n",
    "  <mo>+</mo>\n",
    "  <msub>\n",
    "    <mi>M</mi>\n",
    "    <mrow data-mjx-texclass=\"ORD\">\n",
    "      <mi>N</mi>\n",
    "    </mrow>\n",
    "  </msub>\n",
    "</math>  comparisons. The next merge does <math xmlns=\"http://www.w3.org/1998/Math/MathML\">\n",
    "  <msub>\n",
    "    <mi>M</mi>\n",
    "    <mrow data-mjx-texclass=\"ORD\">\n",
    "      <mi>N</mi>\n",
    "      <mo>&#x2212;</mo>\n",
    "      <mn>2</mn>\n",
    "    </mrow>\n",
    "  </msub>\n",
    "  <mo>+</mo>\n",
    "  <msub>\n",
    "    <mi>M</mi>\n",
    "    <mrow data-mjx-texclass=\"ORD\">\n",
    "      <mi>N</mi>\n",
    "      <mo>&#x2212;</mo>\n",
    "      <mn>1</mn>\n",
    "    </mrow>\n",
    "  </msub>\n",
    "  <mo>+</mo>\n",
    "  <msub>\n",
    "    <mi>M</mi>\n",
    "    <mrow data-mjx-texclass=\"ORD\">\n",
    "      <mi>N</mi>\n",
    "    </mrow>\n",
    "  </msub>\n",
    "</math> \n",
    " comparisons. \n",
    "\n",
    "\n",
    "Eventually we will do  <math xmlns=\"http://www.w3.org/1998/Math/MathML\">\n",
    "  <mi>N</mi>\n",
    "</math>  comparisons on all of the <math xmlns=\"http://www.w3.org/1998/Math/MathML\">\n",
    "  <mi>M</mi>\n",
    "</math> \n",
    " elements. We will do  <math xmlns=\"http://www.w3.org/1998/Math/MathML\">\n",
    "  <mi>N</mi>\n",
    "  <mo>&#x2212;</mo>\n",
    "  <mn>1</mn>\n",
    "</math> comparisons on <math xmlns=\"http://www.w3.org/1998/Math/MathML\">\n",
    "  <msub>\n",
    "    <mi>M</mi>\n",
    "    <mrow data-mjx-texclass=\"ORD\">\n",
    "      <mi>N</mi>\n",
    "      <mo>&#x2212;</mo>\n",
    "      <mn>1</mn>\n",
    "    </mrow>\n",
    "  </msub>\n",
    "</math> \n",
    " elements.\n",
    "\n",
    "This can be generalized as:\n",
    "\n",
    "\n",
    "<math xmlns=\"http://www.w3.org/1998/Math/MathML\" display=\"block\">\n",
    "  <munderover>\n",
    "    <mo data-mjx-texclass=\"OP\">&#x2211;</mo>\n",
    "    <mi>n</mi>\n",
    "    <mi>N</mi>\n",
    "  </munderover>\n",
    "  <mi>n</mi>\n",
    "  <mo>&#x2217;</mo>\n",
    "  <msub>\n",
    "    <mi>M</mi>\n",
    "    <mrow data-mjx-texclass=\"ORD\">\n",
    "      <mi>n</mi>\n",
    "    </mrow>\n",
    "  </msub>\n",
    "</math>\n",
    "\n",
    "\n"
   ]
  },
  {
   "cell_type": "markdown",
   "metadata": {},
   "source": []
  }
 ],
 "metadata": {
  "kernelspec": {
   "display_name": "Python 3",
   "language": "python",
   "name": "python3"
  },
  "language_info": {
   "codemirror_mode": {
    "name": "ipython",
    "version": 3
   },
   "file_extension": ".py",
   "mimetype": "text/x-python",
   "name": "python",
   "nbconvert_exporter": "python",
   "pygments_lexer": "ipython3",
   "version": "3.8.10"
  },
  "orig_nbformat": 4,
  "vscode": {
   "interpreter": {
    "hash": "e7370f93d1d0cde622a1f8e1c04877d8463912d04d973331ad4851f04de6915a"
   }
  }
 },
 "nbformat": 4,
 "nbformat_minor": 2
}
