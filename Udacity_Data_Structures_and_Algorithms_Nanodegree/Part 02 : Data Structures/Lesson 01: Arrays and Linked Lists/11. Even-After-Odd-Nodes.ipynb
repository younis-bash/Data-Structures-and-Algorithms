{
 "cells": [
  {
   "attachments": {},
   "cell_type": "markdown",
   "id": "cd7abbc2",
   "metadata": {},
   "source": [
    "## Problem Statement\n",
    "Given a linked list with integer data, arrange the elements in such a manner that all nodes with even numbers are placed after odd numbers. D**o not create any new nodes and avoid using any other data structure. The relative order of even and odd elements must not change.**\n",
    "\n",
    "**Example:**\n",
    "\n",
    "* linked list = 1 2 3 4 5 6\n",
    "* output = 1 3 5 2 4 6"
   ]
  },
  {
   "cell_type": "code",
   "execution_count": 53,
   "metadata": {},
   "outputs": [],
   "source": [
    "class Node():\n",
    "    def __init__(self, value):\n",
    "        self.data=value\n",
    "        self.next=None        "
   ]
  },
  {
   "cell_type": "code",
   "execution_count": 6,
   "id": "4865d5b7",
   "metadata": {},
   "outputs": [],
   "source": [
    "class LinkedList():\n",
    "    def __init__(self):\n",
    "        self.head=None\n",
    "\n",
    "    def append(self, value):\n",
    "        if self.head == None :\n",
    "            self.head=Node(value)\n",
    "            return\n",
    "        node=self.head\n",
    "        while node.next:\n",
    "            node=node.next\n",
    "\n",
    "        node.next=Node(value)\n",
    "\n",
    "    def to_list(self):\n",
    "        if self.head == None :\n",
    "            return \"the linked list is empty\"\n",
    "\n",
    "        node=self.head\n",
    "        result=[]\n",
    "        while node : \n",
    "            result.append(node.value)\n",
    "            node=node.next\n",
    "        return result    \n",
    "        "
   ]
  },
  {
   "cell_type": "code",
   "execution_count": null,
   "id": "3e188684",
   "metadata": {},
   "outputs": [],
   "source": []
  },
  {
   "cell_type": "code",
   "execution_count": 7,
   "id": "f6a72735",
   "metadata": {},
   "outputs": [
    {
     "name": "stdout",
     "output_type": "stream",
     "text": [
      "[5, 3, 2]\n"
     ]
    }
   ],
   "source": [
    "linked_list = LinkedList()\n",
    "linked_list.append(5)\n",
    "linked_list.append(3)\n",
    "linked_list.append(2)\n",
    "print(linked_list.to_list())\n"
   ]
  },
  {
   "cell_type": "code",
   "execution_count": 54,
   "id": "7dc4f6f0",
   "metadata": {},
   "outputs": [],
   "source": [
    "# Solution\n",
    "def even_after_odd(head):\n",
    "    \n",
    "    if head is None:\n",
    "        return head\n",
    "    \n",
    "    even = None\n",
    "    odd = None\n",
    "    even_tail = None\n",
    "    odd_tail = None\n",
    "    \n",
    "    while head:\n",
    "        next_node = head.next\n",
    "        \n",
    "        if head.data % 2 == 0:\n",
    "            if even is None:\n",
    "                even = head\n",
    "                even_tail = even\n",
    "            else:\n",
    "                even_tail.next = head\n",
    "                even_tail = even_tail.next\n",
    "        else:\n",
    "            if odd is None:\n",
    "                odd = head\n",
    "                odd_tail = odd\n",
    "            else:\n",
    "                odd_tail.next = head\n",
    "                odd_tail = odd_tail.next\n",
    "        head.next = None\n",
    "        head = next_node\n",
    "    \n",
    "    if odd is None:\n",
    "        return even\n",
    "    odd_tail.next = even\n",
    "    return odd"
   ]
  },
  {
   "cell_type": "code",
   "execution_count": 55,
   "id": "6dbf7da0",
   "metadata": {},
   "outputs": [],
   "source": [
    "def even_after_odd(head):\n",
    "    if head is None :\n",
    "        return head \n",
    "      \n",
    "    odd=None\n",
    "    even=None\n",
    "    odd_tail=None\n",
    "    even_tail=None\n",
    "    \n",
    "    while head : \n",
    "        next_node = head.next \n",
    "\n",
    "        if head.data % 2 == 1 :\n",
    "            if odd is None : \n",
    "                odd=head \n",
    "                odd_tail=odd\n",
    "            else : \n",
    "                odd_tail.next=head\n",
    "                odd_tail=odd_tail.next\n",
    "        \n",
    "        if next_node.data % 2 ==0 : \n",
    "            if even is None :\n",
    "                even = head\n",
    "                even_tail=even\n",
    "            else: \n",
    "                even_tail.next=head\n",
    "                even_tail=even_tail.next\n",
    "             \n",
    "        head.next=None\n",
    "        head=next_node\n",
    "        if odd == None : \n",
    "            return even \n",
    "            \n",
    "        odd_tail.next=even\n",
    "        return odd"
   ]
  },
  {
   "cell_type": "code",
   "execution_count": 56,
   "id": "bdaa73ea",
   "metadata": {},
   "outputs": [],
   "source": [
    "# helper functions for testing purpose\n",
    "def create_linked_list(arr):\n",
    "    if len(arr)==0:\n",
    "        return None\n",
    "    head = Node(arr[0])\n",
    "    tail = head\n",
    "    for data in arr[1:]:\n",
    "        tail.next = Node(data)\n",
    "        tail = tail.next\n",
    "    return head\n",
    "\n",
    "def print_linked_list(head):\n",
    "    while head:\n",
    "        print(head.data, end=' ')\n",
    "        head = head.next\n",
    "    print()"
   ]
  },
  {
   "cell_type": "code",
   "execution_count": 57,
   "id": "fc0e3c86",
   "metadata": {},
   "outputs": [],
   "source": [
    "arr = [1, 2, 3, 4, 5, 6]\n",
    "solution = [1, 3, 5, 2, 4, 6]\n",
    "\n",
    "head = create_linked_list(arr)"
   ]
  },
  {
   "cell_type": "code",
   "execution_count": 58,
   "id": "9dd79d20",
   "metadata": {},
   "outputs": [],
   "source": [
    "def test_function(test_case):\n",
    "    head = test_case[0]\n",
    "    solution = test_case[1]\n",
    "    \n",
    "    node_tracker = dict({})\n",
    "    node_tracker['nodes'] = list()\n",
    "    temp = head\n",
    "    while temp:\n",
    "        node_tracker['nodes'].append(temp)\n",
    "        temp = temp.next\n",
    "\n",
    "    head = even_after_odd(head)    \n",
    "    temp = head\n",
    "    index = 0\n",
    "    try:\n",
    "        while temp:\n",
    "            if temp.data != solution[index] or temp not in node_tracker['nodes']:\n",
    "                print(\"Fail\")\n",
    "                return\n",
    "            temp = temp.next\n",
    "            index += 1\n",
    "        print(\"Pass\")            \n",
    "    except Exception as e:\n",
    "        print(\"Fail\")"
   ]
  },
  {
   "cell_type": "code",
   "execution_count": 59,
   "id": "d5e118eb",
   "metadata": {},
   "outputs": [
    {
     "name": "stdout",
     "output_type": "stream",
     "text": [
      "Fail\n",
      "Pass\n",
      "Pass\n"
     ]
    }
   ],
   "source": [
    "arr = [1, 2, 3, 4, 5, 6]\n",
    "solution = [1, 3, 5, 2, 4, 6]\n",
    "\n",
    "head = create_linked_list(arr)\n",
    "test_case = [head, solution]\n",
    "test_function(test_case)\n",
    "\n",
    "arr = [1, 3, 5, 7]\n",
    "solution = [1, 3, 5, 7]\n",
    "\n",
    "head = create_linked_list(arr)\n",
    "test_case = [head, solution]\n",
    "test_function(test_case)\n",
    "\n",
    "arr = [2, 4, 6, 8]\n",
    "solution = [2, 4, 6, 8]\n",
    "head = create_linked_list(arr)\n",
    "test_case = [head, solution]\n",
    "test_function(test_case)"
   ]
  }
 ],
 "metadata": {
  "kernelspec": {
   "display_name": "Python 3",
   "language": "python",
   "name": "python3"
  },
  "language_info": {
   "codemirror_mode": {
    "name": "ipython",
    "version": 3
   },
   "file_extension": ".py",
   "mimetype": "text/x-python",
   "name": "python",
   "nbconvert_exporter": "python",
   "pygments_lexer": "ipython3",
   "version": "3.8.10"
  },
  "vscode": {
   "interpreter": {
    "hash": "e7370f93d1d0cde622a1f8e1c04877d8463912d04d973331ad4851f04de6915a"
   }
  }
 },
 "nbformat": 4,
 "nbformat_minor": 5
}
